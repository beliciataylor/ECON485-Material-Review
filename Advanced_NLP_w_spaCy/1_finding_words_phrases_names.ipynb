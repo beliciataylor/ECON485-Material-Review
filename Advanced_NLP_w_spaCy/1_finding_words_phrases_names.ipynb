{
 "metadata": {
  "language_info": {
   "codemirror_mode": {
    "name": "ipython",
    "version": 3
   },
   "file_extension": ".py",
   "mimetype": "text/x-python",
   "name": "python",
   "nbconvert_exporter": "python",
   "pygments_lexer": "ipython3",
   "version": "3.7.4-final"
  },
  "orig_nbformat": 2,
  "kernelspec": {
   "name": "python3",
   "display_name": "Python 3",
   "language": "python"
  }
 },
 "nbformat": 4,
 "nbformat_minor": 2,
 "cells": [
  {
   "source": [
    "# Chapter 1: Finding words, phrases, names, and concepts\n",
    "\n",
    "**Sections**\n",
    "\n",
    "1. Introducting to spaCy \n",
    "2. Getting Started \n",
    "3. Documents, spans and tokens \n",
    "4. Lexical attributes \n",
    "5. Statistical models \n",
    "6. Model packages \n",
    "7. Loading models \n",
    "8. Predicting linguistic annotations \n",
    "9. Predicting named entities in context \n",
    "10. Rule-based matching \n",
    "11. Using the Matcher \n",
    "12. Writing match patterns"
   ],
   "cell_type": "markdown",
   "metadata": {}
  },
  {
   "source": [
    "## 1. Introduction to spaCy"
   ],
   "cell_type": "markdown",
   "metadata": {}
  },
  {
   "source": [
    "### The nlp object\n",
    "\n",
    "* contains the processing pipeline\n",
    "* includes language-specific rules for tokenization etc.\n",
    "\n",
    "**Notes**\n",
    "* center of spacy: object containing the processing pipeline, usually called `nlp`\n",
    "* Ex. to create English `nlp` object, import `English` language class from `spacy.lang.en` and instantiate it\n",
    "* you can also use nlp object like a function to analyze text\n",
    "* `nlp` contains all the different components in the pipeline\n",
    "* also includes language-specific rules used for tokenizing the text into words and punctuation\n",
    "* spaCy supports a variety of languages that are available in `spacy.lang`"
   ],
   "cell_type": "markdown",
   "metadata": {}
  },
  {
   "cell_type": "code",
   "execution_count": 2,
   "metadata": {},
   "outputs": [],
   "source": [
    "# Import the English language class\n",
    "from spacy.lang.en import English\n",
    "\n",
    "# Create the nlp object\n",
    "nlp = English()"
   ]
  },
  {
   "source": [
    "### The Doc object\n",
    "* when you process text with `nlp` object, spaCy creates a `Doc` object, short for \"document\"\n",
    "* the Doc allows you to access information about the text in a structured way, and no information is lost\n",
    "* the Doc behaves like a normal Python sequence & lets you iterate over its tokens, or get a token by its index"
   ],
   "cell_type": "markdown",
   "metadata": {}
  },
  {
   "cell_type": "code",
   "execution_count": 3,
   "metadata": {},
   "outputs": [
    {
     "output_type": "stream",
     "name": "stdout",
     "text": [
      "Hello\nworld\n!\n"
     ]
    }
   ],
   "source": [
    "# Created by processing a string of text with the nlp object\n",
    "doc = nlp(\"Hello world!\")\n",
    "\n",
    "# Iterate over tokens in a Doc\n",
    "for token in doc:\n",
    "    print(token.text)"
   ]
  },
  {
   "source": [
    "### The Token object\n",
    "* `Token` objects represent the tokens in a document\n",
    "    - EX. a word or a punctuation character\n",
    "* to get a token at a specific position, you can index into the doc\n",
    "* `Token` objects also provide various attributes that let you access more information about the tokens"
   ],
   "cell_type": "markdown",
   "metadata": {}
  },
  {
   "cell_type": "code",
   "execution_count": 4,
   "metadata": {},
   "outputs": [
    {
     "output_type": "stream",
     "name": "stdout",
     "text": [
      "world\n"
     ]
    }
   ],
   "source": [
    "doc = nlp(\"Hello world!\")\n",
    "\n",
    "# Index into the Doc to get a single Token\n",
    "token = doc[1]\n",
    "\n",
    "# Get the token text via the .text attribute\n",
    "print(token.text)"
   ]
  },
  {
   "source": [
    "### The Span object\n",
    "* a `Span` object is a slice of the document consisting of one or more tokens\n",
    "* it's only a view of the `Doc` and doesn't contain any data itself\n",
    "* to create a span, you can use Python's slice notation\n",
    "    - EX. `1:3` will create a slice starting from the token at position 1 up to (but not including) the token at pos 3"
   ],
   "cell_type": "markdown",
   "metadata": {}
  },
  {
   "cell_type": "code",
   "execution_count": 5,
   "metadata": {},
   "outputs": [
    {
     "output_type": "stream",
     "name": "stdout",
     "text": [
      "world!\n"
     ]
    }
   ],
   "source": [
    "doc = nlp(\"Hello world!\")\n",
    "\n",
    "# A slice from the Doc is a Span object\n",
    "span = doc[1:3]\n",
    "\n",
    "# Get the span text via the .text attribute\n",
    "print(span.text)"
   ]
  },
  {
   "source": [
    "### Lexical Attributes\n",
    "* some of the available token attributes\n",
    "    - `i`: index of the token within the parent document\n",
    "    - `text`: returns the token text\n",
    "    - `is_alpha`, `is_punct`, and `like_num` return boolean values indicating whether the token consists of alphabetic characters, whether it's punctuation or whether it resembles a number\n",
    "    - EX. a token \"10\" or the word \"ten\"\n",
    "* these attributes are also called lexical attributes, which refer to the entry in the vocabulary and don't depend on the token's context"
   ],
   "cell_type": "markdown",
   "metadata": {}
  },
  {
   "cell_type": "code",
   "execution_count": 7,
   "metadata": {},
   "outputs": [
    {
     "output_type": "stream",
     "name": "stdout",
     "text": [
      "Index:  [0, 1, 2, 3, 4]\nText:  ['It', 'costs', '$', '5', '.']\nis_alpha:  [True, True, False, False, False]\nis_punct:  [False, False, False, False, True]\nlike_num:  [False, False, False, True, False]\n"
     ]
    }
   ],
   "source": [
    "doc = nlp(\"It costs $5.\")\n",
    "\n",
    "print(\"Index: \", [token.i for token in doc])\n",
    "print(\"Text: \", [token.text for token in doc])\n",
    "\n",
    "print(\"is_alpha: \", [token.is_alpha for token in doc])\n",
    "print(\"is_punct: \", [token.is_punct for token in doc])\n",
    "print(\"like_num: \", [token.like_num for token in doc])"
   ]
  },
  {
   "source": [
    "## 2. Getting Started"
   ],
   "cell_type": "markdown",
   "metadata": {}
  },
  {
   "cell_type": "code",
   "execution_count": 1,
   "metadata": {},
   "outputs": [
    {
     "output_type": "stream",
     "name": "stdout",
     "text": [
      "This is a sentence.\n"
     ]
    }
   ],
   "source": [
    "# Part 1: English\n",
    "# Import the English language class\n",
    "from spacy.lang.en import English\n",
    "\n",
    "# Create the nlp object\n",
    "nlp = English()\n",
    "\n",
    "# Process a text\n",
    "doc = nlp(\"This is a sentence.\")\n",
    "\n",
    "# Print the document text\n",
    "print(doc.text)"
   ]
  },
  {
   "cell_type": "code",
   "execution_count": 2,
   "metadata": {},
   "outputs": [
    {
     "output_type": "stream",
     "name": "stdout",
     "text": [
      "Liebe Grüße!\n"
     ]
    }
   ],
   "source": [
    "# Part 2: German\n",
    "# Import the German language class\n",
    "from spacy.lang.de import German\n",
    "\n",
    "# Create the nlp object\n",
    "nlp = German()\n",
    "\n",
    "# Process a text (this is German for: \"Kind regards!\")\n",
    "doc = nlp(\"Liebe Grüße!\")\n",
    "\n",
    "# Print the document text\n",
    "print(doc.text)"
   ]
  },
  {
   "cell_type": "code",
   "execution_count": 3,
   "metadata": {},
   "outputs": [
    {
     "output_type": "stream",
     "name": "stdout",
     "text": [
      "¿Cómo estás?\n"
     ]
    }
   ],
   "source": [
    "# Part 3: Spanish\n",
    "# Import the Spanish language class\n",
    "from spacy.lang.es import Spanish\n",
    "\n",
    "# Create the nlp object\n",
    "nlp = Spanish()\n",
    "\n",
    "# Process a text (this is Spanish for: \"How are you?\")\n",
    "doc = nlp(\"¿Cómo estás?\")\n",
    "\n",
    "# Print the document text\n",
    "print(doc.text)"
   ]
  },
  {
   "source": [
    "## 3. Documents, spans, and tokens\n",
    "\n",
    "When you call `nlp` on a string, spaCy first tokenizes the texts and then\n",
    "creates a document object.\n",
    "\n",
    "Step 1\n",
    "* Import English language class and create the `nlp` object\n",
    "* Process the text and instantiate a `Doc` object in the variable `doc`\n",
    "* Select the first token of the `Doc` and print its `text`"
   ],
   "cell_type": "markdown",
   "metadata": {}
  },
  {
   "cell_type": "code",
   "execution_count": 4,
   "metadata": {},
   "outputs": [
    {
     "output_type": "stream",
     "name": "stdout",
     "text": [
      "I\n"
     ]
    }
   ],
   "source": [
    "# Import the English language class and create the nlp object\n",
    "from spacy.lang.en import English\n",
    "\n",
    "nlp = English()\n",
    "\n",
    "# Process the text\n",
    "doc = nlp(\"I like tree kangaroos and narwhals.\")\n",
    "\n",
    "# Select the first token\n",
    "first_token = doc[0]\n",
    "\n",
    "# Print the first token's text\n",
    "print(first_token.text)"
   ]
  },
  {
   "source": [
    "Step 2\n",
    "* Import the `English` language class and create the `nlp` object\n",
    "* Process the text and instantiate a `Doc` object in the variable `doc`\n",
    "* Create a slice of the `Doc` for the tokens \"tree kangaroos\" and \"tree kangaroos and narwhals\""
   ],
   "cell_type": "markdown",
   "metadata": {}
  },
  {
   "cell_type": "code",
   "execution_count": 5,
   "metadata": {},
   "outputs": [
    {
     "output_type": "stream",
     "name": "stdout",
     "text": [
      "tree kangaroos\ntree kangaroos and narwhals\n"
     ]
    }
   ],
   "source": [
    "# Import the English language class and create the nlp object\n",
    "from spacy.lang.en import English\n",
    "\n",
    "nlp = English()\n",
    "\n",
    "# Process the text\n",
    "doc = nlp(\"I like tree kangaroos and narwhals.\")\n",
    "\n",
    "# A slice of the Doc for \"tree kangaroos\"\n",
    "tree_kangaroos = doc[2:4]\n",
    "print(tree_kangaroos.text)\n",
    "\n",
    "# A slice of the Doc for \"tree kangaroos and narwhals\" (without the \".\")\n",
    "tree_kangaroos_and_narwhals = doc[2:6]\n",
    "print(tree_kangaroos_and_narwhals.text)"
   ]
  },
  {
   "source": [
    "## 4. Lexical Attributes\n",
    "\n",
    "Use `Doc` and `Token' objects and lexical attributes to find percentages in a\n",
    "text. In this example, we'll look for two subsequent tokens: a number and a\n",
    "percentage sign\n",
    "\n",
    "* Use the `like_num` token attribute to check whether a token in the `doc`\n",
    "    resembles a number\n",
    "* Get the token following the current token in the document. The index of the\n",
    "    next token in the `doc` is `token.i + 1`\n",
    "* Check whether the next token's `text` attribute is a percent sign \"%\""
   ],
   "cell_type": "markdown",
   "metadata": {}
  },
  {
   "cell_type": "code",
   "execution_count": 6,
   "metadata": {},
   "outputs": [
    {
     "output_type": "stream",
     "name": "stdout",
     "text": [
      "Percentage found: 60\nPercentage found: 4\n"
     ]
    }
   ],
   "source": [
    "from spacy.lang.en import English\n",
    "\n",
    "nlp = English()\n",
    "\n",
    "# Process the text\n",
    "doc = nlp(\n",
    "    \"In 1990, more than 60% of people in East Asia were in extreme poverty. \"\n",
    "    \"Now less than 4% are.\"\n",
    ")\n",
    "\n",
    "# Iterate over the tokens in the doc\n",
    "for token in doc:\n",
    "    # Check if the token resembles a number\n",
    "    if token.like_num:\n",
    "        # Get the next token in the document\n",
    "        next_token = doc[token.i + 1]\n",
    "        # Check if the next token's text equals \"%\"\n",
    "        if next_token.text == \"%\":\n",
    "            print(\"Percentage found:\", token.text)"
   ]
  },
  {
   "source": [
    "## 5. Statistical Models (Video)"
   ],
   "cell_type": "markdown",
   "metadata": {}
  },
  {
   "source": [
    "### What are statistical models?\n",
    "\n",
    "* some of the most interesting things you can analyze are context-specific\n",
    "    - EX. whether a word is a verb or whether a span of text is a person name\n",
    "* statistical models enable spaCy to make predictions in context\n",
    "* usually include part-of-speech tags, syntactic dependencies, and named entities\n",
    "* models are trained on large datasets of labeled example texts\n",
    "* they can be updated w/ more examples to fine-tune their predictions\n",
    "    - EX. perform better on your specific data\n",
    "\n",
    "_slide_ \n",
    "* enable spaCy to predict linguistic attributes in context\n",
    "  - part-of-speech tags\n",
    "  - syntactic dependencies\n",
    "  - named entities\n",
    "* trained on labeled example texts\n",
    "* can be updated with more examples to fine-tune predictions"
   ],
   "cell_type": "markdown",
   "metadata": {}
  },
  {
   "source": [
    "### Model Packages\n",
    "\n",
    "* spaCy provides a number of pre-trained model packages you can download using the `spacy download` command\n",
    "    - EX. `en_core_web_sm` package: small English model that supports all core capabilities and is trained on web text\n",
    "    - `$ python -m spacy download en_core_web_sm`\n",
    "* the `spacy.load` method loads a model package by name and returns an `nlp` object\n",
    "* the package provides the binary weights that enable spaCy to make predictions\n",
    "* also includes the vocabulary and meta information to tell spaCy which language class to use and how to configure the processing pipeline"
   ],
   "cell_type": "markdown",
   "metadata": {}
  },
  {
   "cell_type": "code",
   "execution_count": 8,
   "metadata": {},
   "outputs": [],
   "source": [
    "import spacy\n",
    "\n",
    "nlp = spacy.load(\"en_core_web_sm\")"
   ]
  },
  {
   "source": [
    "### Predicting Part-of-speech Tags\n",
    "* EX. using spaCy to predict part-of-speech tags, the word types in context\n",
    "    - First, we load the small English model and receive an `nlp` object\n",
    "    - Next, we're processing the text \"She ate the pizza\"\n",
    "    - For each token in the doc, we can print the text and the `.pos_` attribute, the predicted part-of-speech tag\n",
    "* attributes that return strings usually end with an underscore\n",
    "* attributes without the underscore return an integer ID value"
   ],
   "cell_type": "markdown",
   "metadata": {}
  },
  {
   "cell_type": "code",
   "execution_count": 1,
   "metadata": {},
   "outputs": [
    {
     "output_type": "stream",
     "name": "stdout",
     "text": [
      "She PRON\nate VERB\nthe DET\npizza NOUN\n"
     ]
    }
   ],
   "source": [
    "import spacy\n",
    "\n",
    "# load the small English model\n",
    "nlp = spacy.load(\"en_core_web_sm\")\n",
    "\n",
    "# Process a text\n",
    "doc = nlp(\"She ate the pizza\")\n",
    "\n",
    "# Iterate over the tokens\n",
    "for token in doc:\n",
    "    # print the text and the predicted part-of-speech tag\n",
    "    print(token.text, token.pos_)"
   ]
  },
  {
   "source": [
    "* in addition to part-of-speech tags, we can also predict how the words are related\n",
    "    - EX. is a word the subject of a sentence or an object?\n",
    "* the `.dep_` attribute returns the predicted dependency label\n",
    "* the `.head` attribute returns the syntactic head token\n",
    "* can also think of it as the parent token this word is attached to"
   ],
   "cell_type": "markdown",
   "metadata": {}
  },
  {
   "cell_type": "code",
   "execution_count": 2,
   "metadata": {},
   "outputs": [
    {
     "output_type": "stream",
     "name": "stdout",
     "text": [
      "She PRON nsubj ate\nate VERB ROOT ate\nthe DET det pizza\npizza NOUN dobj ate\n"
     ]
    }
   ],
   "source": [
    "for token in doc:\n",
    "    print(token.text, token.pos_, token.dep_, token.head.text)"
   ]
  },
  {
   "source": [
    "### Dependency label scheme\n",
    "_Note: Dependency label scheme in video_\n",
    "\n",
    "* to describe syntactic dependencies, spaCy uses a standardized label scheme\n",
    "* EX of some common labels\n",
    "    - the pronoun \"She\" is a nominal subject attached to the verb - in this case, to \"ate\"\n",
    "    - the noun \"pizza\" is a direct object attached to the verb \"ate\"; it is eaten by the subject \"she\"\n",
    "    - the determiner \"the\", also known as an article, is attached to the noun \"pizza\""
   ],
   "cell_type": "markdown",
   "metadata": {}
  },
  {
   "source": [
    "### Predicting Name Entities\n",
    "* named entities are \"real world objects\" that are assigned a name\n",
    "    - EX: a person, an organization, a country\n",
    "* the `doc.ents` property lets you access the named entites predicted by the model\n",
    "* it returns an iterator of `Span` objects so we can print the entity text and the entity label using the `.label_` attribute"
   ],
   "cell_type": "markdown",
   "metadata": {}
  },
  {
   "cell_type": "code",
   "execution_count": 14,
   "metadata": {},
   "outputs": [
    {
     "output_type": "stream",
     "name": "stdout",
     "text": [
      "Apple ORG\nU.K. GPE\n$1 billion MONEY\n"
     ]
    }
   ],
   "source": [
    "# Process a text\n",
    "doc = nlp(\"Apple is looking at buying U.K. startup for $1 billion\")\n",
    "\n",
    "# Iterate over the predicted entities\n",
    "for ent in doc.ents:\n",
    "    # Print the entity text and its labels\n",
    "    print(ent.text, ent.label_)"
   ]
  },
  {
   "source": [
    "### Tip: the spacy.explain method\n",
    "* to get the definition for the most common tags and labels, you can use the `spacy.explain` helper function\n",
    "    - EX: \"GPE\" for geopolitical entity"
   ],
   "cell_type": "markdown",
   "metadata": {}
  },
  {
   "cell_type": "code",
   "execution_count": 15,
   "metadata": {},
   "outputs": [
    {
     "output_type": "execute_result",
     "data": {
      "text/plain": [
       "'Countries, cities, states'"
      ]
     },
     "metadata": {},
     "execution_count": 15
    }
   ],
   "source": [
    "spacy.explain(\"GPE\")"
   ]
  },
  {
   "cell_type": "code",
   "execution_count": 16,
   "metadata": {},
   "outputs": [
    {
     "output_type": "execute_result",
     "data": {
      "text/plain": [
       "'noun, proper singular'"
      ]
     },
     "metadata": {},
     "execution_count": 16
    }
   ],
   "source": [
    "spacy.explain(\"NNP\")"
   ]
  },
  {
   "cell_type": "code",
   "execution_count": 17,
   "metadata": {},
   "outputs": [
    {
     "output_type": "execute_result",
     "data": {
      "text/plain": [
       "'direct object'"
      ]
     },
     "metadata": {},
     "execution_count": 17
    }
   ],
   "source": [
    "spacy.explain(\"dobj\")"
   ]
  },
  {
   "source": [
    "## 6. Model Packages"
   ],
   "cell_type": "markdown",
   "metadata": {}
  },
  {
   "source": [
    "What's not included in a model package that you can load into spaCy?\n",
    "\n",
    "1. A meta file including the language, pipeline, and license\n",
    "\n",
    "2. Binary weights to make statistical predictions\n",
    "\n",
    "3. The labelled data that the model was trained on\n",
    "\n",
    "4. Strings of the model's vocabulary and their hashes\n",
    "\n",
    "Answer: (3)\n",
    "\n",
    "Explanation: Statistical models allow you to generalize based on a set of\n",
    "training examples. Once they're trained, they use binary weights to make\n",
    "predictions. That's why it's not necessary to ship them with their training\n",
    "data."
   ],
   "cell_type": "markdown",
   "metadata": {}
  },
  {
   "source": [
    "## 7. Loading models\n",
    "\n",
    "The models we're using in this course are already pre-installed.\n",
    "\n",
    "* Use `spacy.load` to load the small English model `en_core_web_sm`\n",
    "* Process the text and print the document text"
   ],
   "cell_type": "markdown",
   "metadata": {}
  },
  {
   "cell_type": "code",
   "execution_count": 18,
   "metadata": {},
   "outputs": [
    {
     "output_type": "stream",
     "name": "stdout",
     "text": [
      "It’s official: Apple is the first U.S. public company to reach a $1 trillion market value\n"
     ]
    }
   ],
   "source": [
    "import spacy\n",
    "\n",
    "# Load the \"en_core_web_sm\" model\n",
    "nlp = spacy.load(\"en_core_web_sm\")\n",
    "\n",
    "text = \"It’s official: Apple is the first U.S. public company to reach a $1 trillion market value\"\n",
    "\n",
    "# Process the text\n",
    "doc = nlp(text)\n",
    "\n",
    "# Print the document text\n",
    "print(doc.text)"
   ]
  },
  {
   "source": [
    "## 8. Predicting linguistic annotations"
   ],
   "cell_type": "markdown",
   "metadata": {}
  },
  {
   "source": [
    "### Part 1\n",
    "* process the text with the `nlp` object and create a `doc`\n",
    "* for each token, print the token text, the token's `.pos_` (part-of-speech tag) and the token's `.dep_` (dependency label)"
   ],
   "cell_type": "markdown",
   "metadata": {}
  },
  {
   "cell_type": "code",
   "execution_count": 19,
   "metadata": {},
   "outputs": [
    {
     "output_type": "stream",
     "name": "stdout",
     "text": [
      "It          PRON      nsubj     \n’s          VERB      punct     \nofficial    NOUN      ccomp     \n:           PUNCT     punct     \nApple       PROPN     nsubj     \nis          AUX       ROOT      \nthe         DET       det       \nfirst       ADJ       amod      \nU.S.        PROPN     nmod      \npublic      ADJ       amod      \ncompany     NOUN      attr      \nto          PART      aux       \nreach       VERB      relcl     \na           DET       det       \n$           SYM       quantmod  \n1           NUM       compound  \ntrillion    NUM       nummod    \nmarket      NOUN      compound  \nvalue       NOUN      dobj      \n"
     ]
    }
   ],
   "source": [
    "import spacy\n",
    "\n",
    "nlp = spacy.load(\"en_core_web_sm\")\n",
    "\n",
    "text = \"It’s official: Apple is the first U.S. public company to reach a $1 trillion market value\"\n",
    "\n",
    "# Process the text\n",
    "doc = nlp(text)\n",
    "\n",
    "for token in doc:\n",
    "    # Get the token text, part-of-speech tag and dependency label\n",
    "    token_text = token.text\n",
    "    token_pos = token.pos_\n",
    "    token_dep = token.dep_\n",
    "    # This is for formatting only\n",
    "    print(f\"{token_text:<12}{token_pos:<10}{token_dep:<10}\")"
   ]
  },
  {
   "source": [
    "### Part 2\n",
    "* process the text and create a `doc` object\n",
    "* iterate over the `doc.ents` and print the entity text and `label_` attribute"
   ],
   "cell_type": "markdown",
   "metadata": {}
  },
  {
   "cell_type": "code",
   "execution_count": 20,
   "metadata": {},
   "outputs": [
    {
     "output_type": "stream",
     "name": "stdout",
     "text": [
      "Apple ORG\nfirst ORDINAL\nU.S. GPE\n$1 trillion MONEY\n"
     ]
    }
   ],
   "source": [
    "import spacy\n",
    "\n",
    "nlp = spacy.load(\"en_core_web_sm\")\n",
    "\n",
    "text = \"It’s official: Apple is the first U.S. public company to reach a $1 trillion market value\"\n",
    "\n",
    "# Process the text\n",
    "doc = nlp(text)\n",
    "\n",
    "# Iterate over the predicted entities\n",
    "for ent in doc.ents:\n",
    "    # Print the entity text and its label\n",
    "    print(ent.text, ent.label_)"
   ]
  },
  {
   "source": [
    "## 9. Predicting named entities in context"
   ],
   "cell_type": "markdown",
   "metadata": {}
  },
  {
   "source": [
    "Models are statistical and not always right. Whether their predictions are coorect depends on the training data and the text you're processing.\n",
    "\n",
    "* process the text with the `nlp` object\n",
    "* iterate over the entities and print the entity text and label\n",
    "* model didn't predict \"iPhone X\". Create a span for those tokens manually"
   ],
   "cell_type": "markdown",
   "metadata": {}
  },
  {
   "cell_type": "code",
   "execution_count": null,
   "metadata": {},
   "outputs": [],
   "source": [
    "import spacy\n",
    "\n",
    "nlp = spacy.load(\"en_core_web_sm\")\n",
    "\n",
    "text = \"Upcoming iPhone X release date leaked as Apple reveals pre-orders\"\n",
    "\n",
    "# Process the text\n",
    "doc = nlp(text)\n",
    "\n",
    "# Iterate over the entities\n",
    "for ent in doc.ents:\n",
    "    # Print the entity text and label\n",
    "    print(ent.text, ent.label_)\n",
    "  \n",
    "# Get the span for \"iPhone X\"\n",
    "iphone_x = doc[1:3]\n",
    "\n",
    "# Print the span text\n",
    "print(\"Missing entity:\", iphone_x.text) "
   ]
  },
  {
   "source": [
    "## 10. Rule-based matching\n",
    "* GOAL: look at spaCy's matcher, which lets you write rules to find words and phrases in text"
   ],
   "cell_type": "markdown",
   "metadata": {}
  },
  {
   "source": [
    "#### Why not just regular expressions?\n",
    "* Match on `Doc` objects, not just strings\n",
    "* Match on tokens and token attributes\n",
    "* Use the model's predictions\n",
    "    - EX: \"duck\" (verb) vs. \"duck\" (noun)\n",
    "\n",
    "_lecture note_\n",
    "* Compared to regular expressions, the matcher works with `Doc` and `Token` objects instead of only strings\n",
    "* It's also more flexible; you can search for texts but also other lexical attributes\n",
    "* you can even write rules that use the model's predictions\n",
    "* EX: find the word \"duck\" only if it's a verb, not a noun"
   ],
   "cell_type": "markdown",
   "metadata": {}
  },
  {
   "source": [
    "### Match patterns\n",
    "* Lists of dictionaries, one per token\n",
    "* Match exact token texts\n",
    "\n",
    "`[{\"TEXT\": \"iPhone\"}, {\"TEXT\": \"X\"}]`\n",
    "\n",
    "* Match lexical attributes\n",
    "\n",
    "`[{\"LOWER\": \"iphone\"}, {\"LOWER\": \"x\"}]`\n",
    "\n",
    "* Match any token attributes\n",
    "\n",
    "`[{\"LEMMA\": \"buy\"}, {\"POS\": \"NOUN}]`\n",
    "\n",
    "_lecture notes_\n",
    "* Match patterns are lists of dictionaries, where each dictionary describes one token\n",
    "* The keys are the names of token attributes, mapped to their expected values\n",
    "    - EX: looking for two tokens with the text \"iPhone\" and \"X\"\n",
    "* We can also match on other token attributes\n",
    "    - EX: Looking for two tokens whose lowercase form equal \"iphone\" and \"x\n",
    "* We can even write patterns using attributes predicted by the model\n",
    "    - EX: matching a token with the lemma \"buy\" plus a noun\n",
    "    - the lemma is the base form; this pattern would match phrases like \"buying milk\" or \"bought flowers\""
   ],
   "cell_type": "markdown",
   "metadata": {}
  },
  {
   "source": [
    "### Using the Matcher (1)\n",
    "* to use a pattern, we'll first import the matcher from `spacy.matcher`\n",
    "* we'll also load a model and create the `nlp` object\n",
    "* the matcher is initialized with the shared vocabulary, `nlp.vocab`\n",
    "    - will learn about later, for now just know to pass it on\n",
    "* `matcher.add` method lets you add a pattern\n",
    "    - first argument is a unique ID to identify which pattern was matched\n",
    "    - second argument is an optional callback, which we don't need here\n",
    "    - third argument is the pattern\n",
    "* to match the pattern on a text, we can call the matcher on any doc\n",
    "* this will return the matches"
   ],
   "cell_type": "markdown",
   "metadata": {}
  },
  {
   "cell_type": "code",
   "execution_count": 2,
   "metadata": {},
   "outputs": [],
   "source": [
    "import spacy\n",
    "\n",
    "# Import the Matcher\n",
    "from spacy.matcher import Matcher\n",
    "\n",
    "# Load a model and create the nlp object\n",
    "nlp = spacy.load(\"en_core_web_sm\")\n",
    "\n",
    "# Initialize the matcher with the shared vocabulary\n",
    "matcher = Matcher(nlp.vocab)\n",
    "\n",
    "# Add the pattern to the matcher\n",
    "pattern = [{\"TEXT\": \"iPhone\"}, {\"TEXT\": \"X\"}]\n",
    "matcher.add(\"IPHONE_PATTERN\", None, pattern)\n",
    "\n",
    "# Process some text\n",
    "doc = nlp(\"Upcoming iPhone X release date leaked\")\n",
    "\n",
    "# Call the matcher on the doc\n",
    "matches = matcher(doc)"
   ]
  },
  {
   "cell_type": "code",
   "execution_count": 5,
   "metadata": {},
   "outputs": [
    {
     "output_type": "execute_result",
     "data": {
      "text/plain": [
       "[(9528407286733565721, 1, 3)]"
      ]
     },
     "metadata": {},
     "execution_count": 5
    }
   ],
   "source": [
    "matches"
   ]
  },
  {
   "source": [
    "* when you call the matcher on a doc, it returns a list of tuples\n",
    "* each tuple consists of three values\n",
    "    - the match ID\n",
    "    - the start index\n",
    "    - the end index of matched span\n",
    "* this means we can iterate over the matches and create a `Span` object, a slice of the doc at the start and end index\n",
    "\n",
    "_slides_\n",
    "* `match_id`: hash value of the pattern name\n",
    "* `start`: start index of the matched span\n",
    "* `end`: end index of matched span"
   ],
   "cell_type": "markdown",
   "metadata": {}
  },
  {
   "cell_type": "code",
   "execution_count": 4,
   "metadata": {},
   "outputs": [
    {
     "output_type": "stream",
     "name": "stdout",
     "text": [
      "iPhone X\n"
     ]
    }
   ],
   "source": [
    "# Call the matcher on the doc\n",
    "doc = nlp(\"Upcoming iPhone X release date leaked\")\n",
    "matches = matcher(doc)\n",
    "\n",
    "# Iterate over the matches\n",
    "for match_id, start, end in matches:\n",
    "    # Get the matched span\n",
    "    matched_span = doc[start:end]\n",
    "    print(matched_span.text)"
   ]
  },
  {
   "cell_type": "code",
   "execution_count": 7,
   "metadata": {},
   "outputs": [],
   "source": [
    "from spacy.matcher import Matcher\n",
    "\n",
    "def get_spacy_matches(doc, pattern):\n",
    "    # Load a model and create the nlp object\n",
    "    nlp = spacy.load(\"en_core_web_sm\")\n",
    "\n",
    "    # Initialize the matcher with the shared vocabulary\n",
    "    matcher = Matcher(nlp.vocab)\n",
    "\n",
    "    # Add the pattern to the matcher\n",
    "    matcher.add(\"PATTERN\", None, pattern)\n",
    "\n",
    "    # Call the matcher on the doc\n",
    "    matches = matcher(doc)\n",
    "\n",
    "    # Iterate over the matches\n",
    "    for match_id, start, end in matches:\n",
    "        # Get the matched span\n",
    "        matched_span = doc[start:end]\n",
    "        print(matched_span.text)"
   ]
  },
  {
   "source": [
    "### Matching lexical attributes\n",
    "* EX: more complex pattern using lexical attributes\n",
    "* looking for five tokens\n",
    "    - a token consisting of only digits\n",
    "    - three case-insensitive tokens for \"fifa\", \"word\", and \"cup\"\n",
    "    - token that consists of punctuation\n",
    "* pattern matches the token \"2018 FIFA World Cup:\""
   ],
   "cell_type": "markdown",
   "metadata": {}
  },
  {
   "cell_type": "code",
   "execution_count": 8,
   "metadata": {},
   "outputs": [
    {
     "output_type": "stream",
     "name": "stdout",
     "text": [
      "2018 FIFA World Cup:\n"
     ]
    }
   ],
   "source": [
    "pattern = [\n",
    "    {\"IS_DIGIT\": True},\n",
    "    {\"LOWER\": \"fifa\"},\n",
    "    {\"LOWER\": \"world\"},\n",
    "    {\"LOWER\": \"cup\"},\n",
    "    {\"IS_PUNCT\": True}\n",
    "]\n",
    "\n",
    "doc = nlp(\"2018 FIFA World Cup: France won!\")\n",
    "\n",
    "get_spacy_matches(doc, pattern)"
   ]
  },
  {
   "source": [
    "### Matching other token attributes\n",
    "* EX: looking for two tokens\n",
    "    - a verb with the lemma \"love\" followed by a noun\n",
    "* pattern will match \"loved dogs\" and \"love cats\""
   ],
   "cell_type": "markdown",
   "metadata": {}
  },
  {
   "cell_type": "code",
   "execution_count": 9,
   "metadata": {},
   "outputs": [
    {
     "output_type": "stream",
     "name": "stdout",
     "text": [
      "loved dogs\nlove cats\n"
     ]
    }
   ],
   "source": [
    "pattern = [\n",
    "    {\"LEMMA\": \"love\", \"POS\": \"VERB\"},\n",
    "    {\"POS\": \"NOUN\"}\n",
    "]\n",
    "\n",
    "doc = nlp(\"I loved dogs but now I love cats more.\")\n",
    "\n",
    "get_spacy_matches(doc, pattern)"
   ]
  },
  {
   "source": [
    "### Using operators and quantifiers (1)\n",
    "* operators and quantifiers let you define how often a token should be matched\n",
    "* can be added using the \"OP\" key\n",
    "* the \"?\" operator makes the determiner token optional, so it will match a token with the lemma \"buy\", an optional article and a noun"
   ],
   "cell_type": "markdown",
   "metadata": {}
  },
  {
   "cell_type": "code",
   "execution_count": 10,
   "metadata": {},
   "outputs": [
    {
     "output_type": "stream",
     "name": "stdout",
     "text": [
      "bought a smartphone\nbuying apps\n"
     ]
    }
   ],
   "source": [
    "pattern = [\n",
    "    {\"LEMMA\": \"buy\"},\n",
    "    {\"POS\": \"DET\", \"OP\": \"?\"}, # optional: match 0 or 1 times\n",
    "    {\"POS\": \"NOUN\"}\n",
    "]\n",
    "\n",
    "doc = nlp(\"I bought a smartphone. Now I'm buying apps.\")\n",
    "\n",
    "get_spacy_matches(doc, pattern)"
   ]
  },
  {
   "source": [
    "* \"OP\" can have one of four values\n",
    "    1. \"!\" - negates the token, so its matched 0 times\n",
    "    2. \"?\" - makes token optional, matches it 0 or 1 times\n",
    "    3. \"+\" - matches a token 1 or more times\n",
    "    4. \"*\" - matches 0 or more times\n",
    "* operators can make pattern a lot more powerful but also more complex"
   ],
   "cell_type": "markdown",
   "metadata": {}
  },
  {
   "source": [
    "## 11. Using the Matcher"
   ],
   "cell_type": "markdown",
   "metadata": {}
  },
  {
   "cell_type": "code",
   "execution_count": 1,
   "metadata": {},
   "outputs": [
    {
     "output_type": "stream",
     "name": "stdout",
     "text": [
      "Matches: ['iPhone X']\n"
     ]
    }
   ],
   "source": [
    "import spacy\n",
    "\n",
    "# Import the Matcher\n",
    "from spacy.matcher import Matcher\n",
    "\n",
    "nlp = spacy.load(\"en_core_web_sm\")\n",
    "doc = nlp(\"Upcoming iPhone X release date leaked as Apple reveals pre-orders\")\n",
    "\n",
    "# Initialize the Matcher with the shared vocabulary\n",
    "matcher = Matcher(nlp.vocab)\n",
    "\n",
    "# Create a pattern matching two tokens: \"iPhone\" and \"X\"\n",
    "pattern = [{\"TEXT\": \"iPhone\"}, {\"TEXT\": \"X\"}]\n",
    "\n",
    "# Add the pattern to the matcher\n",
    "matcher.add(\"IPHONE_X_PATTERN\", None, pattern)\n",
    "\n",
    "# Use the matcher on the doc\n",
    "matches = matcher(doc)\n",
    "print(\"Matches:\", [doc[start:end].text for match_id, start, end in matches])"
   ]
  },
  {
   "source": [
    "## 12. Writing match patterns"
   ],
   "cell_type": "markdown",
   "metadata": {}
  },
  {
   "cell_type": "code",
   "execution_count": 3,
   "metadata": {},
   "outputs": [
    {
     "output_type": "stream",
     "name": "stdout",
     "text": [
      "Total matches found: 3\nMatch found: iOS 7\nMatch found: iOS 11\nMatch found: iOS 10\n"
     ]
    }
   ],
   "source": [
    "# PART 1\n",
    "import spacy\n",
    "from spacy.matcher import Matcher\n",
    "\n",
    "nlp = spacy.load(\"en_core_web_sm\")\n",
    "matcher = Matcher(nlp.vocab)\n",
    "\n",
    "doc = nlp(\n",
    "    \"After making the iOS update you won't notice a radical system-wide \"\n",
    "    \"redesign: nothing like the aesthetic upheaval we got with iOS 7. Most of \"\n",
    "    \"iOS 11's furniture remains the same as in iOS 10. But you will discover \"\n",
    "    \"some tweaks once you delve a little deeper.\"\n",
    ")\n",
    "\n",
    "# Write a pattern for full iOS versions (\"iOS 7\", \"iOS 11\", \"iOS 10\")\n",
    "pattern = [{\"TEXT\": \"iOS\"}, {\"IS_DIGIT\": True}]\n",
    "\n",
    "# Add the pattern to the matcher and apply the matcher to the doc\n",
    "matcher.add(\"IOS_VERSION_PATTERN\", None, pattern)\n",
    "matches = matcher(doc)\n",
    "print(\"Total matches found:\", len(matches))\n",
    "\n",
    "# Iterate over the matches and print the span text\n",
    "for match_id, start, end in matches:\n",
    "    print(\"Match found:\", doc[start:end].text)"
   ]
  },
  {
   "cell_type": "code",
   "execution_count": 4,
   "metadata": {},
   "outputs": [
    {
     "output_type": "stream",
     "name": "stdout",
     "text": [
      "Total matches found: 3\nMatch found: downloaded Fortnite\nMatch found: downloading Minecraft\nMatch found: download Winzip\n"
     ]
    }
   ],
   "source": [
    "# PART 2\n",
    "import spacy\n",
    "from spacy.matcher import Matcher\n",
    "\n",
    "nlp = spacy.load(\"en_core_web_sm\")\n",
    "matcher = Matcher(nlp.vocab)\n",
    "\n",
    "doc = nlp(\n",
    "    \"i downloaded Fortnite on my laptop and can't open the game at all. Help? \"\n",
    "    \"so when I was downloading Minecraft, I got the Windows version where it \"\n",
    "    \"is the '.zip' folder and I used the default program to unpack it... do \"\n",
    "    \"I also need to download Winzip?\"\n",
    ")\n",
    "\n",
    "# Write a pattern that matches a form of \"download\" plus proper noun\n",
    "pattern = [{\"LEMMA\": \"download\"}, {\"POS\": \"PROPN\"}]\n",
    "\n",
    "# Add the pattern to the matcher and apply the matcher to the doc\n",
    "matcher.add(\"DOWNLOAD_THINGS_PATTERN\", None, pattern)\n",
    "matches = matcher(doc)\n",
    "print(\"Total matches found:\", len(matches))\n",
    "\n",
    "# Iterate over the matches and print the span text\n",
    "for match_id, start, end in matches:\n",
    "    print(\"Match found:\", doc[start:end].text)"
   ]
  },
  {
   "cell_type": "code",
   "execution_count": 5,
   "metadata": {},
   "outputs": [
    {
     "output_type": "stream",
     "name": "stdout",
     "text": [
      "Total matches found: 5\nMatch found: beautiful design\nMatch found: smart search\nMatch found: automatic labels\nMatch found: optional voice\nMatch found: optional voice responses\n"
     ]
    }
   ],
   "source": [
    "# PART 3\n",
    "import spacy\n",
    "from spacy.matcher import Matcher\n",
    "\n",
    "nlp = spacy.load(\"en_core_web_sm\")\n",
    "matcher = Matcher(nlp.vocab)\n",
    "\n",
    "doc = nlp(\n",
    "    \"Features of the app include a beautiful design, smart search, automatic \"\n",
    "    \"labels and optional voice responses.\"\n",
    ")\n",
    "\n",
    "# Write a pattern for adjective plus one or two nouns\n",
    "pattern = [{\"POS\": \"ADJ\"}, {\"POS\": \"NOUN\"}, {\"POS\": \"NOUN\", \"OP\": \"?\"}]\n",
    "\n",
    "# Add the pattern to the matcher and apply the matcher to the doc\n",
    "matcher.add(\"ADJ_NOUN_PATTERN\", None, pattern)\n",
    "matches = matcher(doc)\n",
    "print(\"Total matches found:\", len(matches))\n",
    "\n",
    "# Iterate over the matches and print the span text\n",
    "for match_id, start, end in matches:\n",
    "    print(\"Match found:\", doc[start:end].text)"
   ]
  },
  {
   "cell_type": "code",
   "execution_count": null,
   "metadata": {},
   "outputs": [],
   "source": []
  }
 ]
}