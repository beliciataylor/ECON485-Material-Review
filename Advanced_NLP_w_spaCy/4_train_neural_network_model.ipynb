{
 "metadata": {
  "language_info": {
   "codemirror_mode": {
    "name": "ipython",
    "version": 3
   },
   "file_extension": ".py",
   "mimetype": "text/x-python",
   "name": "python",
   "nbconvert_exporter": "python",
   "pygments_lexer": "ipython3",
   "version": "3.7.4-final"
  },
  "orig_nbformat": 2,
  "kernelspec": {
   "name": "python3",
   "display_name": "Python 3",
   "language": "python"
  }
 },
 "nbformat": 4,
 "nbformat_minor": 2,
 "cells": [
  {
   "source": [
    "# Chapter 4: Training a neural network model\n",
    "\n",
    "You'll learn how to update spaCy's statistical models to customize them for your use case - for example, to predict a new entity type in online comments. You'll write your own training loop from scratch, and understand the basics of how training works, along with tips and tricks that can make your custom NLP projects more successful.\n",
    "\n",
    "**Sections**\n",
    "\n",
    "1. Training and updating models \n",
    "2. Purpose of training \n",
    "3. Creating training data (Part 1) \n",
    "4. Creating training data (Part 2) \n",
    "5. The training loop \n",
    "6. Setting up the pipeline \n",
    "7. Building a training loop \n",
    "8. Exploring the model \n",
    "9. Training best practices \n",
    "10. Good data vs. bad data \n",
    "11. Training multiple labels \n",
    "12. Wrapping up\n"
   ],
   "cell_type": "markdown",
   "metadata": {}
  },
  {
   "cell_type": "code",
   "execution_count": null,
   "metadata": {},
   "outputs": [],
   "source": []
  }
 ]
}