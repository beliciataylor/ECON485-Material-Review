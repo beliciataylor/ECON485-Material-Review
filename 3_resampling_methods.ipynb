{
 "nbformat": 4,
 "nbformat_minor": 2,
 "metadata": {
  "language_info": {
   "name": "python",
   "codemirror_mode": {
    "name": "ipython",
    "version": 3
   },
   "version": "3.7.4-final"
  },
  "orig_nbformat": 2,
  "file_extension": ".py",
  "mimetype": "text/x-python",
  "name": "python",
  "npconvert_exporter": "python",
  "pygments_lexer": "ipython3",
  "version": 3,
  "kernelspec": {
   "name": "python3",
   "display_name": "Python 3"
  }
 },
 "cells": [
  {
   "cell_type": "markdown",
   "metadata": {},
   "source": [
    "## Resampling Methods\n",
    "* two most commonly used resampling Methods\n",
    "\n",
    "(1) cross-validation\n",
    "\n",
    "(2) bootstrap"
   ]
  },
  {
   "cell_type": "code",
   "execution_count": 101,
   "metadata": {},
   "outputs": [
    {
     "data": {
      "text/html": "<div>\n<style scoped>\n    .dataframe tbody tr th:only-of-type {\n        vertical-align: middle;\n    }\n\n    .dataframe tbody tr th {\n        vertical-align: top;\n    }\n\n    .dataframe thead th {\n        text-align: right;\n    }\n</style>\n<table border=\"1\" class=\"dataframe\">\n  <thead>\n    <tr style=\"text-align: right;\">\n      <th></th>\n      <th>lprice</th>\n      <th>lland</th>\n      <th>larea</th>\n      <th>nbh</th>\n      <th>rooms</th>\n      <th>cbd</th>\n      <th>y81</th>\n      <th>ldist</th>\n      <th>baths</th>\n      <th>age</th>\n      <th>agesq</th>\n    </tr>\n  </thead>\n  <tbody>\n    <tr>\n      <td>0</td>\n      <td>11.00210</td>\n      <td>8.429017</td>\n      <td>7.414573</td>\n      <td>4</td>\n      <td>7.0</td>\n      <td>3000.0</td>\n      <td>0</td>\n      <td>9.277999</td>\n      <td>1.0</td>\n      <td>48.0</td>\n      <td>2304.0</td>\n    </tr>\n    <tr>\n      <td>1</td>\n      <td>10.59663</td>\n      <td>9.032409</td>\n      <td>7.867871</td>\n      <td>4</td>\n      <td>6.0</td>\n      <td>4000.0</td>\n      <td>0</td>\n      <td>9.305651</td>\n      <td>2.0</td>\n      <td>83.0</td>\n      <td>6889.0</td>\n    </tr>\n    <tr>\n      <td>2</td>\n      <td>10.43412</td>\n      <td>8.517193</td>\n      <td>7.042286</td>\n      <td>4</td>\n      <td>6.0</td>\n      <td>4000.0</td>\n      <td>0</td>\n      <td>9.350102</td>\n      <td>1.0</td>\n      <td>58.0</td>\n      <td>3364.0</td>\n    </tr>\n    <tr>\n      <td>3</td>\n      <td>11.06507</td>\n      <td>9.210340</td>\n      <td>7.035269</td>\n      <td>4</td>\n      <td>5.0</td>\n      <td>4000.0</td>\n      <td>0</td>\n      <td>9.384294</td>\n      <td>1.0</td>\n      <td>11.0</td>\n      <td>121.0</td>\n    </tr>\n    <tr>\n      <td>4</td>\n      <td>10.69195</td>\n      <td>9.210340</td>\n      <td>7.532624</td>\n      <td>4</td>\n      <td>5.0</td>\n      <td>4000.0</td>\n      <td>0</td>\n      <td>9.400961</td>\n      <td>1.0</td>\n      <td>48.0</td>\n      <td>2304.0</td>\n    </tr>\n  </tbody>\n</table>\n</div>",
      "text/plain": "     lprice     lland     larea nbh rooms     cbd y81     ldist  baths   age  \\\n0  11.00210  8.429017  7.414573   4   7.0  3000.0   0  9.277999    1.0  48.0   \n1  10.59663  9.032409  7.867871   4   6.0  4000.0   0  9.305651    2.0  83.0   \n2  10.43412  8.517193  7.042286   4   6.0  4000.0   0  9.350102    1.0  58.0   \n3  11.06507  9.210340  7.035269   4   5.0  4000.0   0  9.384294    1.0  11.0   \n4  10.69195  9.210340  7.532624   4   5.0  4000.0   0  9.400961    1.0  48.0   \n\n    agesq  \n0  2304.0  \n1  6889.0  \n2  3364.0  \n3   121.0  \n4  2304.0  "
     },
     "execution_count": 101,
     "metadata": {},
     "output_type": "execute_result"
    }
   ],
   "source": [
    "import pandas as pd\n",
    "import numpy as np\n",
    "from pandas.api.types import CategoricalDtype\n",
    "\n",
    "# download dataset to use throughout\n",
    "hprice3 = pd.read_stata('http://fmwww.bc.edu/ec-p/data/wooldridge/hprice3.dta')\n",
    "\n",
    "# pre-processing dataset\n",
    "## select interested columns\n",
    "col = ['lprice','lland','larea','nbh','rooms','cbd','y81','ldist','baths','age','agesq']\n",
    "df = hprice3[col]\n",
    "\n",
    "## change y81 and nbh to integers (necessary for patsy later on)\n",
    "df[['y81','nbh']] = df[['y81','nbh']].astype(int) \n",
    "\n",
    "## change y81, nbh, rooms into categorical\n",
    "df['y81'] = df['y81'].astype('category')\n",
    "df['nbh'] = df['nbh'].astype(CategoricalDtype(ordered=False))\n",
    "df['rooms'] = df['rooms'].astype(CategoricalDtype(ordered=True))\n",
    "\n",
    "# view head of pre-processed dataset\n",
    "df.head()"
   ]
  },
  {
   "cell_type": "markdown",
   "metadata": {},
   "source": [
    "### Cross-Validation\n",
    "\n",
    "* these methods are used to do two things\n",
    "\n",
    "(1) Model Assessment: process of evaluating a model's performance\n",
    "\n",
    "(2) Model Selection: process of selecting the proper level of flexibility for a model\n",
    "\n",
    "* since models are 'trained' using training data sets, they are suitable to fit data in these training data sets only\n",
    "\n",
    "* since the validation set was not used to fit the model, these set of observations can be used to assess the performance of the model; therefore they allow us to do model selection"
   ]
  },
  {
   "cell_type": "code",
   "execution_count": 102,
   "metadata": {},
   "outputs": [
    {
     "data": {
      "text/plain": "Index(['lprice', 'lland', 'larea', 'rooms', 'cbd', 'ldist', 'baths', 'age',\n       'agesq', 'y81_1', 'nbh_1', 'nbh_2', 'nbh_3', 'nbh_4', 'nbh_5', 'nbh_6'],\n      dtype='object')"
     },
     "execution_count": 102,
     "metadata": {},
     "output_type": "execute_result"
    }
   ],
   "source": [
    "# continue preprocessing: convert categorical variables into dummy variables\n",
    "df1 = pd.get_dummies(df, columns=['y81', 'nbh'], drop_first = True)\n",
    "\n",
    "# get list of columns\n",
    "df1.columns"
   ]
  },
  {
   "cell_type": "markdown",
   "metadata": {},
   "source": [
    "## Validation Set Approach\n",
    "\n",
    "![](img\\validation_set_approach.png)\n",
    "\n",
    "* set of n observations are randomly split into a training set (in blue with other obs) and a validation set (in beige containing other obs)\n",
    "\n",
    "* the stat learning method is fit onto the training set\n",
    "\n",
    "* performance evaluated on the validation set\n",
    "\n",
    "* can be doing many (i.e j) times randomly, then all model assessment measures such as RMSE, R2, Cp, BIC, and AIC can be calculated many (i.e j) times"
   ]
  },
  {
   "cell_type": "code",
   "execution_count": 107,
   "metadata": {},
   "outputs": [
    {
     "data": {
      "text/plain": "173    11.534286\n132    11.455381\n197    11.429371\n9      10.841395\n104    11.323265\n         ...    \n229    12.054129\n60     10.567336\n289    11.670529\n260    11.861703\n118    11.108526\nLength: 65, dtype: float64"
     },
     "execution_count": 107,
     "metadata": {},
     "output_type": "execute_result"
    }
   ],
   "source": [
    "from sklearn.model_selection import train_test_split\n",
    "import patsy\n",
    "from statsmodels.regression.linear_model import OLS\n",
    "\n",
    "# convert dataframe into numpy array\n",
    "df1_array = df1.to_numpy()\n",
    "\n",
    "# create specification using dataframe column object\n",
    "predictors = \" + \".join(list(df1.columns[1:15]))\n",
    "f = \" ~ \".join(['lprice',predictors])\n",
    "\n",
    "# create design matrix\n",
    "y, X = patsy.dmatrices(f, data=df1, return_type='dataframe')\n",
    "\n",
    "# do validation set splits\n",
    "X_train, X_test, y_train, y_test = train_test_split(X, y, test_size=0.2, random_state=42)\n",
    "\n",
    "# run OLS\n",
    "model = OLS(y,X)\n",
    "reg = model.fit()\n",
    "\n",
    "# predict model\n",
    "predict = reg.predict(X_test)\n",
    "\n",
    "# view in dataframe\n",
    "\n"
   ]
  },
  {
   "cell_type": "code",
   "execution_count": 93,
   "metadata": {},
   "outputs": [
    {
     "data": {
      "text/plain": "Index(['lprice', 'lland', 'larea', 'rooms', 'cbd', 'ldist', 'baths', 'age',\n       'agesq', 'y81_1.0', 'nbh_1.0', 'nbh_2.0', 'nbh_3.0', 'nbh_4.0',\n       'nbh_5.0'],\n      dtype='object')"
     },
     "execution_count": 93,
     "metadata": {},
     "output_type": "execute_result"
    }
   ],
   "source": [
    "df1.columns[0:15]"
   ]
  },
  {
   "cell_type": "code",
   "execution_count": null,
   "metadata": {},
   "outputs": [],
   "source": []
  }
 ]
}