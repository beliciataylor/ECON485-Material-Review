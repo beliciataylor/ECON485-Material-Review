{
 "nbformat": 4,
 "nbformat_minor": 2,
 "metadata": {
  "language_info": {
   "name": "python",
   "codemirror_mode": {
    "name": "ipython",
    "version": 3
   },
   "version": "3.8.1-final"
  },
  "orig_nbformat": 2,
  "file_extension": ".py",
  "mimetype": "text/x-python",
  "name": "python",
  "npconvert_exporter": "python",
  "pygments_lexer": "ipython3",
  "version": 3,
  "kernelspec": {
   "name": "python38164bit88832310db0f46c6ba1b97f6fce48e8e",
   "display_name": "Python 3.8.1 64-bit"
  }
 },
 "cells": [
  {
   "cell_type": "markdown",
   "metadata": {},
   "source": [
    "# Multiple Linear Regression Model\n",
    "will review the following topics\n",
    "* The Algebra of the OLS Estimator\n",
    "* The Finite Sampling Properties of the OLS Estimator\n",
    "* Asymptotic Properties of the OLS Estimator\n",
    "* Regression Intervals\n",
    "* Forecast Intervals"
   ]
  },
  {
   "cell_type": "code",
   "execution_count": 2,
   "metadata": {},
   "outputs": [],
   "source": [
    "# download packages\n",
    "import pandas as pd\n",
    "import numpy as np\n",
    "\n",
    "# download dataset to use throughout\n",
    "hprice2 = pd.read_stata('http://fmwww.bc.edu/ec-p/data/wooldridge/hprice2.dta')\n",
    "f = 'lprice ~ lnox + lproptax + crime + rooms + dist + radial + stratio + lowstat'"
   ]
  },
  {
   "cell_type": "code",
   "execution_count": 3,
   "metadata": {},
   "outputs": [
    {
     "data": {
      "text/html": "<div>\n<style scoped>\n    .dataframe tbody tr th:only-of-type {\n        vertical-align: middle;\n    }\n\n    .dataframe tbody tr th {\n        vertical-align: top;\n    }\n\n    .dataframe thead th {\n        text-align: right;\n    }\n</style>\n<table border=\"1\" class=\"dataframe\">\n  <thead>\n    <tr style=\"text-align: right;\">\n      <th></th>\n      <th>price</th>\n      <th>crime</th>\n      <th>nox</th>\n      <th>rooms</th>\n      <th>dist</th>\n      <th>radial</th>\n      <th>proptax</th>\n      <th>stratio</th>\n      <th>lowstat</th>\n      <th>lprice</th>\n      <th>lnox</th>\n      <th>lproptax</th>\n    </tr>\n  </thead>\n  <tbody>\n    <tr>\n      <th>0</th>\n      <td>24000.0</td>\n      <td>0.006</td>\n      <td>5.38</td>\n      <td>6.57</td>\n      <td>4.09</td>\n      <td>1.0</td>\n      <td>29.600000</td>\n      <td>15.300000</td>\n      <td>4.98</td>\n      <td>10.085810</td>\n      <td>1.682688</td>\n      <td>5.690360</td>\n    </tr>\n    <tr>\n      <th>1</th>\n      <td>21599.0</td>\n      <td>0.027</td>\n      <td>4.69</td>\n      <td>6.42</td>\n      <td>4.97</td>\n      <td>2.0</td>\n      <td>24.200001</td>\n      <td>17.799999</td>\n      <td>9.14</td>\n      <td>9.980402</td>\n      <td>1.545433</td>\n      <td>5.488938</td>\n    </tr>\n    <tr>\n      <th>2</th>\n      <td>34700.0</td>\n      <td>0.027</td>\n      <td>4.69</td>\n      <td>7.18</td>\n      <td>4.97</td>\n      <td>2.0</td>\n      <td>24.200001</td>\n      <td>17.799999</td>\n      <td>4.03</td>\n      <td>10.454500</td>\n      <td>1.545433</td>\n      <td>5.488938</td>\n    </tr>\n    <tr>\n      <th>3</th>\n      <td>33400.0</td>\n      <td>0.032</td>\n      <td>4.58</td>\n      <td>7.00</td>\n      <td>6.06</td>\n      <td>3.0</td>\n      <td>22.200001</td>\n      <td>18.700001</td>\n      <td>2.94</td>\n      <td>10.416310</td>\n      <td>1.521699</td>\n      <td>5.402678</td>\n    </tr>\n    <tr>\n      <th>4</th>\n      <td>36199.0</td>\n      <td>0.069</td>\n      <td>4.58</td>\n      <td>7.15</td>\n      <td>6.06</td>\n      <td>3.0</td>\n      <td>22.200001</td>\n      <td>18.700001</td>\n      <td>5.33</td>\n      <td>10.496790</td>\n      <td>1.521699</td>\n      <td>5.402678</td>\n    </tr>\n    <tr>\n      <th>...</th>\n      <td>...</td>\n      <td>...</td>\n      <td>...</td>\n      <td>...</td>\n      <td>...</td>\n      <td>...</td>\n      <td>...</td>\n      <td>...</td>\n      <td>...</td>\n      <td>...</td>\n      <td>...</td>\n      <td>...</td>\n    </tr>\n    <tr>\n      <th>501</th>\n      <td>22400.0</td>\n      <td>0.063</td>\n      <td>5.73</td>\n      <td>6.59</td>\n      <td>2.48</td>\n      <td>1.0</td>\n      <td>27.299999</td>\n      <td>21.000000</td>\n      <td>9.67</td>\n      <td>10.016820</td>\n      <td>1.745715</td>\n      <td>5.609472</td>\n    </tr>\n    <tr>\n      <th>502</th>\n      <td>20600.0</td>\n      <td>0.045</td>\n      <td>5.73</td>\n      <td>6.12</td>\n      <td>2.29</td>\n      <td>1.0</td>\n      <td>27.299999</td>\n      <td>21.000000</td>\n      <td>9.08</td>\n      <td>9.933046</td>\n      <td>1.745715</td>\n      <td>5.609472</td>\n    </tr>\n    <tr>\n      <th>503</th>\n      <td>23899.0</td>\n      <td>0.061</td>\n      <td>5.73</td>\n      <td>6.98</td>\n      <td>2.17</td>\n      <td>1.0</td>\n      <td>27.299999</td>\n      <td>21.000000</td>\n      <td>5.64</td>\n      <td>10.081590</td>\n      <td>1.745715</td>\n      <td>5.609472</td>\n    </tr>\n    <tr>\n      <th>504</th>\n      <td>22000.0</td>\n      <td>0.110</td>\n      <td>5.73</td>\n      <td>6.79</td>\n      <td>2.39</td>\n      <td>1.0</td>\n      <td>27.299999</td>\n      <td>21.000000</td>\n      <td>6.48</td>\n      <td>9.998797</td>\n      <td>1.745715</td>\n      <td>5.609472</td>\n    </tr>\n    <tr>\n      <th>505</th>\n      <td>11900.0</td>\n      <td>0.047</td>\n      <td>5.73</td>\n      <td>6.03</td>\n      <td>2.51</td>\n      <td>1.0</td>\n      <td>27.299999</td>\n      <td>21.000000</td>\n      <td>7.88</td>\n      <td>9.384294</td>\n      <td>1.745715</td>\n      <td>5.609472</td>\n    </tr>\n  </tbody>\n</table>\n<p>506 rows × 12 columns</p>\n</div>",
      "text/plain": "       price  crime   nox  rooms  dist  radial    proptax    stratio  lowstat  \\\n0    24000.0  0.006  5.38   6.57  4.09     1.0  29.600000  15.300000     4.98   \n1    21599.0  0.027  4.69   6.42  4.97     2.0  24.200001  17.799999     9.14   \n2    34700.0  0.027  4.69   7.18  4.97     2.0  24.200001  17.799999     4.03   \n3    33400.0  0.032  4.58   7.00  6.06     3.0  22.200001  18.700001     2.94   \n4    36199.0  0.069  4.58   7.15  6.06     3.0  22.200001  18.700001     5.33   \n..       ...    ...   ...    ...   ...     ...        ...        ...      ...   \n501  22400.0  0.063  5.73   6.59  2.48     1.0  27.299999  21.000000     9.67   \n502  20600.0  0.045  5.73   6.12  2.29     1.0  27.299999  21.000000     9.08   \n503  23899.0  0.061  5.73   6.98  2.17     1.0  27.299999  21.000000     5.64   \n504  22000.0  0.110  5.73   6.79  2.39     1.0  27.299999  21.000000     6.48   \n505  11900.0  0.047  5.73   6.03  2.51     1.0  27.299999  21.000000     7.88   \n\n        lprice      lnox  lproptax  \n0    10.085810  1.682688  5.690360  \n1     9.980402  1.545433  5.488938  \n2    10.454500  1.545433  5.488938  \n3    10.416310  1.521699  5.402678  \n4    10.496790  1.521699  5.402678  \n..         ...       ...       ...  \n501  10.016820  1.745715  5.609472  \n502   9.933046  1.745715  5.609472  \n503  10.081590  1.745715  5.609472  \n504   9.998797  1.745715  5.609472  \n505   9.384294  1.745715  5.609472  \n\n[506 rows x 12 columns]"
     },
     "execution_count": 3,
     "metadata": {},
     "output_type": "execute_result"
    }
   ],
   "source": [
    "hprice2"
   ]
  },
  {
   "cell_type": "code",
   "execution_count": null,
   "metadata": {},
   "outputs": [],
   "source": []
  }
 ]
}