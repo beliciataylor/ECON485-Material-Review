{
 "nbformat": 4,
 "nbformat_minor": 2,
 "metadata": {
  "language_info": {
   "name": "python",
   "codemirror_mode": {
    "name": "ipython",
    "version": 3
   },
   "version": "3.8.1-final"
  },
  "orig_nbformat": 2,
  "file_extension": ".py",
  "mimetype": "text/x-python",
  "name": "python",
  "npconvert_exporter": "python",
  "pygments_lexer": "ipython3",
  "version": 3,
  "kernelspec": {
   "name": "python38164bit88832310db0f46c6ba1b97f6fce48e8e",
   "display_name": "Python 3.8.1 64-bit"
  }
 },
 "cells": [
  {
   "cell_type": "markdown",
   "metadata": {},
   "source": [
    "# Multiple Linear Regression Model\n",
    "I will review the following topics:\n",
    "* The Algebra of the OLS Estimator\n",
    "* The Finite Sampling Properties of the OLS Estimator\n",
    "* Asymptotic Properties of the OLS Estimator\n",
    "* Regression Intervals\n",
    "* Forecast Intervals"
   ]
  },
  {
   "cell_type": "code",
   "execution_count": 26,
   "metadata": {},
   "outputs": [],
   "source": [
    "# download packages\n",
    "import pandas as pd\n",
    "import numpy as np\n",
    "import statsmodels.api as sm\n",
    "from statsmodels.regression.linear_model import OLS\n",
    "import patsy\n",
    "\n",
    "# download dataset to use throughout\n",
    "hprice2 = pd.read_stata('http://fmwww.bc.edu/ec-p/data/wooldridge/hprice2.dta')\n",
    "f = 'lprice ~ lnox + lproptax + crime + rooms + dist + radial + stratio + lowstat'"
   ]
  },
  {
   "cell_type": "code",
   "execution_count": 25,
   "metadata": {},
   "outputs": [
    {
     "data": {
      "text/html": "<div>\n<style scoped>\n    .dataframe tbody tr th:only-of-type {\n        vertical-align: middle;\n    }\n\n    .dataframe tbody tr th {\n        vertical-align: top;\n    }\n\n    .dataframe thead th {\n        text-align: right;\n    }\n</style>\n<table border=\"1\" class=\"dataframe\">\n  <thead>\n    <tr style=\"text-align: right;\">\n      <th></th>\n      <th>crime</th>\n      <th>lnox</th>\n    </tr>\n  </thead>\n  <tbody>\n    <tr>\n      <th>0</th>\n      <td>0.006</td>\n      <td>1.682688</td>\n    </tr>\n    <tr>\n      <th>1</th>\n      <td>0.027</td>\n      <td>1.545433</td>\n    </tr>\n    <tr>\n      <th>2</th>\n      <td>0.027</td>\n      <td>1.545433</td>\n    </tr>\n    <tr>\n      <th>3</th>\n      <td>0.032</td>\n      <td>1.521699</td>\n    </tr>\n    <tr>\n      <th>4</th>\n      <td>0.069</td>\n      <td>1.521699</td>\n    </tr>\n    <tr>\n      <th>...</th>\n      <td>...</td>\n      <td>...</td>\n    </tr>\n    <tr>\n      <th>501</th>\n      <td>0.063</td>\n      <td>1.745715</td>\n    </tr>\n    <tr>\n      <th>502</th>\n      <td>0.045</td>\n      <td>1.745715</td>\n    </tr>\n    <tr>\n      <th>503</th>\n      <td>0.061</td>\n      <td>1.745715</td>\n    </tr>\n    <tr>\n      <th>504</th>\n      <td>0.110</td>\n      <td>1.745715</td>\n    </tr>\n    <tr>\n      <th>505</th>\n      <td>0.047</td>\n      <td>1.745715</td>\n    </tr>\n  </tbody>\n</table>\n<p>506 rows × 2 columns</p>\n</div>",
      "text/plain": "     crime      lnox\n0    0.006  1.682688\n1    0.027  1.545433\n2    0.027  1.545433\n3    0.032  1.521699\n4    0.069  1.521699\n..     ...       ...\n501  0.063  1.745715\n502  0.045  1.745715\n503  0.061  1.745715\n504  0.110  1.745715\n505  0.047  1.745715\n\n[506 rows x 2 columns]"
     },
     "execution_count": 25,
     "metadata": {},
     "output_type": "execute_result"
    }
   ],
   "source": [
    "# view first six rows of the dataset\n",
    "hprice2.head()\n",
    "\n",
    "# view data information such as count, mean, max, etc\n",
    "hprice2.describe()\n",
    "\n",
    "# specify outcome variable (y) and regressors/predictors (x) using string\n",
    "f = 'lprice ~ lnox + lproptax + crime + rooms + dist + radial + stratio + lowstat'\n",
    "\n",
    "# select columns of the dataframe as an attribute (or using brackets) - creates panda series\n",
    "hprice2.crime\n",
    "hprice2['crime']\n",
    "\n",
    "# use double brackets to select columns as a dataframe\n",
    "hprice2[['crime', 'lnox']]\n",
    "\n",
    "# create a design matrix\n",
    "\n"
   ]
  },
  {
   "cell_type": "code",
   "execution_count": null,
   "metadata": {},
   "outputs": [],
   "source": []
  }
 ]
}