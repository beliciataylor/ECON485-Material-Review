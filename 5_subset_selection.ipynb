{
 "nbformat": 4,
 "nbformat_minor": 2,
 "metadata": {
  "language_info": {
   "name": "python",
   "codemirror_mode": {
    "name": "ipython",
    "version": 3
   },
   "version": "3.7.4-final"
  },
  "orig_nbformat": 2,
  "file_extension": ".py",
  "mimetype": "text/x-python",
  "name": "python",
  "npconvert_exporter": "python",
  "pygments_lexer": "ipython3",
  "version": 3,
  "kernelspec": {
   "name": "python3",
   "display_name": "Python 3"
  }
 },
 "cells": [
  {
   "cell_type": "markdown",
   "metadata": {},
   "source": [
    "# Subset Selection\n",
    "* approach involves identifying a subset of p features (predictors) out of k that we think are related to the response\n",
    "\n",
    "* then fit a model using OLS on the reduced set of variables"
   ]
  },
  {
   "cell_type": "code",
   "execution_count": 5,
   "metadata": {},
   "outputs": [],
   "source": [
    "import pandas as pd\n",
    "import numpy as np\n",
    "import patsy\n",
    "import itertools\n",
    "import time\n",
    "import statsmodels.api as sm\n",
    "\n",
    "# import dataset \n",
    "hprice2 = pd.read_stata('http://fmwww.bc.edu/ec-p/data/wooldridge/hprice2.dta')\n",
    "\n",
    "# write specification\n",
    "f = 'lprice ~ lnox + lproptax + crime + rooms + dist + radial + stratio + lowstat'\n",
    "\n",
    "# create design matrices\n",
    "y1, X1 = patsy.dmatrices(f, data=hprice2, return_type='dataframe')"
   ]
  },
  {
   "cell_type": "code",
   "execution_count": 6,
   "metadata": {},
   "outputs": [],
   "source": [
    "# pre-processing: demean outcome and features so all models can be fitted without an intercept\n",
    "y = y1.sub(y1.mean())\n",
    "X = X1.sub(X1.mean()).drop('Intercept',axis=1)"
   ]
  },
  {
   "cell_type": "markdown",
   "metadata": {},
   "source": [
    "## Best Subset Selection\n",
    "* fit separate OLS regression best subset for each possible combination of k predictors\n",
    "\n",
    "* fit all k models that contain exactly one predictor, then all ${k \\choose 2} = \\frac{k(k-1)}{2}$ models that contain exactly two predictors, etc.\n",
    "\n",
    "* look at resulting models to identify the best one\n",
    "\n",
    "* number of models to consider grows rapidly as k increases!"
   ]
  },
  {
   "cell_type": "markdown",
   "metadata": {},
   "source": [
    "### Algorithm: Best Subset Selection\n",
    "\n",
    "1. Let $\\mathcal{M_0}$ denote null model (i.e no predictors) - predicts sample mean for each observation\n",
    "\n",
    "2. For p = 1,2,..., k:\n",
    "\n",
    "a) Fit all ${k \\choose p}$ models that contain exactly p predictors\n",
    "\n",
    "b) Pick best among these ${k \\choose p}$ models and call it $\\mathcal{M_p}$; in this case, best is defined as having the smallest RSS or, equivalently, the largest $R^2$"
   ]
  },
  {
   "cell_type": "code",
   "execution_count": 7,
   "metadata": {},
   "outputs": [],
   "source": [
    "# define a function that takes the predictors selected and subsets the X design matrix\n",
    "def processSubset(feature_set):\n",
    "    # Fit model on feature_set\n",
    "    model = sm.OLS(y,X[list(feature_set)])\n",
    "    regr = model.fit()\n",
    "\n",
    "    # calculate RSS\n",
    "    RSS = regr.ssr\n",
    "    return {\"model\":regr, \"RSS\":RSS}\n",
    "\n",
    "# define a function that selects the best model with p number of predictors\n",
    "def getBest(p):\n",
    "    \n",
    "    # empty list to collect model and RSS \n",
    "    results = []\n",
    "    \n",
    "    # iterate through the different predictor combinations subject to a limit of p predictors\n",
    "    for combo in itertools.combinations(X.columns, p):\n",
    "        results.append(processSubset(combo))\n",
    "    \n",
    "    # Create a dataframe of the results\n",
    "    models = pd.DataFrame(results)\n",
    "    \n",
    "    # Choose the model with the lowest RSS\n",
    "    best_model = models.loc[models['RSS'].argmin()]\n",
    "    \n",
    "    # Return the best model, along with some other useful information about the model\n",
    "    return best_model\n",
    "\n",
    "# dataframe where best models will be collected\n",
    "models_best = pd.DataFrame(columns=[\"RSS\", \"model\"])\n",
    "\n",
    "# for loop that collects the best model for each number of predictors\n",
    "for i in range(1,9):\n",
    "    models_best.loc[i] = getBest(i)"
   ]
  },
  {
   "cell_type": "code",
   "execution_count": 14,
   "metadata": {},
   "outputs": [],
   "source": [
    "# make graphs of results - will do later"
   ]
  },
  {
   "cell_type": "markdown",
   "metadata": {},
   "source": [
    "## Stepwise Selection: Forward Stepwise Selection\n",
    "* computational reasoning, previous 'best subset selection' can't be applied with very large k's\n",
    "\n",
    "* this algorithm begins with a model containing no predictors, then adds predictors to the model one-at-a-time until all predictors are in the model"
   ]
  },
  {
   "cell_type": "code",
   "execution_count": null,
   "metadata": {},
   "outputs": [],
   "source": []
  }
 ]
}