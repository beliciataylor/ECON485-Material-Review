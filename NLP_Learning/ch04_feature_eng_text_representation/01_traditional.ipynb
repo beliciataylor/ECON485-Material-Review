{
 "nbformat": 4,
 "nbformat_minor": 2,
 "metadata": {
  "language_info": {
   "name": "python",
   "codemirror_mode": {
    "name": "ipython",
    "version": 3
   },
   "version": "3.7.4-final"
  },
  "orig_nbformat": 2,
  "file_extension": ".py",
  "mimetype": "text/x-python",
  "name": "python",
  "npconvert_exporter": "python",
  "pygments_lexer": "ipython3",
  "version": 3,
  "kernelspec": {
   "name": "python38164bit88832310db0f46c6ba1b97f6fce48e8e",
   "display_name": "Python 3.8.1 64-bit"
  }
 },
 "cells": [
  {
   "cell_type": "markdown",
   "metadata": {},
   "source": [
    "# _Feature Engineering for Text Representation_\n",
    "* Data\n",
    "    1. Building a Text Corpus\n",
    "    2. Preprocessing Our Text Corpus\n",
    "* Traditional Feature Engineering Models\n",
    "    1. Bag of Words Model\n",
    "    2. Bag of N-Grams Model\n",
    "    3. TF-IDF Model\n",
    "    4. Extracting Features for New Documents\n",
    "    5. Document Similarity\n",
    "    6. Topic Models"
   ]
  },
  {
   "cell_type": "markdown",
   "metadata": {},
   "source": [
    "# Intro\n",
    "* all machine learning and deep learning models are limited because they cannot understand raw text data directly; they only understand numeric representations of features as inputs\n",
    "* have to understand how to work with text data - most abundant sources of unstructured data\n",
    "* text data: documents that represent words, sentences or paragraphs of free flowing text\n",
    "* inherent lack of structure and noisy nature of textual data makes it harder for ML methods to directly work with raw text data\n",
    "* need methods and strategies to extract meaningful features from text data\n",
    "* feature engineering is important for unstructured, textual data cause need to convert free-flowing text into some numeric representation that can be understood by ML algorithms\n",
    "* covered following techniques:\n",
    "    1. Bag of Words model\n",
    "    2. Bag of N-Grams model\n",
    "    3. TF-IDF model\n",
    "    4. Similarity features\n",
    "    5. Topic models\n",
    "    6. Word2Vec\n",
    "    7. GloVe\n",
    "    8. FastText"
   ]
  },
  {
   "cell_type": "markdown",
   "metadata": {},
   "source": [
    "# Understanding Text Data\n",
    "* text data can be structured, categorical attributes\n",
    "* this scenario, we're talking about free-flowing text in form of words, phrases, sentences and entire document\n",
    "* no inherent structure to text documents because there's a wide variety of words that can vary across documents and each sentence will be of variable length as compared to a fixed umber of data dimension in structured dataset\n",
    "* how can we represent text data for machines to understand? use a _vector space model_: (i.e term vector model) mathematical and algebraic model for transforming and representing text documents as numeric vectors of specific terms that form the vector dimensions\n",
    "* mathematically: let $D$ represent a document in vector space $VS$; the number of dimensions or columns for each document will be the total number of distinct terms or words for all documents in the vector space $VS = \\{W_1, W_2, \\dots, W_n\\}$ where there are $n$ distinct words across all documents. Now represent document $D$ in this vector space as follows: $D = \\{w_{D1}, w_{D2}, \\dots, w_{Dn}\\}$ where $W_{Dn}$ denotes weight for word $n$ in document $D$\n",
    "* weight is a numeric value and can be anything ranging from frequency of word in document, the average frequency of occurence, embedding weights, or even TF-IDF weight\n",
    "* important point: once we build feature engineering model, need to use the same process when extracting features from new documents to be predicted and not rebuild whole algorithm based on new documents\n"
   ]
  },
  {
   "cell_type": "markdown",
   "metadata": {},
   "source": [
    "# Data\n",
    "\n",
    "## Preprocessing Our Text Corpus\n",
    "* highlighting most important cleaning and preprocessing techniques that are used heavily in NLP\n",
    "    1. Removing tags: HTML tags not necessary, use BeautifulSoup library to remove them\n",
    "    2. Removing accented characters: convert characcters and standardize into ASCII characters\n",
    "    3. Expanding contradictions\n",
    "    4. Removing special characters: non alphanumeric characters\n",
    "    5. Stemming and lemmatization: two processes to get to the base of the word\n",
    "    6. Removing stopwords\n",
    "* others from ch3 include tokenization, removing extra whitespace, text lowercasing, spelling corrections, grammatical error corrections, removing repeated characters, etc.\n"
   ]
  },
  {
   "cell_type": "code",
   "execution_count": 5,
   "metadata": {},
   "outputs": [],
   "source": [
    "import pandas as pd\n",
    "import numpy as np\n",
    "import re\n",
    "import nltk\n",
    "import matplotlib.pyplot as plt\n",
    "import handmade.pickle_jar as pj\n",
    "\n",
    "pd.options.display.max_colwidth = 200\n",
    "%matplotlib inline"
   ]
  },
  {
   "cell_type": "code",
   "execution_count": 7,
   "metadata": {},
   "outputs": [
    {
     "output_type": "execute_result",
     "data": {
      "text/plain": "                                                             Document Category\n0                                      The sky is blue and beautiful.  weather\n1                                   Love this blue and beautiful sky!  weather\n2                        The quick brown fox jumps over the lazy dog.  animals\n3  A king's breakfast has sausages, ham, bacon, eggs, toast and beans     food\n4                        I love green eggs, ham, sausages, and bacon!     food\n5                    The brown fox is quick and the blue dog is lazy!  animals\n6            The sky is very blue and the sky is very beautiful today  weather\n7                         The dog is lazy but the brown fox is quick!  animals",
      "text/html": "<div>\n<style scoped>\n    .dataframe tbody tr th:only-of-type {\n        vertical-align: middle;\n    }\n\n    .dataframe tbody tr th {\n        vertical-align: top;\n    }\n\n    .dataframe thead th {\n        text-align: right;\n    }\n</style>\n<table border=\"1\" class=\"dataframe\">\n  <thead>\n    <tr style=\"text-align: right;\">\n      <th></th>\n      <th>Document</th>\n      <th>Category</th>\n    </tr>\n  </thead>\n  <tbody>\n    <tr>\n      <th>0</th>\n      <td>The sky is blue and beautiful.</td>\n      <td>weather</td>\n    </tr>\n    <tr>\n      <th>1</th>\n      <td>Love this blue and beautiful sky!</td>\n      <td>weather</td>\n    </tr>\n    <tr>\n      <th>2</th>\n      <td>The quick brown fox jumps over the lazy dog.</td>\n      <td>animals</td>\n    </tr>\n    <tr>\n      <th>3</th>\n      <td>A king's breakfast has sausages, ham, bacon, eggs, toast and beans</td>\n      <td>food</td>\n    </tr>\n    <tr>\n      <th>4</th>\n      <td>I love green eggs, ham, sausages, and bacon!</td>\n      <td>food</td>\n    </tr>\n    <tr>\n      <th>5</th>\n      <td>The brown fox is quick and the blue dog is lazy!</td>\n      <td>animals</td>\n    </tr>\n    <tr>\n      <th>6</th>\n      <td>The sky is very blue and the sky is very beautiful today</td>\n      <td>weather</td>\n    </tr>\n    <tr>\n      <th>7</th>\n      <td>The dog is lazy but the brown fox is quick!</td>\n      <td>animals</td>\n    </tr>\n  </tbody>\n</table>\n</div>"
     },
     "metadata": {},
     "execution_count": 7
    }
   ],
   "source": [
    "# use pickle_jar to build text corpus\n",
    "corpus_df = pj.corpus_df\n",
    "corpus_df"
   ]
  },
  {
   "cell_type": "code",
   "execution_count": 8,
   "metadata": {},
   "outputs": [
    {
     "output_type": "execute_result",
     "data": {
      "text/plain": "array(['sky blue beautiful', 'love blue beautiful sky',\n       'quick brown fox jumps lazy dog',\n       'kings breakfast sausages ham bacon eggs toast beans',\n       'love green eggs ham sausages bacon',\n       'brown fox quick blue dog lazy', 'sky blue sky beautiful today',\n       'dog lazy brown fox quick'], dtype='<U51')"
     },
     "metadata": {},
     "execution_count": 8
    }
   ],
   "source": [
    "# use pickle_jar to preprocess data\n",
    "norm_corpus = pj.norm_corpus\n",
    "norm_corpus"
   ]
  },
  {
   "cell_type": "markdown",
   "metadata": {},
   "source": [
    "# Traditional Feature Engineering Models\n",
    "* traditional (count-based) feature engineering strategies for textual data belong to a family of models popularly known as the Bag of Words model, includes\n",
    "    1. term frequencies\n",
    "    2. TF-IDF (term frequency-inverse document frequency)\n",
    "    3. N-grams\n",
    "    4. topic models, etc.\n",
    "* while they're effective methods for extracting features from text, due to inherent nature of the mode being a bag of unstructured words, also lose additional information such as semantics, structure, sequence, and context around words in each text document\n"
   ]
  },
  {
   "cell_type": "markdown",
   "metadata": {},
   "source": [
    "## Bag of Words Model\n",
    "* simplest vector space rep model for unstructured text\n",
    "* vector space model: a math model to represent unstructured text (or any other data) as numeric vectors such that each dimension of the vector is a specific feature/attribute\n",
    "* bag of words: represents each text doc as a numeric vector where each dimension is a specific word from the corpus and the value could be its frequency in the doc, occurence (denoted by 1 or 0), or even weighted values\n",
    "* model's name comes from each document being represented as a literal bag of its own words; disregards word order, sequences, and grammar\n",
    "\n",
    "FUNCTIONS\n",
    "from sklearn.feature_extractions.text\n",
    "* CountVectorizer(): convert a collection of text documents to a matrix of token counts\n",
    "    1. parameters:\n",
    "        - min_df: when building a vocabulary, ignore terms w/ document frequency strictly lower than freq threshold\n",
    "        - max_df: when building a vocabulary, ignore terms w/ document frequency strictly higher than freq threshold\n",
    "        - ngram_range: the lower and upper boundary of the range of n-values for different word n-grams or char n-grams to be extracted\n",
    "    2. attributes\n",
    "        - fit_transform(): learn the vocabulary dictionary and return document-term matrix\n",
    "        - get_feature_names(): array mapping from feature integer indices to feature name\n",
    "* np.vectorize(): transform functions which are not numpy-aware (e.g. take floats as input and return floats as output) into functions that can operate on (and return) numpy arrays (from stack overflow)\n",
    "    1. parameters:\n",
    "        - pyfunc: a python function or method (required)"
   ]
  },
  {
   "cell_type": "code",
   "execution_count": 9,
   "metadata": {},
   "outputs": [
    {
     "output_type": "stream",
     "name": "stdout",
     "text": "(0, 17)\t1\n  (0, 3)\t1\n  (0, 2)\t1\n  (1, 17)\t1\n  (1, 3)\t1\n  (1, 2)\t1\n  (1, 14)\t1\n  (2, 15)\t1\n  (2, 5)\t1\n  (2, 8)\t1\n  (2, 11)\t1\n  (2, 13)\t1\n  (2, 6)\t1\n  (3, 12)\t1\n  (3, 4)\t1\n  (3, 16)\t1\n  (3, 10)\t1\n  (3, 0)\t1\n  (3, 7)\t1\n  (3, 18)\t1\n  (3, 1)\t1\n  (4, 14)\t1\n  (4, 16)\t1\n  (4, 10)\t1\n  (4, 0)\t1\n  (4, 7)\t1\n  (4, 9)\t1\n  (5, 3)\t1\n  (5, 15)\t1\n  (5, 5)\t1\n  (5, 8)\t1\n  (5, 13)\t1\n  (5, 6)\t1\n  (6, 17)\t2\n  (6, 3)\t1\n  (6, 2)\t1\n  (6, 19)\t1\n  (7, 15)\t1\n  (7, 5)\t1\n  (7, 8)\t1\n  (7, 13)\t1\n  (7, 6)\t1\n"
    }
   ],
   "source": [
    "from sklearn.feature_extraction.text import CountVectorizer\n",
    "# get bag of words features in sparse format\n",
    "cv = CountVectorizer(min_df=0., max_df=1.)\n",
    "cv_matrix = cv.fit_transform(norm_corpus)\n",
    "\n",
    "# view non-zero feature positions in the sparse matrix\n",
    "print(cv_matrix)"
   ]
  },
  {
   "cell_type": "code",
   "execution_count": 10,
   "metadata": {},
   "outputs": [
    {
     "output_type": "execute_result",
     "data": {
      "text/plain": "array([[0, 0, 1, 1, 0, 0, 0, 0, 0, 0, 0, 0, 0, 0, 0, 0, 0, 1, 0, 0],\n       [0, 0, 1, 1, 0, 0, 0, 0, 0, 0, 0, 0, 0, 0, 1, 0, 0, 1, 0, 0],\n       [0, 0, 0, 0, 0, 1, 1, 0, 1, 0, 0, 1, 0, 1, 0, 1, 0, 0, 0, 0],\n       [1, 1, 0, 0, 1, 0, 0, 1, 0, 0, 1, 0, 1, 0, 0, 0, 1, 0, 1, 0],\n       [1, 0, 0, 0, 0, 0, 0, 1, 0, 1, 1, 0, 0, 0, 1, 0, 1, 0, 0, 0],\n       [0, 0, 0, 1, 0, 1, 1, 0, 1, 0, 0, 0, 0, 1, 0, 1, 0, 0, 0, 0],\n       [0, 0, 1, 1, 0, 0, 0, 0, 0, 0, 0, 0, 0, 0, 0, 0, 0, 2, 0, 1],\n       [0, 0, 0, 0, 0, 1, 1, 0, 1, 0, 0, 0, 0, 1, 0, 1, 0, 0, 0, 0]])"
     },
     "metadata": {},
     "execution_count": 10
    }
   ],
   "source": [
    "# view output in dense matrix representation\n",
    "# warning might give a memory error if data is too big\n",
    "cv_matrix = cv_matrix.toarray()\n",
    "cv_matrix"
   ]
  },
  {
   "cell_type": "code",
   "execution_count": 11,
   "metadata": {},
   "outputs": [
    {
     "output_type": "execute_result",
     "data": {
      "text/plain": "   bacon  beans  beautiful  blue  breakfast  brown  dog  eggs  fox  green  \\\n0      0      0          1     1          0      0    0     0    0      0   \n1      0      0          1     1          0      0    0     0    0      0   \n2      0      0          0     0          0      1    1     0    1      0   \n3      1      1          0     0          1      0    0     1    0      0   \n4      1      0          0     0          0      0    0     1    0      1   \n5      0      0          0     1          0      1    1     0    1      0   \n6      0      0          1     1          0      0    0     0    0      0   \n7      0      0          0     0          0      1    1     0    1      0   \n\n   ham  jumps  kings  lazy  love  quick  sausages  sky  toast  today  \n0    0      0      0     0     0      0         0    1      0      0  \n1    0      0      0     0     1      0         0    1      0      0  \n2    0      1      0     1     0      1         0    0      0      0  \n3    1      0      1     0     0      0         1    0      1      0  \n4    1      0      0     0     1      0         1    0      0      0  \n5    0      0      0     1     0      1         0    0      0      0  \n6    0      0      0     0     0      0         0    2      0      1  \n7    0      0      0     1     0      1         0    0      0      0  ",
      "text/html": "<div>\n<style scoped>\n    .dataframe tbody tr th:only-of-type {\n        vertical-align: middle;\n    }\n\n    .dataframe tbody tr th {\n        vertical-align: top;\n    }\n\n    .dataframe thead th {\n        text-align: right;\n    }\n</style>\n<table border=\"1\" class=\"dataframe\">\n  <thead>\n    <tr style=\"text-align: right;\">\n      <th></th>\n      <th>bacon</th>\n      <th>beans</th>\n      <th>beautiful</th>\n      <th>blue</th>\n      <th>breakfast</th>\n      <th>brown</th>\n      <th>dog</th>\n      <th>eggs</th>\n      <th>fox</th>\n      <th>green</th>\n      <th>ham</th>\n      <th>jumps</th>\n      <th>kings</th>\n      <th>lazy</th>\n      <th>love</th>\n      <th>quick</th>\n      <th>sausages</th>\n      <th>sky</th>\n      <th>toast</th>\n      <th>today</th>\n    </tr>\n  </thead>\n  <tbody>\n    <tr>\n      <th>0</th>\n      <td>0</td>\n      <td>0</td>\n      <td>1</td>\n      <td>1</td>\n      <td>0</td>\n      <td>0</td>\n      <td>0</td>\n      <td>0</td>\n      <td>0</td>\n      <td>0</td>\n      <td>0</td>\n      <td>0</td>\n      <td>0</td>\n      <td>0</td>\n      <td>0</td>\n      <td>0</td>\n      <td>0</td>\n      <td>1</td>\n      <td>0</td>\n      <td>0</td>\n    </tr>\n    <tr>\n      <th>1</th>\n      <td>0</td>\n      <td>0</td>\n      <td>1</td>\n      <td>1</td>\n      <td>0</td>\n      <td>0</td>\n      <td>0</td>\n      <td>0</td>\n      <td>0</td>\n      <td>0</td>\n      <td>0</td>\n      <td>0</td>\n      <td>0</td>\n      <td>0</td>\n      <td>1</td>\n      <td>0</td>\n      <td>0</td>\n      <td>1</td>\n      <td>0</td>\n      <td>0</td>\n    </tr>\n    <tr>\n      <th>2</th>\n      <td>0</td>\n      <td>0</td>\n      <td>0</td>\n      <td>0</td>\n      <td>0</td>\n      <td>1</td>\n      <td>1</td>\n      <td>0</td>\n      <td>1</td>\n      <td>0</td>\n      <td>0</td>\n      <td>1</td>\n      <td>0</td>\n      <td>1</td>\n      <td>0</td>\n      <td>1</td>\n      <td>0</td>\n      <td>0</td>\n      <td>0</td>\n      <td>0</td>\n    </tr>\n    <tr>\n      <th>3</th>\n      <td>1</td>\n      <td>1</td>\n      <td>0</td>\n      <td>0</td>\n      <td>1</td>\n      <td>0</td>\n      <td>0</td>\n      <td>1</td>\n      <td>0</td>\n      <td>0</td>\n      <td>1</td>\n      <td>0</td>\n      <td>1</td>\n      <td>0</td>\n      <td>0</td>\n      <td>0</td>\n      <td>1</td>\n      <td>0</td>\n      <td>1</td>\n      <td>0</td>\n    </tr>\n    <tr>\n      <th>4</th>\n      <td>1</td>\n      <td>0</td>\n      <td>0</td>\n      <td>0</td>\n      <td>0</td>\n      <td>0</td>\n      <td>0</td>\n      <td>1</td>\n      <td>0</td>\n      <td>1</td>\n      <td>1</td>\n      <td>0</td>\n      <td>0</td>\n      <td>0</td>\n      <td>1</td>\n      <td>0</td>\n      <td>1</td>\n      <td>0</td>\n      <td>0</td>\n      <td>0</td>\n    </tr>\n    <tr>\n      <th>5</th>\n      <td>0</td>\n      <td>0</td>\n      <td>0</td>\n      <td>1</td>\n      <td>0</td>\n      <td>1</td>\n      <td>1</td>\n      <td>0</td>\n      <td>1</td>\n      <td>0</td>\n      <td>0</td>\n      <td>0</td>\n      <td>0</td>\n      <td>1</td>\n      <td>0</td>\n      <td>1</td>\n      <td>0</td>\n      <td>0</td>\n      <td>0</td>\n      <td>0</td>\n    </tr>\n    <tr>\n      <th>6</th>\n      <td>0</td>\n      <td>0</td>\n      <td>1</td>\n      <td>1</td>\n      <td>0</td>\n      <td>0</td>\n      <td>0</td>\n      <td>0</td>\n      <td>0</td>\n      <td>0</td>\n      <td>0</td>\n      <td>0</td>\n      <td>0</td>\n      <td>0</td>\n      <td>0</td>\n      <td>0</td>\n      <td>0</td>\n      <td>2</td>\n      <td>0</td>\n      <td>1</td>\n    </tr>\n    <tr>\n      <th>7</th>\n      <td>0</td>\n      <td>0</td>\n      <td>0</td>\n      <td>0</td>\n      <td>0</td>\n      <td>1</td>\n      <td>1</td>\n      <td>0</td>\n      <td>1</td>\n      <td>0</td>\n      <td>0</td>\n      <td>0</td>\n      <td>0</td>\n      <td>1</td>\n      <td>0</td>\n      <td>1</td>\n      <td>0</td>\n      <td>0</td>\n      <td>0</td>\n      <td>0</td>\n    </tr>\n  </tbody>\n</table>\n</div>"
     },
     "metadata": {},
     "execution_count": 11
    }
   ],
   "source": [
    "# get all unique words in the corpus\n",
    "vocab = cv.get_feature_names()\n",
    "\n",
    "# show document feature vectors\n",
    "pd.DataFrame(cv_matrix, columns=vocab)"
   ]
  },
  {
   "cell_type": "markdown",
   "metadata": {},
   "source": [
    "## Bag of N-Grams Model\n",
    "* helps to take into account phrases or collection of words that occur in sequence\n",
    "* def: a collection of word tokens from a text doc such that these tokens are contiguous and occur in sequence\n",
    "* extension of the BOW model that leverages N-gram based features\n",
    "* each feature is a n-gram representing a sequence of n words and values represent how many times the n-gram was present in the document"
   ]
  },
  {
   "cell_type": "code",
   "execution_count": 13,
   "metadata": {},
   "outputs": [
    {
     "output_type": "execute_result",
     "data": {
      "text/plain": "   bacon eggs  beautiful sky  beautiful today  blue beautiful  blue dog  \\\n0           0              0                0               1         0   \n1           0              1                0               1         0   \n2           0              0                0               0         0   \n3           1              0                0               0         0   \n4           0              0                0               0         0   \n5           0              0                0               0         1   \n6           0              0                1               0         0   \n7           0              0                0               0         0   \n\n   blue sky  breakfast sausages  brown fox  dog lazy  eggs ham  ...  lazy dog  \\\n0         0                   0          0         0         0  ...         0   \n1         0                   0          0         0         0  ...         0   \n2         0                   0          1         0         0  ...         1   \n3         0                   1          0         0         0  ...         0   \n4         0                   0          0         0         1  ...         0   \n5         0                   0          1         1         0  ...         0   \n6         1                   0          0         0         0  ...         0   \n7         0                   0          1         1         0  ...         0   \n\n   love blue  love green  quick blue  quick brown  sausages bacon  \\\n0          0           0           0            0               0   \n1          1           0           0            0               0   \n2          0           0           0            1               0   \n3          0           0           0            0               0   \n4          0           1           0            0               1   \n5          0           0           1            0               0   \n6          0           0           0            0               0   \n7          0           0           0            0               0   \n\n   sausages ham  sky beautiful  sky blue  toast beans  \n0             0              0         1            0  \n1             0              0         0            0  \n2             0              0         0            0  \n3             1              0         0            1  \n4             0              0         0            0  \n5             0              0         0            0  \n6             0              1         1            0  \n7             0              0         0            0  \n\n[8 rows x 29 columns]",
      "text/html": "<div>\n<style scoped>\n    .dataframe tbody tr th:only-of-type {\n        vertical-align: middle;\n    }\n\n    .dataframe tbody tr th {\n        vertical-align: top;\n    }\n\n    .dataframe thead th {\n        text-align: right;\n    }\n</style>\n<table border=\"1\" class=\"dataframe\">\n  <thead>\n    <tr style=\"text-align: right;\">\n      <th></th>\n      <th>bacon eggs</th>\n      <th>beautiful sky</th>\n      <th>beautiful today</th>\n      <th>blue beautiful</th>\n      <th>blue dog</th>\n      <th>blue sky</th>\n      <th>breakfast sausages</th>\n      <th>brown fox</th>\n      <th>dog lazy</th>\n      <th>eggs ham</th>\n      <th>...</th>\n      <th>lazy dog</th>\n      <th>love blue</th>\n      <th>love green</th>\n      <th>quick blue</th>\n      <th>quick brown</th>\n      <th>sausages bacon</th>\n      <th>sausages ham</th>\n      <th>sky beautiful</th>\n      <th>sky blue</th>\n      <th>toast beans</th>\n    </tr>\n  </thead>\n  <tbody>\n    <tr>\n      <th>0</th>\n      <td>0</td>\n      <td>0</td>\n      <td>0</td>\n      <td>1</td>\n      <td>0</td>\n      <td>0</td>\n      <td>0</td>\n      <td>0</td>\n      <td>0</td>\n      <td>0</td>\n      <td>...</td>\n      <td>0</td>\n      <td>0</td>\n      <td>0</td>\n      <td>0</td>\n      <td>0</td>\n      <td>0</td>\n      <td>0</td>\n      <td>0</td>\n      <td>1</td>\n      <td>0</td>\n    </tr>\n    <tr>\n      <th>1</th>\n      <td>0</td>\n      <td>1</td>\n      <td>0</td>\n      <td>1</td>\n      <td>0</td>\n      <td>0</td>\n      <td>0</td>\n      <td>0</td>\n      <td>0</td>\n      <td>0</td>\n      <td>...</td>\n      <td>0</td>\n      <td>1</td>\n      <td>0</td>\n      <td>0</td>\n      <td>0</td>\n      <td>0</td>\n      <td>0</td>\n      <td>0</td>\n      <td>0</td>\n      <td>0</td>\n    </tr>\n    <tr>\n      <th>2</th>\n      <td>0</td>\n      <td>0</td>\n      <td>0</td>\n      <td>0</td>\n      <td>0</td>\n      <td>0</td>\n      <td>0</td>\n      <td>1</td>\n      <td>0</td>\n      <td>0</td>\n      <td>...</td>\n      <td>1</td>\n      <td>0</td>\n      <td>0</td>\n      <td>0</td>\n      <td>1</td>\n      <td>0</td>\n      <td>0</td>\n      <td>0</td>\n      <td>0</td>\n      <td>0</td>\n    </tr>\n    <tr>\n      <th>3</th>\n      <td>1</td>\n      <td>0</td>\n      <td>0</td>\n      <td>0</td>\n      <td>0</td>\n      <td>0</td>\n      <td>1</td>\n      <td>0</td>\n      <td>0</td>\n      <td>0</td>\n      <td>...</td>\n      <td>0</td>\n      <td>0</td>\n      <td>0</td>\n      <td>0</td>\n      <td>0</td>\n      <td>0</td>\n      <td>1</td>\n      <td>0</td>\n      <td>0</td>\n      <td>1</td>\n    </tr>\n    <tr>\n      <th>4</th>\n      <td>0</td>\n      <td>0</td>\n      <td>0</td>\n      <td>0</td>\n      <td>0</td>\n      <td>0</td>\n      <td>0</td>\n      <td>0</td>\n      <td>0</td>\n      <td>1</td>\n      <td>...</td>\n      <td>0</td>\n      <td>0</td>\n      <td>1</td>\n      <td>0</td>\n      <td>0</td>\n      <td>1</td>\n      <td>0</td>\n      <td>0</td>\n      <td>0</td>\n      <td>0</td>\n    </tr>\n    <tr>\n      <th>5</th>\n      <td>0</td>\n      <td>0</td>\n      <td>0</td>\n      <td>0</td>\n      <td>1</td>\n      <td>0</td>\n      <td>0</td>\n      <td>1</td>\n      <td>1</td>\n      <td>0</td>\n      <td>...</td>\n      <td>0</td>\n      <td>0</td>\n      <td>0</td>\n      <td>1</td>\n      <td>0</td>\n      <td>0</td>\n      <td>0</td>\n      <td>0</td>\n      <td>0</td>\n      <td>0</td>\n    </tr>\n    <tr>\n      <th>6</th>\n      <td>0</td>\n      <td>0</td>\n      <td>1</td>\n      <td>0</td>\n      <td>0</td>\n      <td>1</td>\n      <td>0</td>\n      <td>0</td>\n      <td>0</td>\n      <td>0</td>\n      <td>...</td>\n      <td>0</td>\n      <td>0</td>\n      <td>0</td>\n      <td>0</td>\n      <td>0</td>\n      <td>0</td>\n      <td>0</td>\n      <td>1</td>\n      <td>1</td>\n      <td>0</td>\n    </tr>\n    <tr>\n      <th>7</th>\n      <td>0</td>\n      <td>0</td>\n      <td>0</td>\n      <td>0</td>\n      <td>0</td>\n      <td>0</td>\n      <td>0</td>\n      <td>1</td>\n      <td>1</td>\n      <td>0</td>\n      <td>...</td>\n      <td>0</td>\n      <td>0</td>\n      <td>0</td>\n      <td>0</td>\n      <td>0</td>\n      <td>0</td>\n      <td>0</td>\n      <td>0</td>\n      <td>0</td>\n      <td>0</td>\n    </tr>\n  </tbody>\n</table>\n<p>8 rows × 29 columns</p>\n</div>"
     },
     "metadata": {},
     "execution_count": 13
    }
   ],
   "source": [
    "# can set the n-gram range to 1,2 to get unigrams as well as bigrams\n",
    "bv = CountVectorizer(ngram_range=(2,2))\n",
    "bv_matrix = bv.fit_transform(norm_corpus)\n",
    "\n",
    "bv_matrix = bv_matrix.toarray()\n",
    "vocab = bv.get_feature_names()\n",
    "pd.DataFrame(bv_matrix, columns=vocab)"
   ]
  },
  {
   "cell_type": "markdown",
   "metadata": {},
   "source": [
    "## TF-IDF Model"
   ]
  },
  {
   "cell_type": "code",
   "execution_count": 14,
   "metadata": {},
   "outputs": [
    {
     "output_type": "execute_result",
     "data": {
      "text/plain": "   bacon  beans  beautiful  blue  breakfast  brown   dog  eggs   fox  green  \\\n0   0.00   0.00       0.60  0.53       0.00   0.00  0.00  0.00  0.00   0.00   \n1   0.00   0.00       0.49  0.43       0.00   0.00  0.00  0.00  0.00   0.00   \n2   0.00   0.00       0.00  0.00       0.00   0.38  0.38  0.00  0.38   0.00   \n3   0.32   0.38       0.00  0.00       0.38   0.00  0.00  0.32  0.00   0.00   \n4   0.39   0.00       0.00  0.00       0.00   0.00  0.00  0.39  0.00   0.47   \n5   0.00   0.00       0.00  0.37       0.00   0.42  0.42  0.00  0.42   0.00   \n6   0.00   0.00       0.36  0.32       0.00   0.00  0.00  0.00  0.00   0.00   \n7   0.00   0.00       0.00  0.00       0.00   0.45  0.45  0.00  0.45   0.00   \n\n    ham  jumps  kings  lazy  love  quick  sausages   sky  toast  today  \n0  0.00   0.00   0.00  0.00  0.00   0.00      0.00  0.60   0.00    0.0  \n1  0.00   0.00   0.00  0.00  0.57   0.00      0.00  0.49   0.00    0.0  \n2  0.00   0.53   0.00  0.38  0.00   0.38      0.00  0.00   0.00    0.0  \n3  0.32   0.00   0.38  0.00  0.00   0.00      0.32  0.00   0.38    0.0  \n4  0.39   0.00   0.00  0.00  0.39   0.00      0.39  0.00   0.00    0.0  \n5  0.00   0.00   0.00  0.42  0.00   0.42      0.00  0.00   0.00    0.0  \n6  0.00   0.00   0.00  0.00  0.00   0.00      0.00  0.72   0.00    0.5  \n7  0.00   0.00   0.00  0.45  0.00   0.45      0.00  0.00   0.00    0.0  ",
      "text/html": "<div>\n<style scoped>\n    .dataframe tbody tr th:only-of-type {\n        vertical-align: middle;\n    }\n\n    .dataframe tbody tr th {\n        vertical-align: top;\n    }\n\n    .dataframe thead th {\n        text-align: right;\n    }\n</style>\n<table border=\"1\" class=\"dataframe\">\n  <thead>\n    <tr style=\"text-align: right;\">\n      <th></th>\n      <th>bacon</th>\n      <th>beans</th>\n      <th>beautiful</th>\n      <th>blue</th>\n      <th>breakfast</th>\n      <th>brown</th>\n      <th>dog</th>\n      <th>eggs</th>\n      <th>fox</th>\n      <th>green</th>\n      <th>ham</th>\n      <th>jumps</th>\n      <th>kings</th>\n      <th>lazy</th>\n      <th>love</th>\n      <th>quick</th>\n      <th>sausages</th>\n      <th>sky</th>\n      <th>toast</th>\n      <th>today</th>\n    </tr>\n  </thead>\n  <tbody>\n    <tr>\n      <th>0</th>\n      <td>0.00</td>\n      <td>0.00</td>\n      <td>0.60</td>\n      <td>0.53</td>\n      <td>0.00</td>\n      <td>0.00</td>\n      <td>0.00</td>\n      <td>0.00</td>\n      <td>0.00</td>\n      <td>0.00</td>\n      <td>0.00</td>\n      <td>0.00</td>\n      <td>0.00</td>\n      <td>0.00</td>\n      <td>0.00</td>\n      <td>0.00</td>\n      <td>0.00</td>\n      <td>0.60</td>\n      <td>0.00</td>\n      <td>0.0</td>\n    </tr>\n    <tr>\n      <th>1</th>\n      <td>0.00</td>\n      <td>0.00</td>\n      <td>0.49</td>\n      <td>0.43</td>\n      <td>0.00</td>\n      <td>0.00</td>\n      <td>0.00</td>\n      <td>0.00</td>\n      <td>0.00</td>\n      <td>0.00</td>\n      <td>0.00</td>\n      <td>0.00</td>\n      <td>0.00</td>\n      <td>0.00</td>\n      <td>0.57</td>\n      <td>0.00</td>\n      <td>0.00</td>\n      <td>0.49</td>\n      <td>0.00</td>\n      <td>0.0</td>\n    </tr>\n    <tr>\n      <th>2</th>\n      <td>0.00</td>\n      <td>0.00</td>\n      <td>0.00</td>\n      <td>0.00</td>\n      <td>0.00</td>\n      <td>0.38</td>\n      <td>0.38</td>\n      <td>0.00</td>\n      <td>0.38</td>\n      <td>0.00</td>\n      <td>0.00</td>\n      <td>0.53</td>\n      <td>0.00</td>\n      <td>0.38</td>\n      <td>0.00</td>\n      <td>0.38</td>\n      <td>0.00</td>\n      <td>0.00</td>\n      <td>0.00</td>\n      <td>0.0</td>\n    </tr>\n    <tr>\n      <th>3</th>\n      <td>0.32</td>\n      <td>0.38</td>\n      <td>0.00</td>\n      <td>0.00</td>\n      <td>0.38</td>\n      <td>0.00</td>\n      <td>0.00</td>\n      <td>0.32</td>\n      <td>0.00</td>\n      <td>0.00</td>\n      <td>0.32</td>\n      <td>0.00</td>\n      <td>0.38</td>\n      <td>0.00</td>\n      <td>0.00</td>\n      <td>0.00</td>\n      <td>0.32</td>\n      <td>0.00</td>\n      <td>0.38</td>\n      <td>0.0</td>\n    </tr>\n    <tr>\n      <th>4</th>\n      <td>0.39</td>\n      <td>0.00</td>\n      <td>0.00</td>\n      <td>0.00</td>\n      <td>0.00</td>\n      <td>0.00</td>\n      <td>0.00</td>\n      <td>0.39</td>\n      <td>0.00</td>\n      <td>0.47</td>\n      <td>0.39</td>\n      <td>0.00</td>\n      <td>0.00</td>\n      <td>0.00</td>\n      <td>0.39</td>\n      <td>0.00</td>\n      <td>0.39</td>\n      <td>0.00</td>\n      <td>0.00</td>\n      <td>0.0</td>\n    </tr>\n    <tr>\n      <th>5</th>\n      <td>0.00</td>\n      <td>0.00</td>\n      <td>0.00</td>\n      <td>0.37</td>\n      <td>0.00</td>\n      <td>0.42</td>\n      <td>0.42</td>\n      <td>0.00</td>\n      <td>0.42</td>\n      <td>0.00</td>\n      <td>0.00</td>\n      <td>0.00</td>\n      <td>0.00</td>\n      <td>0.42</td>\n      <td>0.00</td>\n      <td>0.42</td>\n      <td>0.00</td>\n      <td>0.00</td>\n      <td>0.00</td>\n      <td>0.0</td>\n    </tr>\n    <tr>\n      <th>6</th>\n      <td>0.00</td>\n      <td>0.00</td>\n      <td>0.36</td>\n      <td>0.32</td>\n      <td>0.00</td>\n      <td>0.00</td>\n      <td>0.00</td>\n      <td>0.00</td>\n      <td>0.00</td>\n      <td>0.00</td>\n      <td>0.00</td>\n      <td>0.00</td>\n      <td>0.00</td>\n      <td>0.00</td>\n      <td>0.00</td>\n      <td>0.00</td>\n      <td>0.00</td>\n      <td>0.72</td>\n      <td>0.00</td>\n      <td>0.5</td>\n    </tr>\n    <tr>\n      <th>7</th>\n      <td>0.00</td>\n      <td>0.00</td>\n      <td>0.00</td>\n      <td>0.00</td>\n      <td>0.00</td>\n      <td>0.45</td>\n      <td>0.45</td>\n      <td>0.00</td>\n      <td>0.45</td>\n      <td>0.00</td>\n      <td>0.00</td>\n      <td>0.00</td>\n      <td>0.00</td>\n      <td>0.45</td>\n      <td>0.00</td>\n      <td>0.45</td>\n      <td>0.00</td>\n      <td>0.00</td>\n      <td>0.00</td>\n      <td>0.0</td>\n    </tr>\n  </tbody>\n</table>\n</div>"
     },
     "metadata": {},
     "execution_count": 14
    }
   ],
   "source": [
    "# Using TfidfTransformer\n",
    "from sklearn.feature_extraction.text import TfidfTransformer\n",
    "\n",
    "tt = TfidfTransformer(norm='l2', use_idf=True)\n",
    "tt_matrix = tt.fit_transform(cv_matrix)\n",
    "\n",
    "tt_matrix = tt_matrix.toarray()\n",
    "vocab = cv.get_feature_names()\n",
    "pd.DataFrame(np.round(tt_matrix, 2), columns=vocab)"
   ]
  },
  {
   "cell_type": "code",
   "execution_count": 15,
   "metadata": {},
   "outputs": [
    {
     "output_type": "execute_result",
     "data": {
      "text/plain": "   bacon  beans  beautiful  blue  breakfast  brown   dog  eggs   fox  green  \\\n0   0.00   0.00       0.60  0.53       0.00   0.00  0.00  0.00  0.00   0.00   \n1   0.00   0.00       0.49  0.43       0.00   0.00  0.00  0.00  0.00   0.00   \n2   0.00   0.00       0.00  0.00       0.00   0.38  0.38  0.00  0.38   0.00   \n3   0.32   0.38       0.00  0.00       0.38   0.00  0.00  0.32  0.00   0.00   \n4   0.39   0.00       0.00  0.00       0.00   0.00  0.00  0.39  0.00   0.47   \n5   0.00   0.00       0.00  0.37       0.00   0.42  0.42  0.00  0.42   0.00   \n6   0.00   0.00       0.36  0.32       0.00   0.00  0.00  0.00  0.00   0.00   \n7   0.00   0.00       0.00  0.00       0.00   0.45  0.45  0.00  0.45   0.00   \n\n    ham  jumps  kings  lazy  love  quick  sausages   sky  toast  today  \n0  0.00   0.00   0.00  0.00  0.00   0.00      0.00  0.60   0.00    0.0  \n1  0.00   0.00   0.00  0.00  0.57   0.00      0.00  0.49   0.00    0.0  \n2  0.00   0.53   0.00  0.38  0.00   0.38      0.00  0.00   0.00    0.0  \n3  0.32   0.00   0.38  0.00  0.00   0.00      0.32  0.00   0.38    0.0  \n4  0.39   0.00   0.00  0.00  0.39   0.00      0.39  0.00   0.00    0.0  \n5  0.00   0.00   0.00  0.42  0.00   0.42      0.00  0.00   0.00    0.0  \n6  0.00   0.00   0.00  0.00  0.00   0.00      0.00  0.72   0.00    0.5  \n7  0.00   0.00   0.00  0.45  0.00   0.45      0.00  0.00   0.00    0.0  ",
      "text/html": "<div>\n<style scoped>\n    .dataframe tbody tr th:only-of-type {\n        vertical-align: middle;\n    }\n\n    .dataframe tbody tr th {\n        vertical-align: top;\n    }\n\n    .dataframe thead th {\n        text-align: right;\n    }\n</style>\n<table border=\"1\" class=\"dataframe\">\n  <thead>\n    <tr style=\"text-align: right;\">\n      <th></th>\n      <th>bacon</th>\n      <th>beans</th>\n      <th>beautiful</th>\n      <th>blue</th>\n      <th>breakfast</th>\n      <th>brown</th>\n      <th>dog</th>\n      <th>eggs</th>\n      <th>fox</th>\n      <th>green</th>\n      <th>ham</th>\n      <th>jumps</th>\n      <th>kings</th>\n      <th>lazy</th>\n      <th>love</th>\n      <th>quick</th>\n      <th>sausages</th>\n      <th>sky</th>\n      <th>toast</th>\n      <th>today</th>\n    </tr>\n  </thead>\n  <tbody>\n    <tr>\n      <th>0</th>\n      <td>0.00</td>\n      <td>0.00</td>\n      <td>0.60</td>\n      <td>0.53</td>\n      <td>0.00</td>\n      <td>0.00</td>\n      <td>0.00</td>\n      <td>0.00</td>\n      <td>0.00</td>\n      <td>0.00</td>\n      <td>0.00</td>\n      <td>0.00</td>\n      <td>0.00</td>\n      <td>0.00</td>\n      <td>0.00</td>\n      <td>0.00</td>\n      <td>0.00</td>\n      <td>0.60</td>\n      <td>0.00</td>\n      <td>0.0</td>\n    </tr>\n    <tr>\n      <th>1</th>\n      <td>0.00</td>\n      <td>0.00</td>\n      <td>0.49</td>\n      <td>0.43</td>\n      <td>0.00</td>\n      <td>0.00</td>\n      <td>0.00</td>\n      <td>0.00</td>\n      <td>0.00</td>\n      <td>0.00</td>\n      <td>0.00</td>\n      <td>0.00</td>\n      <td>0.00</td>\n      <td>0.00</td>\n      <td>0.57</td>\n      <td>0.00</td>\n      <td>0.00</td>\n      <td>0.49</td>\n      <td>0.00</td>\n      <td>0.0</td>\n    </tr>\n    <tr>\n      <th>2</th>\n      <td>0.00</td>\n      <td>0.00</td>\n      <td>0.00</td>\n      <td>0.00</td>\n      <td>0.00</td>\n      <td>0.38</td>\n      <td>0.38</td>\n      <td>0.00</td>\n      <td>0.38</td>\n      <td>0.00</td>\n      <td>0.00</td>\n      <td>0.53</td>\n      <td>0.00</td>\n      <td>0.38</td>\n      <td>0.00</td>\n      <td>0.38</td>\n      <td>0.00</td>\n      <td>0.00</td>\n      <td>0.00</td>\n      <td>0.0</td>\n    </tr>\n    <tr>\n      <th>3</th>\n      <td>0.32</td>\n      <td>0.38</td>\n      <td>0.00</td>\n      <td>0.00</td>\n      <td>0.38</td>\n      <td>0.00</td>\n      <td>0.00</td>\n      <td>0.32</td>\n      <td>0.00</td>\n      <td>0.00</td>\n      <td>0.32</td>\n      <td>0.00</td>\n      <td>0.38</td>\n      <td>0.00</td>\n      <td>0.00</td>\n      <td>0.00</td>\n      <td>0.32</td>\n      <td>0.00</td>\n      <td>0.38</td>\n      <td>0.0</td>\n    </tr>\n    <tr>\n      <th>4</th>\n      <td>0.39</td>\n      <td>0.00</td>\n      <td>0.00</td>\n      <td>0.00</td>\n      <td>0.00</td>\n      <td>0.00</td>\n      <td>0.00</td>\n      <td>0.39</td>\n      <td>0.00</td>\n      <td>0.47</td>\n      <td>0.39</td>\n      <td>0.00</td>\n      <td>0.00</td>\n      <td>0.00</td>\n      <td>0.39</td>\n      <td>0.00</td>\n      <td>0.39</td>\n      <td>0.00</td>\n      <td>0.00</td>\n      <td>0.0</td>\n    </tr>\n    <tr>\n      <th>5</th>\n      <td>0.00</td>\n      <td>0.00</td>\n      <td>0.00</td>\n      <td>0.37</td>\n      <td>0.00</td>\n      <td>0.42</td>\n      <td>0.42</td>\n      <td>0.00</td>\n      <td>0.42</td>\n      <td>0.00</td>\n      <td>0.00</td>\n      <td>0.00</td>\n      <td>0.00</td>\n      <td>0.42</td>\n      <td>0.00</td>\n      <td>0.42</td>\n      <td>0.00</td>\n      <td>0.00</td>\n      <td>0.00</td>\n      <td>0.0</td>\n    </tr>\n    <tr>\n      <th>6</th>\n      <td>0.00</td>\n      <td>0.00</td>\n      <td>0.36</td>\n      <td>0.32</td>\n      <td>0.00</td>\n      <td>0.00</td>\n      <td>0.00</td>\n      <td>0.00</td>\n      <td>0.00</td>\n      <td>0.00</td>\n      <td>0.00</td>\n      <td>0.00</td>\n      <td>0.00</td>\n      <td>0.00</td>\n      <td>0.00</td>\n      <td>0.00</td>\n      <td>0.00</td>\n      <td>0.72</td>\n      <td>0.00</td>\n      <td>0.5</td>\n    </tr>\n    <tr>\n      <th>7</th>\n      <td>0.00</td>\n      <td>0.00</td>\n      <td>0.00</td>\n      <td>0.00</td>\n      <td>0.00</td>\n      <td>0.45</td>\n      <td>0.45</td>\n      <td>0.00</td>\n      <td>0.45</td>\n      <td>0.00</td>\n      <td>0.00</td>\n      <td>0.00</td>\n      <td>0.00</td>\n      <td>0.45</td>\n      <td>0.00</td>\n      <td>0.45</td>\n      <td>0.00</td>\n      <td>0.00</td>\n      <td>0.00</td>\n      <td>0.0</td>\n    </tr>\n  </tbody>\n</table>\n</div>"
     },
     "metadata": {},
     "execution_count": 15
    }
   ],
   "source": [
    "# Using TfidfVectorizer\n",
    "\n",
    "from sklearn.feature_extraction.text import TfidfVectorizer\n",
    "\n",
    "tv = TfidfVectorizer(min_df=0., max_df=1., norm='l2', use_idf=True, smooth_idf=True)\n",
    "tv_matrix = tv.fit_transform(norm_corpus)\n",
    "tv_matrix = tv_matrix.toarray()\n",
    "\n",
    "vocab = tv.get_feature_names()\n",
    "pd.DataFrame(np.round(tv_matrix, 2), columns=vocab)"
   ]
  },
  {
   "cell_type": "markdown",
   "metadata": {},
   "source": [
    "## Understanding the TF-IDF Model"
   ]
  },
  {
   "cell_type": "code",
   "execution_count": 16,
   "metadata": {},
   "outputs": [
    {
     "output_type": "stream",
     "name": "stdout",
     "text": "Feature Names: ['jumps', 'eggs', 'sausages', 'sky', 'lazy', 'blue', 'dog', 'ham', 'bacon', 'brown', 'toast', 'quick', 'beans', 'love', 'green', 'beautiful', 'kings', 'breakfast', 'fox', 'today']\n\nDefault Feature Dict: {'jumps': 0, 'eggs': 0, 'sausages': 0, 'sky': 0, 'lazy': 0, 'blue': 0, 'dog': 0, 'ham': 0, 'bacon': 0, 'brown': 0, 'toast': 0, 'quick': 0, 'beans': 0, 'love': 0, 'green': 0, 'beautiful': 0, 'kings': 0, 'breakfast': 0, 'fox': 0, 'today': 0}\n"
    }
   ],
   "source": [
    "# get unique words as feature names\n",
    "unique_words = list(set([word for doc in [doc.split() for doc in norm_corpus] for word in doc]))\n",
    "def_feature_dict = {w: 0 for w in unique_words}\n",
    "print('Feature Names:', unique_words)\n",
    "print('\\nDefault Feature Dict:', def_feature_dict)"
   ]
  },
  {
   "cell_type": "code",
   "execution_count": 17,
   "metadata": {},
   "outputs": [
    {
     "output_type": "execute_result",
     "data": {
      "text/plain": "   sky  blue  beautiful  jumps  eggs  sausages  lazy  dog  ham  bacon  brown  \\\n0    1     1          1      0     0         0     0    0    0      0      0   \n1    1     1          1      0     0         0     0    0    0      0      0   \n2    0     0          0      1     0         0     1    1    0      0      1   \n3    0     0          0      0     1         1     0    0    1      1      0   \n4    0     0          0      0     1         1     0    0    1      1      0   \n5    0     1          0      0     0         0     1    1    0      0      1   \n6    2     1          1      0     0         0     0    0    0      0      0   \n7    0     0          0      0     0         0     1    1    0      0      1   \n\n   toast  quick  beans  love  green  kings  breakfast  fox  today  \n0      0      0      0     0      0      0          0    0      0  \n1      0      0      0     1      0      0          0    0      0  \n2      0      1      0     0      0      0          0    1      0  \n3      1      0      1     0      0      1          1    0      0  \n4      0      0      0     1      1      0          0    0      0  \n5      0      1      0     0      0      0          0    1      0  \n6      0      0      0     0      0      0          0    0      1  \n7      0      1      0     0      0      0          0    1      0  ",
      "text/html": "<div>\n<style scoped>\n    .dataframe tbody tr th:only-of-type {\n        vertical-align: middle;\n    }\n\n    .dataframe tbody tr th {\n        vertical-align: top;\n    }\n\n    .dataframe thead th {\n        text-align: right;\n    }\n</style>\n<table border=\"1\" class=\"dataframe\">\n  <thead>\n    <tr style=\"text-align: right;\">\n      <th></th>\n      <th>sky</th>\n      <th>blue</th>\n      <th>beautiful</th>\n      <th>jumps</th>\n      <th>eggs</th>\n      <th>sausages</th>\n      <th>lazy</th>\n      <th>dog</th>\n      <th>ham</th>\n      <th>bacon</th>\n      <th>brown</th>\n      <th>toast</th>\n      <th>quick</th>\n      <th>beans</th>\n      <th>love</th>\n      <th>green</th>\n      <th>kings</th>\n      <th>breakfast</th>\n      <th>fox</th>\n      <th>today</th>\n    </tr>\n  </thead>\n  <tbody>\n    <tr>\n      <th>0</th>\n      <td>1</td>\n      <td>1</td>\n      <td>1</td>\n      <td>0</td>\n      <td>0</td>\n      <td>0</td>\n      <td>0</td>\n      <td>0</td>\n      <td>0</td>\n      <td>0</td>\n      <td>0</td>\n      <td>0</td>\n      <td>0</td>\n      <td>0</td>\n      <td>0</td>\n      <td>0</td>\n      <td>0</td>\n      <td>0</td>\n      <td>0</td>\n      <td>0</td>\n    </tr>\n    <tr>\n      <th>1</th>\n      <td>1</td>\n      <td>1</td>\n      <td>1</td>\n      <td>0</td>\n      <td>0</td>\n      <td>0</td>\n      <td>0</td>\n      <td>0</td>\n      <td>0</td>\n      <td>0</td>\n      <td>0</td>\n      <td>0</td>\n      <td>0</td>\n      <td>0</td>\n      <td>1</td>\n      <td>0</td>\n      <td>0</td>\n      <td>0</td>\n      <td>0</td>\n      <td>0</td>\n    </tr>\n    <tr>\n      <th>2</th>\n      <td>0</td>\n      <td>0</td>\n      <td>0</td>\n      <td>1</td>\n      <td>0</td>\n      <td>0</td>\n      <td>1</td>\n      <td>1</td>\n      <td>0</td>\n      <td>0</td>\n      <td>1</td>\n      <td>0</td>\n      <td>1</td>\n      <td>0</td>\n      <td>0</td>\n      <td>0</td>\n      <td>0</td>\n      <td>0</td>\n      <td>1</td>\n      <td>0</td>\n    </tr>\n    <tr>\n      <th>3</th>\n      <td>0</td>\n      <td>0</td>\n      <td>0</td>\n      <td>0</td>\n      <td>1</td>\n      <td>1</td>\n      <td>0</td>\n      <td>0</td>\n      <td>1</td>\n      <td>1</td>\n      <td>0</td>\n      <td>1</td>\n      <td>0</td>\n      <td>1</td>\n      <td>0</td>\n      <td>0</td>\n      <td>1</td>\n      <td>1</td>\n      <td>0</td>\n      <td>0</td>\n    </tr>\n    <tr>\n      <th>4</th>\n      <td>0</td>\n      <td>0</td>\n      <td>0</td>\n      <td>0</td>\n      <td>1</td>\n      <td>1</td>\n      <td>0</td>\n      <td>0</td>\n      <td>1</td>\n      <td>1</td>\n      <td>0</td>\n      <td>0</td>\n      <td>0</td>\n      <td>0</td>\n      <td>1</td>\n      <td>1</td>\n      <td>0</td>\n      <td>0</td>\n      <td>0</td>\n      <td>0</td>\n    </tr>\n    <tr>\n      <th>5</th>\n      <td>0</td>\n      <td>1</td>\n      <td>0</td>\n      <td>0</td>\n      <td>0</td>\n      <td>0</td>\n      <td>1</td>\n      <td>1</td>\n      <td>0</td>\n      <td>0</td>\n      <td>1</td>\n      <td>0</td>\n      <td>1</td>\n      <td>0</td>\n      <td>0</td>\n      <td>0</td>\n      <td>0</td>\n      <td>0</td>\n      <td>1</td>\n      <td>0</td>\n    </tr>\n    <tr>\n      <th>6</th>\n      <td>2</td>\n      <td>1</td>\n      <td>1</td>\n      <td>0</td>\n      <td>0</td>\n      <td>0</td>\n      <td>0</td>\n      <td>0</td>\n      <td>0</td>\n      <td>0</td>\n      <td>0</td>\n      <td>0</td>\n      <td>0</td>\n      <td>0</td>\n      <td>0</td>\n      <td>0</td>\n      <td>0</td>\n      <td>0</td>\n      <td>0</td>\n      <td>1</td>\n    </tr>\n    <tr>\n      <th>7</th>\n      <td>0</td>\n      <td>0</td>\n      <td>0</td>\n      <td>0</td>\n      <td>0</td>\n      <td>0</td>\n      <td>1</td>\n      <td>1</td>\n      <td>0</td>\n      <td>0</td>\n      <td>1</td>\n      <td>0</td>\n      <td>1</td>\n      <td>0</td>\n      <td>0</td>\n      <td>0</td>\n      <td>0</td>\n      <td>0</td>\n      <td>1</td>\n      <td>0</td>\n    </tr>\n  </tbody>\n</table>\n</div>"
     },
     "metadata": {},
     "execution_count": 17
    }
   ],
   "source": [
    "from collections import Counter\n",
    "# build bag of words features for each document - term frequencies\n",
    "bow_features = []\n",
    "for doc in norm_corpus:\n",
    "    bow_feature_doc = Counter(doc.split())\n",
    "    all_features = Counter(def_feature_dict)\n",
    "    bow_feature_doc.update(all_features)\n",
    "    bow_features.append(bow_feature_doc)\n",
    "\n",
    "bow_features = pd.DataFrame(bow_features)\n",
    "bow_features"
   ]
  },
  {
   "cell_type": "code",
   "execution_count": 18,
   "metadata": {},
   "outputs": [
    {
     "output_type": "execute_result",
     "data": {
      "text/plain": "   sky  blue  beautiful  jumps  eggs  sausages  lazy  dog  ham  bacon  brown  \\\n0    4     5          4      2     3         3     4    4    3      3      4   \n\n   toast  quick  beans  love  green  kings  breakfast  fox  today  \n0      2      4      2     3      2      2          2    4      2  ",
      "text/html": "<div>\n<style scoped>\n    .dataframe tbody tr th:only-of-type {\n        vertical-align: middle;\n    }\n\n    .dataframe tbody tr th {\n        vertical-align: top;\n    }\n\n    .dataframe thead th {\n        text-align: right;\n    }\n</style>\n<table border=\"1\" class=\"dataframe\">\n  <thead>\n    <tr style=\"text-align: right;\">\n      <th></th>\n      <th>sky</th>\n      <th>blue</th>\n      <th>beautiful</th>\n      <th>jumps</th>\n      <th>eggs</th>\n      <th>sausages</th>\n      <th>lazy</th>\n      <th>dog</th>\n      <th>ham</th>\n      <th>bacon</th>\n      <th>brown</th>\n      <th>toast</th>\n      <th>quick</th>\n      <th>beans</th>\n      <th>love</th>\n      <th>green</th>\n      <th>kings</th>\n      <th>breakfast</th>\n      <th>fox</th>\n      <th>today</th>\n    </tr>\n  </thead>\n  <tbody>\n    <tr>\n      <th>0</th>\n      <td>4</td>\n      <td>5</td>\n      <td>4</td>\n      <td>2</td>\n      <td>3</td>\n      <td>3</td>\n      <td>4</td>\n      <td>4</td>\n      <td>3</td>\n      <td>3</td>\n      <td>4</td>\n      <td>2</td>\n      <td>4</td>\n      <td>2</td>\n      <td>3</td>\n      <td>2</td>\n      <td>2</td>\n      <td>2</td>\n      <td>4</td>\n      <td>2</td>\n    </tr>\n  </tbody>\n</table>\n</div>"
     },
     "metadata": {},
     "execution_count": 18
    }
   ],
   "source": [
    "import scipy.sparse as sp\n",
    "feature_names = list(bow_features.columns)\n",
    "\n",
    "# build the document frequency matrix\n",
    "df = np.diff(sp.csc_matrix(bow_features, copy=True).indptr)\n",
    "df = 1 + df # adding 1 to smooth idf alter\n",
    "\n",
    "# show smoothened document frequencies\n",
    "pd.DataFrame([df], columns=feature_names)"
   ]
  },
  {
   "cell_type": "code",
   "execution_count": 19,
   "metadata": {},
   "outputs": [
    {
     "output_type": "execute_result",
     "data": {
      "text/plain": "    sky  blue  beautiful  jumps  eggs  sausages  lazy   dog  ham  bacon  \\\n0  1.81  1.59       1.81    2.5   2.1       2.1  1.81  1.81  2.1    2.1   \n\n   brown  toast  quick  beans  love  green  kings  breakfast   fox  today  \n0   1.81    2.5   1.81    2.5   2.1    2.5    2.5        2.5  1.81    2.5  ",
      "text/html": "<div>\n<style scoped>\n    .dataframe tbody tr th:only-of-type {\n        vertical-align: middle;\n    }\n\n    .dataframe tbody tr th {\n        vertical-align: top;\n    }\n\n    .dataframe thead th {\n        text-align: right;\n    }\n</style>\n<table border=\"1\" class=\"dataframe\">\n  <thead>\n    <tr style=\"text-align: right;\">\n      <th></th>\n      <th>sky</th>\n      <th>blue</th>\n      <th>beautiful</th>\n      <th>jumps</th>\n      <th>eggs</th>\n      <th>sausages</th>\n      <th>lazy</th>\n      <th>dog</th>\n      <th>ham</th>\n      <th>bacon</th>\n      <th>brown</th>\n      <th>toast</th>\n      <th>quick</th>\n      <th>beans</th>\n      <th>love</th>\n      <th>green</th>\n      <th>kings</th>\n      <th>breakfast</th>\n      <th>fox</th>\n      <th>today</th>\n    </tr>\n  </thead>\n  <tbody>\n    <tr>\n      <th>0</th>\n      <td>1.81</td>\n      <td>1.59</td>\n      <td>1.81</td>\n      <td>2.5</td>\n      <td>2.1</td>\n      <td>2.1</td>\n      <td>1.81</td>\n      <td>1.81</td>\n      <td>2.1</td>\n      <td>2.1</td>\n      <td>1.81</td>\n      <td>2.5</td>\n      <td>1.81</td>\n      <td>2.5</td>\n      <td>2.1</td>\n      <td>2.5</td>\n      <td>2.5</td>\n      <td>2.5</td>\n      <td>1.81</td>\n      <td>2.5</td>\n    </tr>\n  </tbody>\n</table>\n</div>"
     },
     "metadata": {},
     "execution_count": 19
    }
   ],
   "source": [
    "# compute inverse document frequencies\n",
    "total_docs = 1 + len(norm_corpus)\n",
    "idf = 1.0 + np.log(float(total_docs) / df)\n",
    "\n",
    "# show smoothened idfs\n",
    "pd.DataFrame([np.round(idf, 2)], columns=feature_names)"
   ]
  },
  {
   "cell_type": "code",
   "execution_count": 20,
   "metadata": {},
   "outputs": [
    {
     "output_type": "execute_result",
     "data": {
      "text/plain": "       0     1     2    3    4    5     6     7    8    9    10   11    12  \\\n0   1.81  0.00  0.00  0.0  0.0  0.0  0.00  0.00  0.0  0.0  0.00  0.0  0.00   \n1   0.00  1.59  0.00  0.0  0.0  0.0  0.00  0.00  0.0  0.0  0.00  0.0  0.00   \n2   0.00  0.00  1.81  0.0  0.0  0.0  0.00  0.00  0.0  0.0  0.00  0.0  0.00   \n3   0.00  0.00  0.00  2.5  0.0  0.0  0.00  0.00  0.0  0.0  0.00  0.0  0.00   \n4   0.00  0.00  0.00  0.0  2.1  0.0  0.00  0.00  0.0  0.0  0.00  0.0  0.00   \n5   0.00  0.00  0.00  0.0  0.0  2.1  0.00  0.00  0.0  0.0  0.00  0.0  0.00   \n6   0.00  0.00  0.00  0.0  0.0  0.0  1.81  0.00  0.0  0.0  0.00  0.0  0.00   \n7   0.00  0.00  0.00  0.0  0.0  0.0  0.00  1.81  0.0  0.0  0.00  0.0  0.00   \n8   0.00  0.00  0.00  0.0  0.0  0.0  0.00  0.00  2.1  0.0  0.00  0.0  0.00   \n9   0.00  0.00  0.00  0.0  0.0  0.0  0.00  0.00  0.0  2.1  0.00  0.0  0.00   \n10  0.00  0.00  0.00  0.0  0.0  0.0  0.00  0.00  0.0  0.0  1.81  0.0  0.00   \n11  0.00  0.00  0.00  0.0  0.0  0.0  0.00  0.00  0.0  0.0  0.00  2.5  0.00   \n12  0.00  0.00  0.00  0.0  0.0  0.0  0.00  0.00  0.0  0.0  0.00  0.0  1.81   \n13  0.00  0.00  0.00  0.0  0.0  0.0  0.00  0.00  0.0  0.0  0.00  0.0  0.00   \n14  0.00  0.00  0.00  0.0  0.0  0.0  0.00  0.00  0.0  0.0  0.00  0.0  0.00   \n15  0.00  0.00  0.00  0.0  0.0  0.0  0.00  0.00  0.0  0.0  0.00  0.0  0.00   \n16  0.00  0.00  0.00  0.0  0.0  0.0  0.00  0.00  0.0  0.0  0.00  0.0  0.00   \n17  0.00  0.00  0.00  0.0  0.0  0.0  0.00  0.00  0.0  0.0  0.00  0.0  0.00   \n18  0.00  0.00  0.00  0.0  0.0  0.0  0.00  0.00  0.0  0.0  0.00  0.0  0.00   \n19  0.00  0.00  0.00  0.0  0.0  0.0  0.00  0.00  0.0  0.0  0.00  0.0  0.00   \n\n     13   14   15   16   17    18   19  \n0   0.0  0.0  0.0  0.0  0.0  0.00  0.0  \n1   0.0  0.0  0.0  0.0  0.0  0.00  0.0  \n2   0.0  0.0  0.0  0.0  0.0  0.00  0.0  \n3   0.0  0.0  0.0  0.0  0.0  0.00  0.0  \n4   0.0  0.0  0.0  0.0  0.0  0.00  0.0  \n5   0.0  0.0  0.0  0.0  0.0  0.00  0.0  \n6   0.0  0.0  0.0  0.0  0.0  0.00  0.0  \n7   0.0  0.0  0.0  0.0  0.0  0.00  0.0  \n8   0.0  0.0  0.0  0.0  0.0  0.00  0.0  \n9   0.0  0.0  0.0  0.0  0.0  0.00  0.0  \n10  0.0  0.0  0.0  0.0  0.0  0.00  0.0  \n11  0.0  0.0  0.0  0.0  0.0  0.00  0.0  \n12  0.0  0.0  0.0  0.0  0.0  0.00  0.0  \n13  2.5  0.0  0.0  0.0  0.0  0.00  0.0  \n14  0.0  2.1  0.0  0.0  0.0  0.00  0.0  \n15  0.0  0.0  2.5  0.0  0.0  0.00  0.0  \n16  0.0  0.0  0.0  2.5  0.0  0.00  0.0  \n17  0.0  0.0  0.0  0.0  2.5  0.00  0.0  \n18  0.0  0.0  0.0  0.0  0.0  1.81  0.0  \n19  0.0  0.0  0.0  0.0  0.0  0.00  2.5  ",
      "text/html": "<div>\n<style scoped>\n    .dataframe tbody tr th:only-of-type {\n        vertical-align: middle;\n    }\n\n    .dataframe tbody tr th {\n        vertical-align: top;\n    }\n\n    .dataframe thead th {\n        text-align: right;\n    }\n</style>\n<table border=\"1\" class=\"dataframe\">\n  <thead>\n    <tr style=\"text-align: right;\">\n      <th></th>\n      <th>0</th>\n      <th>1</th>\n      <th>2</th>\n      <th>3</th>\n      <th>4</th>\n      <th>5</th>\n      <th>6</th>\n      <th>7</th>\n      <th>8</th>\n      <th>9</th>\n      <th>10</th>\n      <th>11</th>\n      <th>12</th>\n      <th>13</th>\n      <th>14</th>\n      <th>15</th>\n      <th>16</th>\n      <th>17</th>\n      <th>18</th>\n      <th>19</th>\n    </tr>\n  </thead>\n  <tbody>\n    <tr>\n      <th>0</th>\n      <td>1.81</td>\n      <td>0.00</td>\n      <td>0.00</td>\n      <td>0.0</td>\n      <td>0.0</td>\n      <td>0.0</td>\n      <td>0.00</td>\n      <td>0.00</td>\n      <td>0.0</td>\n      <td>0.0</td>\n      <td>0.00</td>\n      <td>0.0</td>\n      <td>0.00</td>\n      <td>0.0</td>\n      <td>0.0</td>\n      <td>0.0</td>\n      <td>0.0</td>\n      <td>0.0</td>\n      <td>0.00</td>\n      <td>0.0</td>\n    </tr>\n    <tr>\n      <th>1</th>\n      <td>0.00</td>\n      <td>1.59</td>\n      <td>0.00</td>\n      <td>0.0</td>\n      <td>0.0</td>\n      <td>0.0</td>\n      <td>0.00</td>\n      <td>0.00</td>\n      <td>0.0</td>\n      <td>0.0</td>\n      <td>0.00</td>\n      <td>0.0</td>\n      <td>0.00</td>\n      <td>0.0</td>\n      <td>0.0</td>\n      <td>0.0</td>\n      <td>0.0</td>\n      <td>0.0</td>\n      <td>0.00</td>\n      <td>0.0</td>\n    </tr>\n    <tr>\n      <th>2</th>\n      <td>0.00</td>\n      <td>0.00</td>\n      <td>1.81</td>\n      <td>0.0</td>\n      <td>0.0</td>\n      <td>0.0</td>\n      <td>0.00</td>\n      <td>0.00</td>\n      <td>0.0</td>\n      <td>0.0</td>\n      <td>0.00</td>\n      <td>0.0</td>\n      <td>0.00</td>\n      <td>0.0</td>\n      <td>0.0</td>\n      <td>0.0</td>\n      <td>0.0</td>\n      <td>0.0</td>\n      <td>0.00</td>\n      <td>0.0</td>\n    </tr>\n    <tr>\n      <th>3</th>\n      <td>0.00</td>\n      <td>0.00</td>\n      <td>0.00</td>\n      <td>2.5</td>\n      <td>0.0</td>\n      <td>0.0</td>\n      <td>0.00</td>\n      <td>0.00</td>\n      <td>0.0</td>\n      <td>0.0</td>\n      <td>0.00</td>\n      <td>0.0</td>\n      <td>0.00</td>\n      <td>0.0</td>\n      <td>0.0</td>\n      <td>0.0</td>\n      <td>0.0</td>\n      <td>0.0</td>\n      <td>0.00</td>\n      <td>0.0</td>\n    </tr>\n    <tr>\n      <th>4</th>\n      <td>0.00</td>\n      <td>0.00</td>\n      <td>0.00</td>\n      <td>0.0</td>\n      <td>2.1</td>\n      <td>0.0</td>\n      <td>0.00</td>\n      <td>0.00</td>\n      <td>0.0</td>\n      <td>0.0</td>\n      <td>0.00</td>\n      <td>0.0</td>\n      <td>0.00</td>\n      <td>0.0</td>\n      <td>0.0</td>\n      <td>0.0</td>\n      <td>0.0</td>\n      <td>0.0</td>\n      <td>0.00</td>\n      <td>0.0</td>\n    </tr>\n    <tr>\n      <th>5</th>\n      <td>0.00</td>\n      <td>0.00</td>\n      <td>0.00</td>\n      <td>0.0</td>\n      <td>0.0</td>\n      <td>2.1</td>\n      <td>0.00</td>\n      <td>0.00</td>\n      <td>0.0</td>\n      <td>0.0</td>\n      <td>0.00</td>\n      <td>0.0</td>\n      <td>0.00</td>\n      <td>0.0</td>\n      <td>0.0</td>\n      <td>0.0</td>\n      <td>0.0</td>\n      <td>0.0</td>\n      <td>0.00</td>\n      <td>0.0</td>\n    </tr>\n    <tr>\n      <th>6</th>\n      <td>0.00</td>\n      <td>0.00</td>\n      <td>0.00</td>\n      <td>0.0</td>\n      <td>0.0</td>\n      <td>0.0</td>\n      <td>1.81</td>\n      <td>0.00</td>\n      <td>0.0</td>\n      <td>0.0</td>\n      <td>0.00</td>\n      <td>0.0</td>\n      <td>0.00</td>\n      <td>0.0</td>\n      <td>0.0</td>\n      <td>0.0</td>\n      <td>0.0</td>\n      <td>0.0</td>\n      <td>0.00</td>\n      <td>0.0</td>\n    </tr>\n    <tr>\n      <th>7</th>\n      <td>0.00</td>\n      <td>0.00</td>\n      <td>0.00</td>\n      <td>0.0</td>\n      <td>0.0</td>\n      <td>0.0</td>\n      <td>0.00</td>\n      <td>1.81</td>\n      <td>0.0</td>\n      <td>0.0</td>\n      <td>0.00</td>\n      <td>0.0</td>\n      <td>0.00</td>\n      <td>0.0</td>\n      <td>0.0</td>\n      <td>0.0</td>\n      <td>0.0</td>\n      <td>0.0</td>\n      <td>0.00</td>\n      <td>0.0</td>\n    </tr>\n    <tr>\n      <th>8</th>\n      <td>0.00</td>\n      <td>0.00</td>\n      <td>0.00</td>\n      <td>0.0</td>\n      <td>0.0</td>\n      <td>0.0</td>\n      <td>0.00</td>\n      <td>0.00</td>\n      <td>2.1</td>\n      <td>0.0</td>\n      <td>0.00</td>\n      <td>0.0</td>\n      <td>0.00</td>\n      <td>0.0</td>\n      <td>0.0</td>\n      <td>0.0</td>\n      <td>0.0</td>\n      <td>0.0</td>\n      <td>0.00</td>\n      <td>0.0</td>\n    </tr>\n    <tr>\n      <th>9</th>\n      <td>0.00</td>\n      <td>0.00</td>\n      <td>0.00</td>\n      <td>0.0</td>\n      <td>0.0</td>\n      <td>0.0</td>\n      <td>0.00</td>\n      <td>0.00</td>\n      <td>0.0</td>\n      <td>2.1</td>\n      <td>0.00</td>\n      <td>0.0</td>\n      <td>0.00</td>\n      <td>0.0</td>\n      <td>0.0</td>\n      <td>0.0</td>\n      <td>0.0</td>\n      <td>0.0</td>\n      <td>0.00</td>\n      <td>0.0</td>\n    </tr>\n    <tr>\n      <th>10</th>\n      <td>0.00</td>\n      <td>0.00</td>\n      <td>0.00</td>\n      <td>0.0</td>\n      <td>0.0</td>\n      <td>0.0</td>\n      <td>0.00</td>\n      <td>0.00</td>\n      <td>0.0</td>\n      <td>0.0</td>\n      <td>1.81</td>\n      <td>0.0</td>\n      <td>0.00</td>\n      <td>0.0</td>\n      <td>0.0</td>\n      <td>0.0</td>\n      <td>0.0</td>\n      <td>0.0</td>\n      <td>0.00</td>\n      <td>0.0</td>\n    </tr>\n    <tr>\n      <th>11</th>\n      <td>0.00</td>\n      <td>0.00</td>\n      <td>0.00</td>\n      <td>0.0</td>\n      <td>0.0</td>\n      <td>0.0</td>\n      <td>0.00</td>\n      <td>0.00</td>\n      <td>0.0</td>\n      <td>0.0</td>\n      <td>0.00</td>\n      <td>2.5</td>\n      <td>0.00</td>\n      <td>0.0</td>\n      <td>0.0</td>\n      <td>0.0</td>\n      <td>0.0</td>\n      <td>0.0</td>\n      <td>0.00</td>\n      <td>0.0</td>\n    </tr>\n    <tr>\n      <th>12</th>\n      <td>0.00</td>\n      <td>0.00</td>\n      <td>0.00</td>\n      <td>0.0</td>\n      <td>0.0</td>\n      <td>0.0</td>\n      <td>0.00</td>\n      <td>0.00</td>\n      <td>0.0</td>\n      <td>0.0</td>\n      <td>0.00</td>\n      <td>0.0</td>\n      <td>1.81</td>\n      <td>0.0</td>\n      <td>0.0</td>\n      <td>0.0</td>\n      <td>0.0</td>\n      <td>0.0</td>\n      <td>0.00</td>\n      <td>0.0</td>\n    </tr>\n    <tr>\n      <th>13</th>\n      <td>0.00</td>\n      <td>0.00</td>\n      <td>0.00</td>\n      <td>0.0</td>\n      <td>0.0</td>\n      <td>0.0</td>\n      <td>0.00</td>\n      <td>0.00</td>\n      <td>0.0</td>\n      <td>0.0</td>\n      <td>0.00</td>\n      <td>0.0</td>\n      <td>0.00</td>\n      <td>2.5</td>\n      <td>0.0</td>\n      <td>0.0</td>\n      <td>0.0</td>\n      <td>0.0</td>\n      <td>0.00</td>\n      <td>0.0</td>\n    </tr>\n    <tr>\n      <th>14</th>\n      <td>0.00</td>\n      <td>0.00</td>\n      <td>0.00</td>\n      <td>0.0</td>\n      <td>0.0</td>\n      <td>0.0</td>\n      <td>0.00</td>\n      <td>0.00</td>\n      <td>0.0</td>\n      <td>0.0</td>\n      <td>0.00</td>\n      <td>0.0</td>\n      <td>0.00</td>\n      <td>0.0</td>\n      <td>2.1</td>\n      <td>0.0</td>\n      <td>0.0</td>\n      <td>0.0</td>\n      <td>0.00</td>\n      <td>0.0</td>\n    </tr>\n    <tr>\n      <th>15</th>\n      <td>0.00</td>\n      <td>0.00</td>\n      <td>0.00</td>\n      <td>0.0</td>\n      <td>0.0</td>\n      <td>0.0</td>\n      <td>0.00</td>\n      <td>0.00</td>\n      <td>0.0</td>\n      <td>0.0</td>\n      <td>0.00</td>\n      <td>0.0</td>\n      <td>0.00</td>\n      <td>0.0</td>\n      <td>0.0</td>\n      <td>2.5</td>\n      <td>0.0</td>\n      <td>0.0</td>\n      <td>0.00</td>\n      <td>0.0</td>\n    </tr>\n    <tr>\n      <th>16</th>\n      <td>0.00</td>\n      <td>0.00</td>\n      <td>0.00</td>\n      <td>0.0</td>\n      <td>0.0</td>\n      <td>0.0</td>\n      <td>0.00</td>\n      <td>0.00</td>\n      <td>0.0</td>\n      <td>0.0</td>\n      <td>0.00</td>\n      <td>0.0</td>\n      <td>0.00</td>\n      <td>0.0</td>\n      <td>0.0</td>\n      <td>0.0</td>\n      <td>2.5</td>\n      <td>0.0</td>\n      <td>0.00</td>\n      <td>0.0</td>\n    </tr>\n    <tr>\n      <th>17</th>\n      <td>0.00</td>\n      <td>0.00</td>\n      <td>0.00</td>\n      <td>0.0</td>\n      <td>0.0</td>\n      <td>0.0</td>\n      <td>0.00</td>\n      <td>0.00</td>\n      <td>0.0</td>\n      <td>0.0</td>\n      <td>0.00</td>\n      <td>0.0</td>\n      <td>0.00</td>\n      <td>0.0</td>\n      <td>0.0</td>\n      <td>0.0</td>\n      <td>0.0</td>\n      <td>2.5</td>\n      <td>0.00</td>\n      <td>0.0</td>\n    </tr>\n    <tr>\n      <th>18</th>\n      <td>0.00</td>\n      <td>0.00</td>\n      <td>0.00</td>\n      <td>0.0</td>\n      <td>0.0</td>\n      <td>0.0</td>\n      <td>0.00</td>\n      <td>0.00</td>\n      <td>0.0</td>\n      <td>0.0</td>\n      <td>0.00</td>\n      <td>0.0</td>\n      <td>0.00</td>\n      <td>0.0</td>\n      <td>0.0</td>\n      <td>0.0</td>\n      <td>0.0</td>\n      <td>0.0</td>\n      <td>1.81</td>\n      <td>0.0</td>\n    </tr>\n    <tr>\n      <th>19</th>\n      <td>0.00</td>\n      <td>0.00</td>\n      <td>0.00</td>\n      <td>0.0</td>\n      <td>0.0</td>\n      <td>0.0</td>\n      <td>0.00</td>\n      <td>0.00</td>\n      <td>0.0</td>\n      <td>0.0</td>\n      <td>0.00</td>\n      <td>0.0</td>\n      <td>0.00</td>\n      <td>0.0</td>\n      <td>0.0</td>\n      <td>0.0</td>\n      <td>0.0</td>\n      <td>0.0</td>\n      <td>0.00</td>\n      <td>2.5</td>\n    </tr>\n  </tbody>\n</table>\n</div>"
     },
     "metadata": {},
     "execution_count": 20
    }
   ],
   "source": [
    "# compute idf diagonal matrix\n",
    "total_features = bow_features.shape[1]\n",
    "idf_diag = sp.spdiags(idf, diags=0, m=total_features, n=total_features)\n",
    "idf_dense = idf_diag.todense()\n",
    "\n",
    "# print the idf diagonal matrix\n",
    "pd.DataFrame(np.round(idf_dense, 2))"
   ]
  },
  {
   "cell_type": "code",
   "execution_count": 21,
   "metadata": {},
   "outputs": [
    {
     "output_type": "execute_result",
     "data": {
      "text/plain": "    sky  blue  beautiful  jumps  eggs  sausages  lazy   dog  ham  bacon  \\\n0  1.81  1.59       1.81    0.0   0.0       0.0  0.00  0.00  0.0    0.0   \n1  1.81  1.59       1.81    0.0   0.0       0.0  0.00  0.00  0.0    0.0   \n2  0.00  0.00       0.00    2.5   0.0       0.0  1.81  1.81  0.0    0.0   \n3  0.00  0.00       0.00    0.0   2.1       2.1  0.00  0.00  2.1    2.1   \n4  0.00  0.00       0.00    0.0   2.1       2.1  0.00  0.00  2.1    2.1   \n5  0.00  1.59       0.00    0.0   0.0       0.0  1.81  1.81  0.0    0.0   \n6  3.62  1.59       1.81    0.0   0.0       0.0  0.00  0.00  0.0    0.0   \n7  0.00  0.00       0.00    0.0   0.0       0.0  1.81  1.81  0.0    0.0   \n\n   brown  toast  quick  beans  love  green  kings  breakfast   fox  today  \n0   0.00    0.0   0.00    0.0   0.0    0.0    0.0        0.0  0.00    0.0  \n1   0.00    0.0   0.00    0.0   2.1    0.0    0.0        0.0  0.00    0.0  \n2   1.81    0.0   1.81    0.0   0.0    0.0    0.0        0.0  1.81    0.0  \n3   0.00    2.5   0.00    2.5   0.0    0.0    2.5        2.5  0.00    0.0  \n4   0.00    0.0   0.00    0.0   2.1    2.5    0.0        0.0  0.00    0.0  \n5   1.81    0.0   1.81    0.0   0.0    0.0    0.0        0.0  1.81    0.0  \n6   0.00    0.0   0.00    0.0   0.0    0.0    0.0        0.0  0.00    2.5  \n7   1.81    0.0   1.81    0.0   0.0    0.0    0.0        0.0  1.81    0.0  ",
      "text/html": "<div>\n<style scoped>\n    .dataframe tbody tr th:only-of-type {\n        vertical-align: middle;\n    }\n\n    .dataframe tbody tr th {\n        vertical-align: top;\n    }\n\n    .dataframe thead th {\n        text-align: right;\n    }\n</style>\n<table border=\"1\" class=\"dataframe\">\n  <thead>\n    <tr style=\"text-align: right;\">\n      <th></th>\n      <th>sky</th>\n      <th>blue</th>\n      <th>beautiful</th>\n      <th>jumps</th>\n      <th>eggs</th>\n      <th>sausages</th>\n      <th>lazy</th>\n      <th>dog</th>\n      <th>ham</th>\n      <th>bacon</th>\n      <th>brown</th>\n      <th>toast</th>\n      <th>quick</th>\n      <th>beans</th>\n      <th>love</th>\n      <th>green</th>\n      <th>kings</th>\n      <th>breakfast</th>\n      <th>fox</th>\n      <th>today</th>\n    </tr>\n  </thead>\n  <tbody>\n    <tr>\n      <th>0</th>\n      <td>1.81</td>\n      <td>1.59</td>\n      <td>1.81</td>\n      <td>0.0</td>\n      <td>0.0</td>\n      <td>0.0</td>\n      <td>0.00</td>\n      <td>0.00</td>\n      <td>0.0</td>\n      <td>0.0</td>\n      <td>0.00</td>\n      <td>0.0</td>\n      <td>0.00</td>\n      <td>0.0</td>\n      <td>0.0</td>\n      <td>0.0</td>\n      <td>0.0</td>\n      <td>0.0</td>\n      <td>0.00</td>\n      <td>0.0</td>\n    </tr>\n    <tr>\n      <th>1</th>\n      <td>1.81</td>\n      <td>1.59</td>\n      <td>1.81</td>\n      <td>0.0</td>\n      <td>0.0</td>\n      <td>0.0</td>\n      <td>0.00</td>\n      <td>0.00</td>\n      <td>0.0</td>\n      <td>0.0</td>\n      <td>0.00</td>\n      <td>0.0</td>\n      <td>0.00</td>\n      <td>0.0</td>\n      <td>2.1</td>\n      <td>0.0</td>\n      <td>0.0</td>\n      <td>0.0</td>\n      <td>0.00</td>\n      <td>0.0</td>\n    </tr>\n    <tr>\n      <th>2</th>\n      <td>0.00</td>\n      <td>0.00</td>\n      <td>0.00</td>\n      <td>2.5</td>\n      <td>0.0</td>\n      <td>0.0</td>\n      <td>1.81</td>\n      <td>1.81</td>\n      <td>0.0</td>\n      <td>0.0</td>\n      <td>1.81</td>\n      <td>0.0</td>\n      <td>1.81</td>\n      <td>0.0</td>\n      <td>0.0</td>\n      <td>0.0</td>\n      <td>0.0</td>\n      <td>0.0</td>\n      <td>1.81</td>\n      <td>0.0</td>\n    </tr>\n    <tr>\n      <th>3</th>\n      <td>0.00</td>\n      <td>0.00</td>\n      <td>0.00</td>\n      <td>0.0</td>\n      <td>2.1</td>\n      <td>2.1</td>\n      <td>0.00</td>\n      <td>0.00</td>\n      <td>2.1</td>\n      <td>2.1</td>\n      <td>0.00</td>\n      <td>2.5</td>\n      <td>0.00</td>\n      <td>2.5</td>\n      <td>0.0</td>\n      <td>0.0</td>\n      <td>2.5</td>\n      <td>2.5</td>\n      <td>0.00</td>\n      <td>0.0</td>\n    </tr>\n    <tr>\n      <th>4</th>\n      <td>0.00</td>\n      <td>0.00</td>\n      <td>0.00</td>\n      <td>0.0</td>\n      <td>2.1</td>\n      <td>2.1</td>\n      <td>0.00</td>\n      <td>0.00</td>\n      <td>2.1</td>\n      <td>2.1</td>\n      <td>0.00</td>\n      <td>0.0</td>\n      <td>0.00</td>\n      <td>0.0</td>\n      <td>2.1</td>\n      <td>2.5</td>\n      <td>0.0</td>\n      <td>0.0</td>\n      <td>0.00</td>\n      <td>0.0</td>\n    </tr>\n    <tr>\n      <th>5</th>\n      <td>0.00</td>\n      <td>1.59</td>\n      <td>0.00</td>\n      <td>0.0</td>\n      <td>0.0</td>\n      <td>0.0</td>\n      <td>1.81</td>\n      <td>1.81</td>\n      <td>0.0</td>\n      <td>0.0</td>\n      <td>1.81</td>\n      <td>0.0</td>\n      <td>1.81</td>\n      <td>0.0</td>\n      <td>0.0</td>\n      <td>0.0</td>\n      <td>0.0</td>\n      <td>0.0</td>\n      <td>1.81</td>\n      <td>0.0</td>\n    </tr>\n    <tr>\n      <th>6</th>\n      <td>3.62</td>\n      <td>1.59</td>\n      <td>1.81</td>\n      <td>0.0</td>\n      <td>0.0</td>\n      <td>0.0</td>\n      <td>0.00</td>\n      <td>0.00</td>\n      <td>0.0</td>\n      <td>0.0</td>\n      <td>0.00</td>\n      <td>0.0</td>\n      <td>0.00</td>\n      <td>0.0</td>\n      <td>0.0</td>\n      <td>0.0</td>\n      <td>0.0</td>\n      <td>0.0</td>\n      <td>0.00</td>\n      <td>2.5</td>\n    </tr>\n    <tr>\n      <th>7</th>\n      <td>0.00</td>\n      <td>0.00</td>\n      <td>0.00</td>\n      <td>0.0</td>\n      <td>0.0</td>\n      <td>0.0</td>\n      <td>1.81</td>\n      <td>1.81</td>\n      <td>0.0</td>\n      <td>0.0</td>\n      <td>1.81</td>\n      <td>0.0</td>\n      <td>1.81</td>\n      <td>0.0</td>\n      <td>0.0</td>\n      <td>0.0</td>\n      <td>0.0</td>\n      <td>0.0</td>\n      <td>1.81</td>\n      <td>0.0</td>\n    </tr>\n  </tbody>\n</table>\n</div>"
     },
     "metadata": {},
     "execution_count": 21
    }
   ],
   "source": [
    "# compute tfidf feature matrix\n",
    "tf = np.array(bow_features, dtype='float64')\n",
    "tfidf = tf * idf\n",
    "# view raw tfidf feature matrix\n",
    "pd.DataFrame(np.round(tfidf, 2), columns=feature_names)"
   ]
  },
  {
   "cell_type": "code",
   "execution_count": 22,
   "metadata": {},
   "outputs": [
    {
     "output_type": "stream",
     "name": "stdout",
     "text": "[3.013 3.672 4.761 6.534 5.319 4.35  5.019 4.049]\n"
    }
   ],
   "source": [
    "from numpy.linalg import norm\n",
    "# compute L2 norm\n",
    "norms = norm(tfidf, axis=1)\n",
    "\n",
    "# print norms for each document\n",
    "print(np.round(norms,3))"
   ]
  },
  {
   "cell_type": "code",
   "execution_count": 23,
   "metadata": {},
   "outputs": [
    {
     "output_type": "execute_result",
     "data": {
      "text/plain": "    sky  blue  beautiful  jumps  eggs  sausages  lazy   dog   ham  bacon  \\\n0  0.60  0.53       0.60   0.00  0.00      0.00  0.00  0.00  0.00   0.00   \n1  0.49  0.43       0.49   0.00  0.00      0.00  0.00  0.00  0.00   0.00   \n2  0.00  0.00       0.00   0.53  0.00      0.00  0.38  0.38  0.00   0.00   \n3  0.00  0.00       0.00   0.00  0.32      0.32  0.00  0.00  0.32   0.32   \n4  0.00  0.00       0.00   0.00  0.39      0.39  0.00  0.00  0.39   0.39   \n5  0.00  0.37       0.00   0.00  0.00      0.00  0.42  0.42  0.00   0.00   \n6  0.72  0.32       0.36   0.00  0.00      0.00  0.00  0.00  0.00   0.00   \n7  0.00  0.00       0.00   0.00  0.00      0.00  0.45  0.45  0.00   0.00   \n\n   brown  toast  quick  beans  love  green  kings  breakfast   fox  today  \n0   0.00   0.00   0.00   0.00  0.00   0.00   0.00       0.00  0.00    0.0  \n1   0.00   0.00   0.00   0.00  0.57   0.00   0.00       0.00  0.00    0.0  \n2   0.38   0.00   0.38   0.00  0.00   0.00   0.00       0.00  0.38    0.0  \n3   0.00   0.38   0.00   0.38  0.00   0.00   0.38       0.38  0.00    0.0  \n4   0.00   0.00   0.00   0.00  0.39   0.47   0.00       0.00  0.00    0.0  \n5   0.42   0.00   0.42   0.00  0.00   0.00   0.00       0.00  0.42    0.0  \n6   0.00   0.00   0.00   0.00  0.00   0.00   0.00       0.00  0.00    0.5  \n7   0.45   0.00   0.45   0.00  0.00   0.00   0.00       0.00  0.45    0.0  ",
      "text/html": "<div>\n<style scoped>\n    .dataframe tbody tr th:only-of-type {\n        vertical-align: middle;\n    }\n\n    .dataframe tbody tr th {\n        vertical-align: top;\n    }\n\n    .dataframe thead th {\n        text-align: right;\n    }\n</style>\n<table border=\"1\" class=\"dataframe\">\n  <thead>\n    <tr style=\"text-align: right;\">\n      <th></th>\n      <th>sky</th>\n      <th>blue</th>\n      <th>beautiful</th>\n      <th>jumps</th>\n      <th>eggs</th>\n      <th>sausages</th>\n      <th>lazy</th>\n      <th>dog</th>\n      <th>ham</th>\n      <th>bacon</th>\n      <th>brown</th>\n      <th>toast</th>\n      <th>quick</th>\n      <th>beans</th>\n      <th>love</th>\n      <th>green</th>\n      <th>kings</th>\n      <th>breakfast</th>\n      <th>fox</th>\n      <th>today</th>\n    </tr>\n  </thead>\n  <tbody>\n    <tr>\n      <th>0</th>\n      <td>0.60</td>\n      <td>0.53</td>\n      <td>0.60</td>\n      <td>0.00</td>\n      <td>0.00</td>\n      <td>0.00</td>\n      <td>0.00</td>\n      <td>0.00</td>\n      <td>0.00</td>\n      <td>0.00</td>\n      <td>0.00</td>\n      <td>0.00</td>\n      <td>0.00</td>\n      <td>0.00</td>\n      <td>0.00</td>\n      <td>0.00</td>\n      <td>0.00</td>\n      <td>0.00</td>\n      <td>0.00</td>\n      <td>0.0</td>\n    </tr>\n    <tr>\n      <th>1</th>\n      <td>0.49</td>\n      <td>0.43</td>\n      <td>0.49</td>\n      <td>0.00</td>\n      <td>0.00</td>\n      <td>0.00</td>\n      <td>0.00</td>\n      <td>0.00</td>\n      <td>0.00</td>\n      <td>0.00</td>\n      <td>0.00</td>\n      <td>0.00</td>\n      <td>0.00</td>\n      <td>0.00</td>\n      <td>0.57</td>\n      <td>0.00</td>\n      <td>0.00</td>\n      <td>0.00</td>\n      <td>0.00</td>\n      <td>0.0</td>\n    </tr>\n    <tr>\n      <th>2</th>\n      <td>0.00</td>\n      <td>0.00</td>\n      <td>0.00</td>\n      <td>0.53</td>\n      <td>0.00</td>\n      <td>0.00</td>\n      <td>0.38</td>\n      <td>0.38</td>\n      <td>0.00</td>\n      <td>0.00</td>\n      <td>0.38</td>\n      <td>0.00</td>\n      <td>0.38</td>\n      <td>0.00</td>\n      <td>0.00</td>\n      <td>0.00</td>\n      <td>0.00</td>\n      <td>0.00</td>\n      <td>0.38</td>\n      <td>0.0</td>\n    </tr>\n    <tr>\n      <th>3</th>\n      <td>0.00</td>\n      <td>0.00</td>\n      <td>0.00</td>\n      <td>0.00</td>\n      <td>0.32</td>\n      <td>0.32</td>\n      <td>0.00</td>\n      <td>0.00</td>\n      <td>0.32</td>\n      <td>0.32</td>\n      <td>0.00</td>\n      <td>0.38</td>\n      <td>0.00</td>\n      <td>0.38</td>\n      <td>0.00</td>\n      <td>0.00</td>\n      <td>0.38</td>\n      <td>0.38</td>\n      <td>0.00</td>\n      <td>0.0</td>\n    </tr>\n    <tr>\n      <th>4</th>\n      <td>0.00</td>\n      <td>0.00</td>\n      <td>0.00</td>\n      <td>0.00</td>\n      <td>0.39</td>\n      <td>0.39</td>\n      <td>0.00</td>\n      <td>0.00</td>\n      <td>0.39</td>\n      <td>0.39</td>\n      <td>0.00</td>\n      <td>0.00</td>\n      <td>0.00</td>\n      <td>0.00</td>\n      <td>0.39</td>\n      <td>0.47</td>\n      <td>0.00</td>\n      <td>0.00</td>\n      <td>0.00</td>\n      <td>0.0</td>\n    </tr>\n    <tr>\n      <th>5</th>\n      <td>0.00</td>\n      <td>0.37</td>\n      <td>0.00</td>\n      <td>0.00</td>\n      <td>0.00</td>\n      <td>0.00</td>\n      <td>0.42</td>\n      <td>0.42</td>\n      <td>0.00</td>\n      <td>0.00</td>\n      <td>0.42</td>\n      <td>0.00</td>\n      <td>0.42</td>\n      <td>0.00</td>\n      <td>0.00</td>\n      <td>0.00</td>\n      <td>0.00</td>\n      <td>0.00</td>\n      <td>0.42</td>\n      <td>0.0</td>\n    </tr>\n    <tr>\n      <th>6</th>\n      <td>0.72</td>\n      <td>0.32</td>\n      <td>0.36</td>\n      <td>0.00</td>\n      <td>0.00</td>\n      <td>0.00</td>\n      <td>0.00</td>\n      <td>0.00</td>\n      <td>0.00</td>\n      <td>0.00</td>\n      <td>0.00</td>\n      <td>0.00</td>\n      <td>0.00</td>\n      <td>0.00</td>\n      <td>0.00</td>\n      <td>0.00</td>\n      <td>0.00</td>\n      <td>0.00</td>\n      <td>0.00</td>\n      <td>0.5</td>\n    </tr>\n    <tr>\n      <th>7</th>\n      <td>0.00</td>\n      <td>0.00</td>\n      <td>0.00</td>\n      <td>0.00</td>\n      <td>0.00</td>\n      <td>0.00</td>\n      <td>0.45</td>\n      <td>0.45</td>\n      <td>0.00</td>\n      <td>0.00</td>\n      <td>0.45</td>\n      <td>0.00</td>\n      <td>0.45</td>\n      <td>0.00</td>\n      <td>0.00</td>\n      <td>0.00</td>\n      <td>0.00</td>\n      <td>0.00</td>\n      <td>0.45</td>\n      <td>0.0</td>\n    </tr>\n  </tbody>\n</table>\n</div>"
     },
     "metadata": {},
     "execution_count": 23
    }
   ],
   "source": [
    "# compute normalized tfidf\n",
    "norm_tfidf = tfidf/norms[:, None]\n",
    "\n",
    "# show final tfidf feature matrix\n",
    "pd.DataFrame(np.round(norm_tfidf, 2), columns=feature_names)"
   ]
  },
  {
   "cell_type": "markdown",
   "metadata": {},
   "source": [
    "## Extracting Features for New Documents\n",
    "* Suppose you built a machine learning model to classify and categorize news articles\n",
    "* Q: How can you generate features for completely new document so that you can feed it into the ML models for prediction?\n",
    "* sklearn has transform() function for vectorizers previously discussed\n",
    "* can leverage to get features for completely new document that was not present in our corpus (when we trained model) \n",
    "\n",
    "PROCESS\n",
    "    1. use fit_transform() to build a feature matrix on all documents in corpus\n",
    "        * becomes training feature set on which to build and train predictive or other ML models\n",
    "    2. use transform() to generate feature vectors of new documents\n",
    "    3. can be fed into trained models to generate needed insights"
   ]
  },
  {
   "cell_type": "code",
   "execution_count": 24,
   "metadata": {},
   "outputs": [
    {
     "output_type": "execute_result",
     "data": {
      "text/plain": "   bacon  beans  beautiful  blue  breakfast  brown  dog  eggs  fox  green  \\\n0    0.0    0.0        0.0   0.0        0.0    0.0  0.0   0.0  0.0   0.63   \n\n   ham  jumps  kings  lazy  love  quick  sausages   sky  toast  today  \n0  0.0    0.0    0.0   0.0   0.0    0.0       0.0  0.46    0.0   0.63  ",
      "text/html": "<div>\n<style scoped>\n    .dataframe tbody tr th:only-of-type {\n        vertical-align: middle;\n    }\n\n    .dataframe tbody tr th {\n        vertical-align: top;\n    }\n\n    .dataframe thead th {\n        text-align: right;\n    }\n</style>\n<table border=\"1\" class=\"dataframe\">\n  <thead>\n    <tr style=\"text-align: right;\">\n      <th></th>\n      <th>bacon</th>\n      <th>beans</th>\n      <th>beautiful</th>\n      <th>blue</th>\n      <th>breakfast</th>\n      <th>brown</th>\n      <th>dog</th>\n      <th>eggs</th>\n      <th>fox</th>\n      <th>green</th>\n      <th>ham</th>\n      <th>jumps</th>\n      <th>kings</th>\n      <th>lazy</th>\n      <th>love</th>\n      <th>quick</th>\n      <th>sausages</th>\n      <th>sky</th>\n      <th>toast</th>\n      <th>today</th>\n    </tr>\n  </thead>\n  <tbody>\n    <tr>\n      <th>0</th>\n      <td>0.0</td>\n      <td>0.0</td>\n      <td>0.0</td>\n      <td>0.0</td>\n      <td>0.0</td>\n      <td>0.0</td>\n      <td>0.0</td>\n      <td>0.0</td>\n      <td>0.0</td>\n      <td>0.63</td>\n      <td>0.0</td>\n      <td>0.0</td>\n      <td>0.0</td>\n      <td>0.0</td>\n      <td>0.0</td>\n      <td>0.0</td>\n      <td>0.0</td>\n      <td>0.46</td>\n      <td>0.0</td>\n      <td>0.63</td>\n    </tr>\n  </tbody>\n</table>\n</div>"
     },
     "metadata": {},
     "execution_count": 24
    }
   ],
   "source": [
    "new_doc = 'the sky is green today'\n",
    "pd.DataFrame(np.round(tv.transform([new_doc]).toarray(), 2), columns=tv.get_feature_names())"
   ]
  },
  {
   "cell_type": "markdown",
   "metadata": {},
   "source": [
    "## Document Similarity\n",
    "* process of using a distance or similarity based metric that can identify how similar a text document is to any other document(s) based on features extracted from the documents like Bag of Words or TF-IDF\n",
    "* pairwise document similarity: computing document similarity for each pair of documents in a corpus\n",
    "* good EX of grouping or clustering that's solved by unsupervised learning"
   ]
  },
  {
   "cell_type": "code",
   "execution_count": 25,
   "metadata": {},
   "outputs": [
    {
     "output_type": "execute_result",
     "data": {
      "text/plain": "          0         1         2         3         4         5         6  \\\n0  1.000000  0.820599  0.000000  0.000000  0.000000  0.192353  0.817246   \n1  0.820599  1.000000  0.000000  0.000000  0.225489  0.157845  0.670631   \n2  0.000000  0.000000  1.000000  0.000000  0.000000  0.791821  0.000000   \n3  0.000000  0.000000  0.000000  1.000000  0.506866  0.000000  0.000000   \n4  0.000000  0.225489  0.000000  0.506866  1.000000  0.000000  0.000000   \n5  0.192353  0.157845  0.791821  0.000000  0.000000  1.000000  0.115488   \n6  0.817246  0.670631  0.000000  0.000000  0.000000  0.115488  1.000000   \n7  0.000000  0.000000  0.850516  0.000000  0.000000  0.930989  0.000000   \n\n          7  \n0  0.000000  \n1  0.000000  \n2  0.850516  \n3  0.000000  \n4  0.000000  \n5  0.930989  \n6  0.000000  \n7  1.000000  ",
      "text/html": "<div>\n<style scoped>\n    .dataframe tbody tr th:only-of-type {\n        vertical-align: middle;\n    }\n\n    .dataframe tbody tr th {\n        vertical-align: top;\n    }\n\n    .dataframe thead th {\n        text-align: right;\n    }\n</style>\n<table border=\"1\" class=\"dataframe\">\n  <thead>\n    <tr style=\"text-align: right;\">\n      <th></th>\n      <th>0</th>\n      <th>1</th>\n      <th>2</th>\n      <th>3</th>\n      <th>4</th>\n      <th>5</th>\n      <th>6</th>\n      <th>7</th>\n    </tr>\n  </thead>\n  <tbody>\n    <tr>\n      <th>0</th>\n      <td>1.000000</td>\n      <td>0.820599</td>\n      <td>0.000000</td>\n      <td>0.000000</td>\n      <td>0.000000</td>\n      <td>0.192353</td>\n      <td>0.817246</td>\n      <td>0.000000</td>\n    </tr>\n    <tr>\n      <th>1</th>\n      <td>0.820599</td>\n      <td>1.000000</td>\n      <td>0.000000</td>\n      <td>0.000000</td>\n      <td>0.225489</td>\n      <td>0.157845</td>\n      <td>0.670631</td>\n      <td>0.000000</td>\n    </tr>\n    <tr>\n      <th>2</th>\n      <td>0.000000</td>\n      <td>0.000000</td>\n      <td>1.000000</td>\n      <td>0.000000</td>\n      <td>0.000000</td>\n      <td>0.791821</td>\n      <td>0.000000</td>\n      <td>0.850516</td>\n    </tr>\n    <tr>\n      <th>3</th>\n      <td>0.000000</td>\n      <td>0.000000</td>\n      <td>0.000000</td>\n      <td>1.000000</td>\n      <td>0.506866</td>\n      <td>0.000000</td>\n      <td>0.000000</td>\n      <td>0.000000</td>\n    </tr>\n    <tr>\n      <th>4</th>\n      <td>0.000000</td>\n      <td>0.225489</td>\n      <td>0.000000</td>\n      <td>0.506866</td>\n      <td>1.000000</td>\n      <td>0.000000</td>\n      <td>0.000000</td>\n      <td>0.000000</td>\n    </tr>\n    <tr>\n      <th>5</th>\n      <td>0.192353</td>\n      <td>0.157845</td>\n      <td>0.791821</td>\n      <td>0.000000</td>\n      <td>0.000000</td>\n      <td>1.000000</td>\n      <td>0.115488</td>\n      <td>0.930989</td>\n    </tr>\n    <tr>\n      <th>6</th>\n      <td>0.817246</td>\n      <td>0.670631</td>\n      <td>0.000000</td>\n      <td>0.000000</td>\n      <td>0.000000</td>\n      <td>0.115488</td>\n      <td>1.000000</td>\n      <td>0.000000</td>\n    </tr>\n    <tr>\n      <th>7</th>\n      <td>0.000000</td>\n      <td>0.000000</td>\n      <td>0.850516</td>\n      <td>0.000000</td>\n      <td>0.000000</td>\n      <td>0.930989</td>\n      <td>0.000000</td>\n      <td>1.000000</td>\n    </tr>\n  </tbody>\n</table>\n</div>"
     },
     "metadata": {},
     "execution_count": 25
    }
   ],
   "source": [
    "from sklearn.metrics.pairwise import cosine_similarity\n",
    "\n",
    "similarity_matrix = cosine_similarity(tv_matrix)\n",
    "similarity_df = pd.DataFrame(similarity_matrix)\n",
    "similarity_df"
   ]
  },
  {
   "cell_type": "markdown",
   "metadata": {},
   "source": [
    "### Document Clustering with Similarity Features\n",
    "* clustering leverages unsupervised learning to group data points (documents in this case) into groups or cluster\n",
    "* leverage unsupervised hierarchical clustering algorithm to try and group similar documents from corpus by using document similarity features generated\n",
    "* two types of hierarchical clustering algorithm\n",
    "    1. agglomerative\n",
    "        - hierarchical clustering using a bottom-up approach i.e each observation or document starts in its own cluser and clusters are successively merged using a distance metric that measures distances between data points and a linkage merge criterion\n",
    "        - EX of linkage critera: Ward, Complete linkage, Average linkage; useful for choosing a pair of clusters (individual documents at lowest step and clusters at higher steps) to merge at each step based on optimal value of an objective function\n",
    "        - can choose Ward's minimum variance method as linkage criteion to minimize total within-cluster variance; at each step, find the pair of clusters that leads to the minimum increase in total within-cluster variance after merging\n",
    "    2. divisive\n",
    "* with n data points, the linkage matrix z will have shape (n-1) x 4 where z[i] tells us which clusters were merged at step i\n",
    "* each row has four elements\n",
    "    - first two elements are either data point identifiers or cluster labels (in later parts of matrix once multiple data points are merged)\n",
    "    - third element: cluster distance between first two elements (either data points or clusters)\n",
    "    - last element: total number of elements/data points in cluster once merge is complete"
   ]
  },
  {
   "cell_type": "code",
   "execution_count": 27,
   "metadata": {},
   "outputs": [
    {
     "output_type": "execute_result",
     "data": {
      "text/plain": "  Document\\Cluster 1 Document\\Cluster 2  Distance Cluster Size\n0                  2                  7  0.253098            2\n1                  0                  6  0.308539            2\n2                  5                  8  0.386952            3\n3                  1                  9  0.489845            3\n4                  3                  4  0.732945            2\n5                 11                 12   2.69565            5\n6                 10                 13   3.45108            8",
      "text/html": "<div>\n<style scoped>\n    .dataframe tbody tr th:only-of-type {\n        vertical-align: middle;\n    }\n\n    .dataframe tbody tr th {\n        vertical-align: top;\n    }\n\n    .dataframe thead th {\n        text-align: right;\n    }\n</style>\n<table border=\"1\" class=\"dataframe\">\n  <thead>\n    <tr style=\"text-align: right;\">\n      <th></th>\n      <th>Document\\Cluster 1</th>\n      <th>Document\\Cluster 2</th>\n      <th>Distance</th>\n      <th>Cluster Size</th>\n    </tr>\n  </thead>\n  <tbody>\n    <tr>\n      <th>0</th>\n      <td>2</td>\n      <td>7</td>\n      <td>0.253098</td>\n      <td>2</td>\n    </tr>\n    <tr>\n      <th>1</th>\n      <td>0</td>\n      <td>6</td>\n      <td>0.308539</td>\n      <td>2</td>\n    </tr>\n    <tr>\n      <th>2</th>\n      <td>5</td>\n      <td>8</td>\n      <td>0.386952</td>\n      <td>3</td>\n    </tr>\n    <tr>\n      <th>3</th>\n      <td>1</td>\n      <td>9</td>\n      <td>0.489845</td>\n      <td>3</td>\n    </tr>\n    <tr>\n      <th>4</th>\n      <td>3</td>\n      <td>4</td>\n      <td>0.732945</td>\n      <td>2</td>\n    </tr>\n    <tr>\n      <th>5</th>\n      <td>11</td>\n      <td>12</td>\n      <td>2.69565</td>\n      <td>5</td>\n    </tr>\n    <tr>\n      <th>6</th>\n      <td>10</td>\n      <td>13</td>\n      <td>3.45108</td>\n      <td>8</td>\n    </tr>\n  </tbody>\n</table>\n</div>"
     },
     "metadata": {},
     "execution_count": 27
    }
   ],
   "source": [
    "from scipy.cluster.hierarchy import dendrogram, linkage\n",
    "\n",
    "Z = linkage(similarity_matrix, 'ward')\n",
    "pd.DataFrame(Z, columns=['Document\\Cluster 1', 'Document\\Cluster 2', 'Distance', 'Cluster Size'], dtype='object')"
   ]
  },
  {
   "cell_type": "code",
   "execution_count": 28,
   "metadata": {},
   "outputs": [
    {
     "output_type": "execute_result",
     "data": {
      "text/plain": "<matplotlib.lines.Line2D at 0x122876790>"
     },
     "metadata": {},
     "execution_count": 28
    },
    {
     "output_type": "display_data",
     "data": {
      "text/plain": "<Figure size 576x216 with 1 Axes>",
      "image/svg+xml": "<?xml version=\"1.0\" encoding=\"utf-8\" standalone=\"no\"?>\n<!DOCTYPE svg PUBLIC \"-//W3C//DTD SVG 1.1//EN\"\n  \"http://www.w3.org/Graphics/SVG/1.1/DTD/svg11.dtd\">\n<!-- Created with matplotlib (https://matplotlib.org/) -->\n<svg height=\"224.89pt\" version=\"1.1\" viewBox=\"0 0 497.38125 224.89\" width=\"497.38125pt\" xmlns=\"http://www.w3.org/2000/svg\" xmlns:xlink=\"http://www.w3.org/1999/xlink\">\n <defs>\n  <style type=\"text/css\">\n*{stroke-linecap:butt;stroke-linejoin:round;}\n  </style>\n </defs>\n <g id=\"figure_1\">\n  <g id=\"patch_1\">\n   <path d=\"M 0 224.89 \nL 497.38125 224.89 \nL 497.38125 0 \nL 0 0 \nz\n\" style=\"fill:none;\"/>\n  </g>\n  <g id=\"axes_1\">\n   <g id=\"patch_2\">\n    <path d=\"M 43.78125 185.398125 \nL 490.18125 185.398125 \nL 490.18125 22.318125 \nL 43.78125 22.318125 \nz\n\" style=\"fill:#ffffff;\"/>\n   </g>\n   <g id=\"matplotlib.axis_1\">\n    <g id=\"xtick_1\">\n     <g id=\"text_1\">\n      <!-- 5 -->\n      <defs>\n       <path d=\"M 10.796875 72.90625 \nL 49.515625 72.90625 \nL 49.515625 64.59375 \nL 19.828125 64.59375 \nL 19.828125 46.734375 \nQ 21.96875 47.46875 24.109375 47.828125 \nQ 26.265625 48.1875 28.421875 48.1875 \nQ 40.625 48.1875 47.75 41.5 \nQ 54.890625 34.8125 54.890625 23.390625 \nQ 54.890625 11.625 47.5625 5.09375 \nQ 40.234375 -1.421875 26.90625 -1.421875 \nQ 22.3125 -1.421875 17.546875 -0.640625 \nQ 12.796875 0.140625 7.71875 1.703125 \nL 7.71875 11.625 \nQ 12.109375 9.234375 16.796875 8.0625 \nQ 21.484375 6.890625 26.703125 6.890625 \nQ 35.15625 6.890625 40.078125 11.328125 \nQ 45.015625 15.765625 45.015625 23.390625 \nQ 45.015625 31 40.078125 35.4375 \nQ 35.15625 39.890625 26.703125 39.890625 \nQ 22.75 39.890625 18.8125 39.015625 \nQ 14.890625 38.140625 10.796875 36.28125 \nz\n\" id=\"DejaVuSans-53\"/>\n      </defs>\n      <g transform=\"translate(67.86375 201.51625)scale(0.12 -0.12)\">\n       <use xlink:href=\"#DejaVuSans-53\"/>\n      </g>\n     </g>\n    </g>\n    <g id=\"xtick_2\">\n     <g id=\"text_2\">\n      <!-- 2 -->\n      <defs>\n       <path d=\"M 19.1875 8.296875 \nL 53.609375 8.296875 \nL 53.609375 0 \nL 7.328125 0 \nL 7.328125 8.296875 \nQ 12.9375 14.109375 22.625 23.890625 \nQ 32.328125 33.6875 34.8125 36.53125 \nQ 39.546875 41.84375 41.421875 45.53125 \nQ 43.3125 49.21875 43.3125 52.78125 \nQ 43.3125 58.59375 39.234375 62.25 \nQ 35.15625 65.921875 28.609375 65.921875 \nQ 23.96875 65.921875 18.8125 64.3125 \nQ 13.671875 62.703125 7.8125 59.421875 \nL 7.8125 69.390625 \nQ 13.765625 71.78125 18.9375 73 \nQ 24.125 74.21875 28.421875 74.21875 \nQ 39.75 74.21875 46.484375 68.546875 \nQ 53.21875 62.890625 53.21875 53.421875 \nQ 53.21875 48.921875 51.53125 44.890625 \nQ 49.859375 40.875 45.40625 35.40625 \nQ 44.1875 33.984375 37.640625 27.21875 \nQ 31.109375 20.453125 19.1875 8.296875 \nz\n\" id=\"DejaVuSans-50\"/>\n      </defs>\n      <g transform=\"translate(123.66375 201.51625)scale(0.12 -0.12)\">\n       <use xlink:href=\"#DejaVuSans-50\"/>\n      </g>\n     </g>\n    </g>\n    <g id=\"xtick_3\">\n     <g id=\"text_3\">\n      <!-- 7 -->\n      <defs>\n       <path d=\"M 8.203125 72.90625 \nL 55.078125 72.90625 \nL 55.078125 68.703125 \nL 28.609375 0 \nL 18.3125 0 \nL 43.21875 64.59375 \nL 8.203125 64.59375 \nz\n\" id=\"DejaVuSans-55\"/>\n      </defs>\n      <g transform=\"translate(179.46375 201.51625)scale(0.12 -0.12)\">\n       <use xlink:href=\"#DejaVuSans-55\"/>\n      </g>\n     </g>\n    </g>\n    <g id=\"xtick_4\">\n     <g id=\"text_4\">\n      <!-- 1 -->\n      <defs>\n       <path d=\"M 12.40625 8.296875 \nL 28.515625 8.296875 \nL 28.515625 63.921875 \nL 10.984375 60.40625 \nL 10.984375 69.390625 \nL 28.421875 72.90625 \nL 38.28125 72.90625 \nL 38.28125 8.296875 \nL 54.390625 8.296875 \nL 54.390625 0 \nL 12.40625 0 \nz\n\" id=\"DejaVuSans-49\"/>\n      </defs>\n      <g transform=\"translate(235.26375 201.51625)scale(0.12 -0.12)\">\n       <use xlink:href=\"#DejaVuSans-49\"/>\n      </g>\n     </g>\n    </g>\n    <g id=\"xtick_5\">\n     <g id=\"text_5\">\n      <!-- 0 -->\n      <defs>\n       <path d=\"M 31.78125 66.40625 \nQ 24.171875 66.40625 20.328125 58.90625 \nQ 16.5 51.421875 16.5 36.375 \nQ 16.5 21.390625 20.328125 13.890625 \nQ 24.171875 6.390625 31.78125 6.390625 \nQ 39.453125 6.390625 43.28125 13.890625 \nQ 47.125 21.390625 47.125 36.375 \nQ 47.125 51.421875 43.28125 58.90625 \nQ 39.453125 66.40625 31.78125 66.40625 \nz\nM 31.78125 74.21875 \nQ 44.046875 74.21875 50.515625 64.515625 \nQ 56.984375 54.828125 56.984375 36.375 \nQ 56.984375 17.96875 50.515625 8.265625 \nQ 44.046875 -1.421875 31.78125 -1.421875 \nQ 19.53125 -1.421875 13.0625 8.265625 \nQ 6.59375 17.96875 6.59375 36.375 \nQ 6.59375 54.828125 13.0625 64.515625 \nQ 19.53125 74.21875 31.78125 74.21875 \nz\n\" id=\"DejaVuSans-48\"/>\n      </defs>\n      <g transform=\"translate(291.06375 201.51625)scale(0.12 -0.12)\">\n       <use xlink:href=\"#DejaVuSans-48\"/>\n      </g>\n     </g>\n    </g>\n    <g id=\"xtick_6\">\n     <g id=\"text_6\">\n      <!-- 6 -->\n      <defs>\n       <path d=\"M 33.015625 40.375 \nQ 26.375 40.375 22.484375 35.828125 \nQ 18.609375 31.296875 18.609375 23.390625 \nQ 18.609375 15.53125 22.484375 10.953125 \nQ 26.375 6.390625 33.015625 6.390625 \nQ 39.65625 6.390625 43.53125 10.953125 \nQ 47.40625 15.53125 47.40625 23.390625 \nQ 47.40625 31.296875 43.53125 35.828125 \nQ 39.65625 40.375 33.015625 40.375 \nz\nM 52.59375 71.296875 \nL 52.59375 62.3125 \nQ 48.875 64.0625 45.09375 64.984375 \nQ 41.3125 65.921875 37.59375 65.921875 \nQ 27.828125 65.921875 22.671875 59.328125 \nQ 17.53125 52.734375 16.796875 39.40625 \nQ 19.671875 43.65625 24.015625 45.921875 \nQ 28.375 48.1875 33.59375 48.1875 \nQ 44.578125 48.1875 50.953125 41.515625 \nQ 57.328125 34.859375 57.328125 23.390625 \nQ 57.328125 12.15625 50.6875 5.359375 \nQ 44.046875 -1.421875 33.015625 -1.421875 \nQ 20.359375 -1.421875 13.671875 8.265625 \nQ 6.984375 17.96875 6.984375 36.375 \nQ 6.984375 53.65625 15.1875 63.9375 \nQ 23.390625 74.21875 37.203125 74.21875 \nQ 40.921875 74.21875 44.703125 73.484375 \nQ 48.484375 72.75 52.59375 71.296875 \nz\n\" id=\"DejaVuSans-54\"/>\n      </defs>\n      <g transform=\"translate(346.86375 201.51625)scale(0.12 -0.12)\">\n       <use xlink:href=\"#DejaVuSans-54\"/>\n      </g>\n     </g>\n    </g>\n    <g id=\"xtick_7\">\n     <g id=\"text_7\">\n      <!-- 3 -->\n      <defs>\n       <path d=\"M 40.578125 39.3125 \nQ 47.65625 37.796875 51.625 33 \nQ 55.609375 28.21875 55.609375 21.1875 \nQ 55.609375 10.40625 48.1875 4.484375 \nQ 40.765625 -1.421875 27.09375 -1.421875 \nQ 22.515625 -1.421875 17.65625 -0.515625 \nQ 12.796875 0.390625 7.625 2.203125 \nL 7.625 11.71875 \nQ 11.71875 9.328125 16.59375 8.109375 \nQ 21.484375 6.890625 26.8125 6.890625 \nQ 36.078125 6.890625 40.9375 10.546875 \nQ 45.796875 14.203125 45.796875 21.1875 \nQ 45.796875 27.640625 41.28125 31.265625 \nQ 36.765625 34.90625 28.71875 34.90625 \nL 20.21875 34.90625 \nL 20.21875 43.015625 \nL 29.109375 43.015625 \nQ 36.375 43.015625 40.234375 45.921875 \nQ 44.09375 48.828125 44.09375 54.296875 \nQ 44.09375 59.90625 40.109375 62.90625 \nQ 36.140625 65.921875 28.71875 65.921875 \nQ 24.65625 65.921875 20.015625 65.03125 \nQ 15.375 64.15625 9.8125 62.3125 \nL 9.8125 71.09375 \nQ 15.4375 72.65625 20.34375 73.4375 \nQ 25.25 74.21875 29.59375 74.21875 \nQ 40.828125 74.21875 47.359375 69.109375 \nQ 53.90625 64.015625 53.90625 55.328125 \nQ 53.90625 49.265625 50.4375 45.09375 \nQ 46.96875 40.921875 40.578125 39.3125 \nz\n\" id=\"DejaVuSans-51\"/>\n      </defs>\n      <g transform=\"translate(402.66375 201.51625)scale(0.12 -0.12)\">\n       <use xlink:href=\"#DejaVuSans-51\"/>\n      </g>\n     </g>\n    </g>\n    <g id=\"xtick_8\">\n     <g id=\"text_8\">\n      <!-- 4 -->\n      <defs>\n       <path d=\"M 37.796875 64.3125 \nL 12.890625 25.390625 \nL 37.796875 25.390625 \nz\nM 35.203125 72.90625 \nL 47.609375 72.90625 \nL 47.609375 25.390625 \nL 58.015625 25.390625 \nL 58.015625 17.1875 \nL 47.609375 17.1875 \nL 47.609375 0 \nL 37.796875 0 \nL 37.796875 17.1875 \nL 4.890625 17.1875 \nL 4.890625 26.703125 \nz\n\" id=\"DejaVuSans-52\"/>\n      </defs>\n      <g transform=\"translate(458.46375 201.51625)scale(0.12 -0.12)\">\n       <use xlink:href=\"#DejaVuSans-52\"/>\n      </g>\n     </g>\n    </g>\n    <g id=\"text_9\">\n     <!-- Data point -->\n     <defs>\n      <path d=\"M 19.671875 64.796875 \nL 19.671875 8.109375 \nL 31.59375 8.109375 \nQ 46.6875 8.109375 53.6875 14.9375 \nQ 60.6875 21.78125 60.6875 36.53125 \nQ 60.6875 51.171875 53.6875 57.984375 \nQ 46.6875 64.796875 31.59375 64.796875 \nz\nM 9.8125 72.90625 \nL 30.078125 72.90625 \nQ 51.265625 72.90625 61.171875 64.09375 \nQ 71.09375 55.28125 71.09375 36.53125 \nQ 71.09375 17.671875 61.125 8.828125 \nQ 51.171875 0 30.078125 0 \nL 9.8125 0 \nz\n\" id=\"DejaVuSans-68\"/>\n      <path d=\"M 34.28125 27.484375 \nQ 23.390625 27.484375 19.1875 25 \nQ 14.984375 22.515625 14.984375 16.5 \nQ 14.984375 11.71875 18.140625 8.90625 \nQ 21.296875 6.109375 26.703125 6.109375 \nQ 34.1875 6.109375 38.703125 11.40625 \nQ 43.21875 16.703125 43.21875 25.484375 \nL 43.21875 27.484375 \nz\nM 52.203125 31.203125 \nL 52.203125 0 \nL 43.21875 0 \nL 43.21875 8.296875 \nQ 40.140625 3.328125 35.546875 0.953125 \nQ 30.953125 -1.421875 24.3125 -1.421875 \nQ 15.921875 -1.421875 10.953125 3.296875 \nQ 6 8.015625 6 15.921875 \nQ 6 25.140625 12.171875 29.828125 \nQ 18.359375 34.515625 30.609375 34.515625 \nL 43.21875 34.515625 \nL 43.21875 35.40625 \nQ 43.21875 41.609375 39.140625 45 \nQ 35.0625 48.390625 27.6875 48.390625 \nQ 23 48.390625 18.546875 47.265625 \nQ 14.109375 46.140625 10.015625 43.890625 \nL 10.015625 52.203125 \nQ 14.9375 54.109375 19.578125 55.046875 \nQ 24.21875 56 28.609375 56 \nQ 40.484375 56 46.34375 49.84375 \nQ 52.203125 43.703125 52.203125 31.203125 \nz\n\" id=\"DejaVuSans-97\"/>\n      <path d=\"M 18.3125 70.21875 \nL 18.3125 54.6875 \nL 36.8125 54.6875 \nL 36.8125 47.703125 \nL 18.3125 47.703125 \nL 18.3125 18.015625 \nQ 18.3125 11.328125 20.140625 9.421875 \nQ 21.96875 7.515625 27.59375 7.515625 \nL 36.8125 7.515625 \nL 36.8125 0 \nL 27.59375 0 \nQ 17.1875 0 13.234375 3.875 \nQ 9.28125 7.765625 9.28125 18.015625 \nL 9.28125 47.703125 \nL 2.6875 47.703125 \nL 2.6875 54.6875 \nL 9.28125 54.6875 \nL 9.28125 70.21875 \nz\n\" id=\"DejaVuSans-116\"/>\n      <path id=\"DejaVuSans-32\"/>\n      <path d=\"M 18.109375 8.203125 \nL 18.109375 -20.796875 \nL 9.078125 -20.796875 \nL 9.078125 54.6875 \nL 18.109375 54.6875 \nL 18.109375 46.390625 \nQ 20.953125 51.265625 25.265625 53.625 \nQ 29.59375 56 35.59375 56 \nQ 45.5625 56 51.78125 48.09375 \nQ 58.015625 40.1875 58.015625 27.296875 \nQ 58.015625 14.40625 51.78125 6.484375 \nQ 45.5625 -1.421875 35.59375 -1.421875 \nQ 29.59375 -1.421875 25.265625 0.953125 \nQ 20.953125 3.328125 18.109375 8.203125 \nz\nM 48.6875 27.296875 \nQ 48.6875 37.203125 44.609375 42.84375 \nQ 40.53125 48.484375 33.40625 48.484375 \nQ 26.265625 48.484375 22.1875 42.84375 \nQ 18.109375 37.203125 18.109375 27.296875 \nQ 18.109375 17.390625 22.1875 11.75 \nQ 26.265625 6.109375 33.40625 6.109375 \nQ 40.53125 6.109375 44.609375 11.75 \nQ 48.6875 17.390625 48.6875 27.296875 \nz\n\" id=\"DejaVuSans-112\"/>\n      <path d=\"M 30.609375 48.390625 \nQ 23.390625 48.390625 19.1875 42.75 \nQ 14.984375 37.109375 14.984375 27.296875 \nQ 14.984375 17.484375 19.15625 11.84375 \nQ 23.34375 6.203125 30.609375 6.203125 \nQ 37.796875 6.203125 41.984375 11.859375 \nQ 46.1875 17.53125 46.1875 27.296875 \nQ 46.1875 37.015625 41.984375 42.703125 \nQ 37.796875 48.390625 30.609375 48.390625 \nz\nM 30.609375 56 \nQ 42.328125 56 49.015625 48.375 \nQ 55.71875 40.765625 55.71875 27.296875 \nQ 55.71875 13.875 49.015625 6.21875 \nQ 42.328125 -1.421875 30.609375 -1.421875 \nQ 18.84375 -1.421875 12.171875 6.21875 \nQ 5.515625 13.875 5.515625 27.296875 \nQ 5.515625 40.765625 12.171875 48.375 \nQ 18.84375 56 30.609375 56 \nz\n\" id=\"DejaVuSans-111\"/>\n      <path d=\"M 9.421875 54.6875 \nL 18.40625 54.6875 \nL 18.40625 0 \nL 9.421875 0 \nz\nM 9.421875 75.984375 \nL 18.40625 75.984375 \nL 18.40625 64.59375 \nL 9.421875 64.59375 \nz\n\" id=\"DejaVuSans-105\"/>\n      <path d=\"M 54.890625 33.015625 \nL 54.890625 0 \nL 45.90625 0 \nL 45.90625 32.71875 \nQ 45.90625 40.484375 42.875 44.328125 \nQ 39.84375 48.1875 33.796875 48.1875 \nQ 26.515625 48.1875 22.3125 43.546875 \nQ 18.109375 38.921875 18.109375 30.90625 \nL 18.109375 0 \nL 9.078125 0 \nL 9.078125 54.6875 \nL 18.109375 54.6875 \nL 18.109375 46.1875 \nQ 21.34375 51.125 25.703125 53.5625 \nQ 30.078125 56 35.796875 56 \nQ 45.21875 56 50.046875 50.171875 \nQ 54.890625 44.34375 54.890625 33.015625 \nz\n\" id=\"DejaVuSans-110\"/>\n     </defs>\n     <g transform=\"translate(240.702344 215.610313)scale(0.1 -0.1)\">\n      <use xlink:href=\"#DejaVuSans-68\"/>\n      <use x=\"77.001953\" xlink:href=\"#DejaVuSans-97\"/>\n      <use x=\"138.28125\" xlink:href=\"#DejaVuSans-116\"/>\n      <use x=\"177.490234\" xlink:href=\"#DejaVuSans-97\"/>\n      <use x=\"238.769531\" xlink:href=\"#DejaVuSans-32\"/>\n      <use x=\"270.556641\" xlink:href=\"#DejaVuSans-112\"/>\n      <use x=\"334.033203\" xlink:href=\"#DejaVuSans-111\"/>\n      <use x=\"395.214844\" xlink:href=\"#DejaVuSans-105\"/>\n      <use x=\"422.998047\" xlink:href=\"#DejaVuSans-110\"/>\n      <use x=\"486.376953\" xlink:href=\"#DejaVuSans-116\"/>\n     </g>\n    </g>\n   </g>\n   <g id=\"matplotlib.axis_2\">\n    <g id=\"ytick_1\">\n     <g id=\"line2d_1\">\n      <defs>\n       <path d=\"M 0 0 \nL -3.5 0 \n\" id=\"m4a068e6b60\" style=\"stroke:#000000;stroke-width:0.8;\"/>\n      </defs>\n      <g>\n       <use style=\"stroke:#000000;stroke-width:0.8;\" x=\"43.78125\" xlink:href=\"#m4a068e6b60\" y=\"185.398125\"/>\n      </g>\n     </g>\n     <g id=\"text_10\">\n      <!-- 0.0 -->\n      <defs>\n       <path d=\"M 10.6875 12.40625 \nL 21 12.40625 \nL 21 0 \nL 10.6875 0 \nz\n\" id=\"DejaVuSans-46\"/>\n      </defs>\n      <g transform=\"translate(20.878125 189.197344)scale(0.1 -0.1)\">\n       <use xlink:href=\"#DejaVuSans-48\"/>\n       <use x=\"63.623047\" xlink:href=\"#DejaVuSans-46\"/>\n       <use x=\"95.410156\" xlink:href=\"#DejaVuSans-48\"/>\n      </g>\n     </g>\n    </g>\n    <g id=\"ytick_2\">\n     <g id=\"line2d_2\">\n      <g>\n       <use style=\"stroke:#000000;stroke-width:0.8;\" x=\"43.78125\" xlink:href=\"#m4a068e6b60\" y=\"162.895867\"/>\n      </g>\n     </g>\n     <g id=\"text_11\">\n      <!-- 0.5 -->\n      <g transform=\"translate(20.878125 166.695086)scale(0.1 -0.1)\">\n       <use xlink:href=\"#DejaVuSans-48\"/>\n       <use x=\"63.623047\" xlink:href=\"#DejaVuSans-46\"/>\n       <use x=\"95.410156\" xlink:href=\"#DejaVuSans-53\"/>\n      </g>\n     </g>\n    </g>\n    <g id=\"ytick_3\">\n     <g id=\"line2d_3\">\n      <g>\n       <use style=\"stroke:#000000;stroke-width:0.8;\" x=\"43.78125\" xlink:href=\"#m4a068e6b60\" y=\"140.393609\"/>\n      </g>\n     </g>\n     <g id=\"text_12\">\n      <!-- 1.0 -->\n      <g transform=\"translate(20.878125 144.192827)scale(0.1 -0.1)\">\n       <use xlink:href=\"#DejaVuSans-49\"/>\n       <use x=\"63.623047\" xlink:href=\"#DejaVuSans-46\"/>\n       <use x=\"95.410156\" xlink:href=\"#DejaVuSans-48\"/>\n      </g>\n     </g>\n    </g>\n    <g id=\"ytick_4\">\n     <g id=\"line2d_4\">\n      <g>\n       <use style=\"stroke:#000000;stroke-width:0.8;\" x=\"43.78125\" xlink:href=\"#m4a068e6b60\" y=\"117.89135\"/>\n      </g>\n     </g>\n     <g id=\"text_13\">\n      <!-- 1.5 -->\n      <g transform=\"translate(20.878125 121.690569)scale(0.1 -0.1)\">\n       <use xlink:href=\"#DejaVuSans-49\"/>\n       <use x=\"63.623047\" xlink:href=\"#DejaVuSans-46\"/>\n       <use x=\"95.410156\" xlink:href=\"#DejaVuSans-53\"/>\n      </g>\n     </g>\n    </g>\n    <g id=\"ytick_5\">\n     <g id=\"line2d_5\">\n      <g>\n       <use style=\"stroke:#000000;stroke-width:0.8;\" x=\"43.78125\" xlink:href=\"#m4a068e6b60\" y=\"95.389092\"/>\n      </g>\n     </g>\n     <g id=\"text_14\">\n      <!-- 2.0 -->\n      <g transform=\"translate(20.878125 99.188311)scale(0.1 -0.1)\">\n       <use xlink:href=\"#DejaVuSans-50\"/>\n       <use x=\"63.623047\" xlink:href=\"#DejaVuSans-46\"/>\n       <use x=\"95.410156\" xlink:href=\"#DejaVuSans-48\"/>\n      </g>\n     </g>\n    </g>\n    <g id=\"ytick_6\">\n     <g id=\"line2d_6\">\n      <g>\n       <use style=\"stroke:#000000;stroke-width:0.8;\" x=\"43.78125\" xlink:href=\"#m4a068e6b60\" y=\"72.886834\"/>\n      </g>\n     </g>\n     <g id=\"text_15\">\n      <!-- 2.5 -->\n      <g transform=\"translate(20.878125 76.686053)scale(0.1 -0.1)\">\n       <use xlink:href=\"#DejaVuSans-50\"/>\n       <use x=\"63.623047\" xlink:href=\"#DejaVuSans-46\"/>\n       <use x=\"95.410156\" xlink:href=\"#DejaVuSans-53\"/>\n      </g>\n     </g>\n    </g>\n    <g id=\"ytick_7\">\n     <g id=\"line2d_7\">\n      <g>\n       <use style=\"stroke:#000000;stroke-width:0.8;\" x=\"43.78125\" xlink:href=\"#m4a068e6b60\" y=\"50.384576\"/>\n      </g>\n     </g>\n     <g id=\"text_16\">\n      <!-- 3.0 -->\n      <g transform=\"translate(20.878125 54.183795)scale(0.1 -0.1)\">\n       <use xlink:href=\"#DejaVuSans-51\"/>\n       <use x=\"63.623047\" xlink:href=\"#DejaVuSans-46\"/>\n       <use x=\"95.410156\" xlink:href=\"#DejaVuSans-48\"/>\n      </g>\n     </g>\n    </g>\n    <g id=\"ytick_8\">\n     <g id=\"line2d_8\">\n      <g>\n       <use style=\"stroke:#000000;stroke-width:0.8;\" x=\"43.78125\" xlink:href=\"#m4a068e6b60\" y=\"27.882318\"/>\n      </g>\n     </g>\n     <g id=\"text_17\">\n      <!-- 3.5 -->\n      <g transform=\"translate(20.878125 31.681537)scale(0.1 -0.1)\">\n       <use xlink:href=\"#DejaVuSans-51\"/>\n       <use x=\"63.623047\" xlink:href=\"#DejaVuSans-46\"/>\n       <use x=\"95.410156\" xlink:href=\"#DejaVuSans-53\"/>\n      </g>\n     </g>\n    </g>\n    <g id=\"text_18\">\n     <!-- Distance -->\n     <defs>\n      <path d=\"M 44.28125 53.078125 \nL 44.28125 44.578125 \nQ 40.484375 46.53125 36.375 47.5 \nQ 32.28125 48.484375 27.875 48.484375 \nQ 21.1875 48.484375 17.84375 46.4375 \nQ 14.5 44.390625 14.5 40.28125 \nQ 14.5 37.15625 16.890625 35.375 \nQ 19.28125 33.59375 26.515625 31.984375 \nL 29.59375 31.296875 \nQ 39.15625 29.25 43.1875 25.515625 \nQ 47.21875 21.78125 47.21875 15.09375 \nQ 47.21875 7.46875 41.1875 3.015625 \nQ 35.15625 -1.421875 24.609375 -1.421875 \nQ 20.21875 -1.421875 15.453125 -0.5625 \nQ 10.6875 0.296875 5.421875 2 \nL 5.421875 11.28125 \nQ 10.40625 8.6875 15.234375 7.390625 \nQ 20.0625 6.109375 24.8125 6.109375 \nQ 31.15625 6.109375 34.5625 8.28125 \nQ 37.984375 10.453125 37.984375 14.40625 \nQ 37.984375 18.0625 35.515625 20.015625 \nQ 33.0625 21.96875 24.703125 23.78125 \nL 21.578125 24.515625 \nQ 13.234375 26.265625 9.515625 29.90625 \nQ 5.8125 33.546875 5.8125 39.890625 \nQ 5.8125 47.609375 11.28125 51.796875 \nQ 16.75 56 26.8125 56 \nQ 31.78125 56 36.171875 55.265625 \nQ 40.578125 54.546875 44.28125 53.078125 \nz\n\" id=\"DejaVuSans-115\"/>\n      <path d=\"M 48.78125 52.59375 \nL 48.78125 44.1875 \nQ 44.96875 46.296875 41.140625 47.34375 \nQ 37.3125 48.390625 33.40625 48.390625 \nQ 24.65625 48.390625 19.8125 42.84375 \nQ 14.984375 37.3125 14.984375 27.296875 \nQ 14.984375 17.28125 19.8125 11.734375 \nQ 24.65625 6.203125 33.40625 6.203125 \nQ 37.3125 6.203125 41.140625 7.25 \nQ 44.96875 8.296875 48.78125 10.40625 \nL 48.78125 2.09375 \nQ 45.015625 0.34375 40.984375 -0.53125 \nQ 36.96875 -1.421875 32.421875 -1.421875 \nQ 20.0625 -1.421875 12.78125 6.34375 \nQ 5.515625 14.109375 5.515625 27.296875 \nQ 5.515625 40.671875 12.859375 48.328125 \nQ 20.21875 56 33.015625 56 \nQ 37.15625 56 41.109375 55.140625 \nQ 45.0625 54.296875 48.78125 52.59375 \nz\n\" id=\"DejaVuSans-99\"/>\n      <path d=\"M 56.203125 29.59375 \nL 56.203125 25.203125 \nL 14.890625 25.203125 \nQ 15.484375 15.921875 20.484375 11.0625 \nQ 25.484375 6.203125 34.421875 6.203125 \nQ 39.59375 6.203125 44.453125 7.46875 \nQ 49.3125 8.734375 54.109375 11.28125 \nL 54.109375 2.78125 \nQ 49.265625 0.734375 44.1875 -0.34375 \nQ 39.109375 -1.421875 33.890625 -1.421875 \nQ 20.796875 -1.421875 13.15625 6.1875 \nQ 5.515625 13.8125 5.515625 26.8125 \nQ 5.515625 40.234375 12.765625 48.109375 \nQ 20.015625 56 32.328125 56 \nQ 43.359375 56 49.78125 48.890625 \nQ 56.203125 41.796875 56.203125 29.59375 \nz\nM 47.21875 32.234375 \nQ 47.125 39.59375 43.09375 43.984375 \nQ 39.0625 48.390625 32.421875 48.390625 \nQ 24.90625 48.390625 20.390625 44.140625 \nQ 15.875 39.890625 15.1875 32.171875 \nz\n\" id=\"DejaVuSans-101\"/>\n     </defs>\n     <g transform=\"translate(14.798438 125.720625)rotate(-90)scale(0.1 -0.1)\">\n      <use xlink:href=\"#DejaVuSans-68\"/>\n      <use x=\"77.001953\" xlink:href=\"#DejaVuSans-105\"/>\n      <use x=\"104.785156\" xlink:href=\"#DejaVuSans-115\"/>\n      <use x=\"156.884766\" xlink:href=\"#DejaVuSans-116\"/>\n      <use x=\"196.09375\" xlink:href=\"#DejaVuSans-97\"/>\n      <use x=\"257.373047\" xlink:href=\"#DejaVuSans-110\"/>\n      <use x=\"320.751953\" xlink:href=\"#DejaVuSans-99\"/>\n      <use x=\"375.732422\" xlink:href=\"#DejaVuSans-101\"/>\n     </g>\n    </g>\n   </g>\n   <g id=\"LineCollection_1\">\n    <path clip-path=\"url(#p6fdde63101)\" d=\"M 127.48125 185.398125 \nL 127.48125 174.007579 \nL 183.28125 174.007579 \nL 183.28125 185.398125 \n\" style=\"fill:none;stroke:#008000;stroke-width:1.5;\"/>\n    <path clip-path=\"url(#p6fdde63101)\" d=\"M 71.68125 185.398125 \nL 71.68125 167.983521 \nL 155.38125 167.983521 \nL 155.38125 174.007579 \n\" style=\"fill:none;stroke:#008000;stroke-width:1.5;\"/>\n   </g>\n   <g id=\"LineCollection_2\">\n    <path clip-path=\"url(#p6fdde63101)\" d=\"M 294.88125 185.398125 \nL 294.88125 171.512495 \nL 350.68125 171.512495 \nL 350.68125 185.398125 \n\" style=\"fill:none;stroke:#ff0000;stroke-width:1.5;\"/>\n    <path clip-path=\"url(#p6fdde63101)\" d=\"M 239.08125 185.398125 \nL 239.08125 163.35289 \nL 322.78125 163.35289 \nL 322.78125 171.512495 \n\" style=\"fill:none;stroke:#ff0000;stroke-width:1.5;\"/>\n   </g>\n   <g id=\"LineCollection_3\">\n    <path clip-path=\"url(#p6fdde63101)\" d=\"M 406.48125 185.398125 \nL 406.48125 152.412288 \nL 462.28125 152.412288 \nL 462.28125 185.398125 \n\" style=\"fill:none;stroke:#00bfbf;stroke-width:1.5;\"/>\n   </g>\n   <g id=\"LineCollection_4\">\n    <path clip-path=\"url(#p6fdde63101)\" d=\"M 280.93125 163.35289 \nL 280.93125 64.081853 \nL 434.38125 64.081853 \nL 434.38125 152.412288 \n\" style=\"fill:none;stroke:#0000ff;stroke-width:1.5;\"/>\n    <path clip-path=\"url(#p6fdde63101)\" d=\"M 113.53125 167.983521 \nL 113.53125 30.083839 \nL 357.65625 30.083839 \nL 357.65625 64.081853 \n\" style=\"fill:none;stroke:#0000ff;stroke-width:1.5;\"/>\n   </g>\n   <g id=\"line2d_9\">\n    <path clip-path=\"url(#p6fdde63101)\" d=\"M 43.78125 140.393609 \nL 490.18125 140.393609 \n\" style=\"fill:none;stroke:#000000;stroke-dasharray:1.85,0.8;stroke-dashoffset:0;stroke-width:0.5;\"/>\n   </g>\n   <g id=\"patch_3\">\n    <path d=\"M 43.78125 185.398125 \nL 43.78125 22.318125 \n\" style=\"fill:none;stroke:#000000;stroke-linecap:square;stroke-linejoin:miter;stroke-width:0.8;\"/>\n   </g>\n   <g id=\"patch_4\">\n    <path d=\"M 490.18125 185.398125 \nL 490.18125 22.318125 \n\" style=\"fill:none;stroke:#000000;stroke-linecap:square;stroke-linejoin:miter;stroke-width:0.8;\"/>\n   </g>\n   <g id=\"patch_5\">\n    <path d=\"M 43.78125 185.398125 \nL 490.18125 185.398125 \n\" style=\"fill:none;stroke:#000000;stroke-linecap:square;stroke-linejoin:miter;stroke-width:0.8;\"/>\n   </g>\n   <g id=\"patch_6\">\n    <path d=\"M 43.78125 22.318125 \nL 490.18125 22.318125 \n\" style=\"fill:none;stroke:#000000;stroke-linecap:square;stroke-linejoin:miter;stroke-width:0.8;\"/>\n   </g>\n   <g id=\"text_19\">\n    <!-- Hierarchical Clustering Dendrogram -->\n    <defs>\n     <path d=\"M 9.8125 72.90625 \nL 19.671875 72.90625 \nL 19.671875 43.015625 \nL 55.515625 43.015625 \nL 55.515625 72.90625 \nL 65.375 72.90625 \nL 65.375 0 \nL 55.515625 0 \nL 55.515625 34.71875 \nL 19.671875 34.71875 \nL 19.671875 0 \nL 9.8125 0 \nz\n\" id=\"DejaVuSans-72\"/>\n     <path d=\"M 41.109375 46.296875 \nQ 39.59375 47.171875 37.8125 47.578125 \nQ 36.03125 48 33.890625 48 \nQ 26.265625 48 22.1875 43.046875 \nQ 18.109375 38.09375 18.109375 28.8125 \nL 18.109375 0 \nL 9.078125 0 \nL 9.078125 54.6875 \nL 18.109375 54.6875 \nL 18.109375 46.1875 \nQ 20.953125 51.171875 25.484375 53.578125 \nQ 30.03125 56 36.53125 56 \nQ 37.453125 56 38.578125 55.875 \nQ 39.703125 55.765625 41.0625 55.515625 \nz\n\" id=\"DejaVuSans-114\"/>\n     <path d=\"M 54.890625 33.015625 \nL 54.890625 0 \nL 45.90625 0 \nL 45.90625 32.71875 \nQ 45.90625 40.484375 42.875 44.328125 \nQ 39.84375 48.1875 33.796875 48.1875 \nQ 26.515625 48.1875 22.3125 43.546875 \nQ 18.109375 38.921875 18.109375 30.90625 \nL 18.109375 0 \nL 9.078125 0 \nL 9.078125 75.984375 \nL 18.109375 75.984375 \nL 18.109375 46.1875 \nQ 21.34375 51.125 25.703125 53.5625 \nQ 30.078125 56 35.796875 56 \nQ 45.21875 56 50.046875 50.171875 \nQ 54.890625 44.34375 54.890625 33.015625 \nz\n\" id=\"DejaVuSans-104\"/>\n     <path d=\"M 9.421875 75.984375 \nL 18.40625 75.984375 \nL 18.40625 0 \nL 9.421875 0 \nz\n\" id=\"DejaVuSans-108\"/>\n     <path d=\"M 64.40625 67.28125 \nL 64.40625 56.890625 \nQ 59.421875 61.53125 53.78125 63.8125 \nQ 48.140625 66.109375 41.796875 66.109375 \nQ 29.296875 66.109375 22.65625 58.46875 \nQ 16.015625 50.828125 16.015625 36.375 \nQ 16.015625 21.96875 22.65625 14.328125 \nQ 29.296875 6.6875 41.796875 6.6875 \nQ 48.140625 6.6875 53.78125 8.984375 \nQ 59.421875 11.28125 64.40625 15.921875 \nL 64.40625 5.609375 \nQ 59.234375 2.09375 53.4375 0.328125 \nQ 47.65625 -1.421875 41.21875 -1.421875 \nQ 24.65625 -1.421875 15.125 8.703125 \nQ 5.609375 18.84375 5.609375 36.375 \nQ 5.609375 53.953125 15.125 64.078125 \nQ 24.65625 74.21875 41.21875 74.21875 \nQ 47.75 74.21875 53.53125 72.484375 \nQ 59.328125 70.75 64.40625 67.28125 \nz\n\" id=\"DejaVuSans-67\"/>\n     <path d=\"M 8.5 21.578125 \nL 8.5 54.6875 \nL 17.484375 54.6875 \nL 17.484375 21.921875 \nQ 17.484375 14.15625 20.5 10.265625 \nQ 23.53125 6.390625 29.59375 6.390625 \nQ 36.859375 6.390625 41.078125 11.03125 \nQ 45.3125 15.671875 45.3125 23.6875 \nL 45.3125 54.6875 \nL 54.296875 54.6875 \nL 54.296875 0 \nL 45.3125 0 \nL 45.3125 8.40625 \nQ 42.046875 3.421875 37.71875 1 \nQ 33.40625 -1.421875 27.6875 -1.421875 \nQ 18.265625 -1.421875 13.375 4.4375 \nQ 8.5 10.296875 8.5 21.578125 \nz\nM 31.109375 56 \nz\n\" id=\"DejaVuSans-117\"/>\n     <path d=\"M 45.40625 27.984375 \nQ 45.40625 37.75 41.375 43.109375 \nQ 37.359375 48.484375 30.078125 48.484375 \nQ 22.859375 48.484375 18.828125 43.109375 \nQ 14.796875 37.75 14.796875 27.984375 \nQ 14.796875 18.265625 18.828125 12.890625 \nQ 22.859375 7.515625 30.078125 7.515625 \nQ 37.359375 7.515625 41.375 12.890625 \nQ 45.40625 18.265625 45.40625 27.984375 \nz\nM 54.390625 6.78125 \nQ 54.390625 -7.171875 48.1875 -13.984375 \nQ 42 -20.796875 29.203125 -20.796875 \nQ 24.46875 -20.796875 20.265625 -20.09375 \nQ 16.0625 -19.390625 12.109375 -17.921875 \nL 12.109375 -9.1875 \nQ 16.0625 -11.328125 19.921875 -12.34375 \nQ 23.78125 -13.375 27.78125 -13.375 \nQ 36.625 -13.375 41.015625 -8.765625 \nQ 45.40625 -4.15625 45.40625 5.171875 \nL 45.40625 9.625 \nQ 42.625 4.78125 38.28125 2.390625 \nQ 33.9375 0 27.875 0 \nQ 17.828125 0 11.671875 7.65625 \nQ 5.515625 15.328125 5.515625 27.984375 \nQ 5.515625 40.671875 11.671875 48.328125 \nQ 17.828125 56 27.875 56 \nQ 33.9375 56 38.28125 53.609375 \nQ 42.625 51.21875 45.40625 46.390625 \nL 45.40625 54.6875 \nL 54.390625 54.6875 \nz\n\" id=\"DejaVuSans-103\"/>\n     <path d=\"M 45.40625 46.390625 \nL 45.40625 75.984375 \nL 54.390625 75.984375 \nL 54.390625 0 \nL 45.40625 0 \nL 45.40625 8.203125 \nQ 42.578125 3.328125 38.25 0.953125 \nQ 33.9375 -1.421875 27.875 -1.421875 \nQ 17.96875 -1.421875 11.734375 6.484375 \nQ 5.515625 14.40625 5.515625 27.296875 \nQ 5.515625 40.1875 11.734375 48.09375 \nQ 17.96875 56 27.875 56 \nQ 33.9375 56 38.25 53.625 \nQ 42.578125 51.265625 45.40625 46.390625 \nz\nM 14.796875 27.296875 \nQ 14.796875 17.390625 18.875 11.75 \nQ 22.953125 6.109375 30.078125 6.109375 \nQ 37.203125 6.109375 41.296875 11.75 \nQ 45.40625 17.390625 45.40625 27.296875 \nQ 45.40625 37.203125 41.296875 42.84375 \nQ 37.203125 48.484375 30.078125 48.484375 \nQ 22.953125 48.484375 18.875 42.84375 \nQ 14.796875 37.203125 14.796875 27.296875 \nz\n\" id=\"DejaVuSans-100\"/>\n     <path d=\"M 52 44.1875 \nQ 55.375 50.25 60.0625 53.125 \nQ 64.75 56 71.09375 56 \nQ 79.640625 56 84.28125 50.015625 \nQ 88.921875 44.046875 88.921875 33.015625 \nL 88.921875 0 \nL 79.890625 0 \nL 79.890625 32.71875 \nQ 79.890625 40.578125 77.09375 44.375 \nQ 74.3125 48.1875 68.609375 48.1875 \nQ 61.625 48.1875 57.5625 43.546875 \nQ 53.515625 38.921875 53.515625 30.90625 \nL 53.515625 0 \nL 44.484375 0 \nL 44.484375 32.71875 \nQ 44.484375 40.625 41.703125 44.40625 \nQ 38.921875 48.1875 33.109375 48.1875 \nQ 26.21875 48.1875 22.15625 43.53125 \nQ 18.109375 38.875 18.109375 30.90625 \nL 18.109375 0 \nL 9.078125 0 \nL 9.078125 54.6875 \nL 18.109375 54.6875 \nL 18.109375 46.1875 \nQ 21.1875 51.21875 25.484375 53.609375 \nQ 29.78125 56 35.6875 56 \nQ 41.65625 56 45.828125 52.96875 \nQ 50 49.953125 52 44.1875 \nz\n\" id=\"DejaVuSans-109\"/>\n    </defs>\n    <g transform=\"translate(159.113437 16.318125)scale(0.12 -0.12)\">\n     <use xlink:href=\"#DejaVuSans-72\"/>\n     <use x=\"75.195312\" xlink:href=\"#DejaVuSans-105\"/>\n     <use x=\"102.978516\" xlink:href=\"#DejaVuSans-101\"/>\n     <use x=\"164.501953\" xlink:href=\"#DejaVuSans-114\"/>\n     <use x=\"205.615234\" xlink:href=\"#DejaVuSans-97\"/>\n     <use x=\"266.894531\" xlink:href=\"#DejaVuSans-114\"/>\n     <use x=\"305.757812\" xlink:href=\"#DejaVuSans-99\"/>\n     <use x=\"360.738281\" xlink:href=\"#DejaVuSans-104\"/>\n     <use x=\"424.117188\" xlink:href=\"#DejaVuSans-105\"/>\n     <use x=\"451.900391\" xlink:href=\"#DejaVuSans-99\"/>\n     <use x=\"506.880859\" xlink:href=\"#DejaVuSans-97\"/>\n     <use x=\"568.160156\" xlink:href=\"#DejaVuSans-108\"/>\n     <use x=\"595.943359\" xlink:href=\"#DejaVuSans-32\"/>\n     <use x=\"627.730469\" xlink:href=\"#DejaVuSans-67\"/>\n     <use x=\"697.554688\" xlink:href=\"#DejaVuSans-108\"/>\n     <use x=\"725.337891\" xlink:href=\"#DejaVuSans-117\"/>\n     <use x=\"788.716797\" xlink:href=\"#DejaVuSans-115\"/>\n     <use x=\"840.816406\" xlink:href=\"#DejaVuSans-116\"/>\n     <use x=\"880.025391\" xlink:href=\"#DejaVuSans-101\"/>\n     <use x=\"941.548828\" xlink:href=\"#DejaVuSans-114\"/>\n     <use x=\"982.662109\" xlink:href=\"#DejaVuSans-105\"/>\n     <use x=\"1010.445312\" xlink:href=\"#DejaVuSans-110\"/>\n     <use x=\"1073.824219\" xlink:href=\"#DejaVuSans-103\"/>\n     <use x=\"1137.300781\" xlink:href=\"#DejaVuSans-32\"/>\n     <use x=\"1169.087891\" xlink:href=\"#DejaVuSans-68\"/>\n     <use x=\"1246.089844\" xlink:href=\"#DejaVuSans-101\"/>\n     <use x=\"1307.613281\" xlink:href=\"#DejaVuSans-110\"/>\n     <use x=\"1370.992188\" xlink:href=\"#DejaVuSans-100\"/>\n     <use x=\"1434.46875\" xlink:href=\"#DejaVuSans-114\"/>\n     <use x=\"1473.332031\" xlink:href=\"#DejaVuSans-111\"/>\n     <use x=\"1534.513672\" xlink:href=\"#DejaVuSans-103\"/>\n     <use x=\"1597.990234\" xlink:href=\"#DejaVuSans-114\"/>\n     <use x=\"1639.103516\" xlink:href=\"#DejaVuSans-97\"/>\n     <use x=\"1700.382812\" xlink:href=\"#DejaVuSans-109\"/>\n    </g>\n   </g>\n  </g>\n </g>\n <defs>\n  <clipPath id=\"p6fdde63101\">\n   <rect height=\"163.08\" width=\"446.4\" x=\"43.78125\" y=\"22.318125\"/>\n  </clipPath>\n </defs>\n</svg>\n",
      "image/png": "[encoded data removed]"
     },
     "metadata": {
      "needs_background": "light"
     }
    }
   ],
   "source": [
    "plt.figure(figsize=(8,3))\n",
    "plt.title('Hierarchical Clustering Dendrogram')\n",
    "plt.xlabel('Data point')\n",
    "plt.ylabel('Distance')\n",
    "dendrogram(Z)\n",
    "plt.axhline(y=1.0, c='k', ls='--', lw=0.5)"
   ]
  },
  {
   "cell_type": "code",
   "execution_count": 29,
   "metadata": {},
   "outputs": [
    {
     "output_type": "execute_result",
     "data": {
      "text/plain": "                                                             Document  \\\n0                                      The sky is blue and beautiful.   \n1                                   Love this blue and beautiful sky!   \n2                        The quick brown fox jumps over the lazy dog.   \n3  A king's breakfast has sausages, ham, bacon, eggs, toast and beans   \n4                        I love green eggs, ham, sausages, and bacon!   \n5                    The brown fox is quick and the blue dog is lazy!   \n6            The sky is very blue and the sky is very beautiful today   \n7                         The dog is lazy but the brown fox is quick!   \n\n  Category  ClusterLabel  \n0  weather             2  \n1  weather             2  \n2  animals             1  \n3     food             3  \n4     food             3  \n5  animals             1  \n6  weather             2  \n7  animals             1  ",
      "text/html": "<div>\n<style scoped>\n    .dataframe tbody tr th:only-of-type {\n        vertical-align: middle;\n    }\n\n    .dataframe tbody tr th {\n        vertical-align: top;\n    }\n\n    .dataframe thead th {\n        text-align: right;\n    }\n</style>\n<table border=\"1\" class=\"dataframe\">\n  <thead>\n    <tr style=\"text-align: right;\">\n      <th></th>\n      <th>Document</th>\n      <th>Category</th>\n      <th>ClusterLabel</th>\n    </tr>\n  </thead>\n  <tbody>\n    <tr>\n      <th>0</th>\n      <td>The sky is blue and beautiful.</td>\n      <td>weather</td>\n      <td>2</td>\n    </tr>\n    <tr>\n      <th>1</th>\n      <td>Love this blue and beautiful sky!</td>\n      <td>weather</td>\n      <td>2</td>\n    </tr>\n    <tr>\n      <th>2</th>\n      <td>The quick brown fox jumps over the lazy dog.</td>\n      <td>animals</td>\n      <td>1</td>\n    </tr>\n    <tr>\n      <th>3</th>\n      <td>A king's breakfast has sausages, ham, bacon, eggs, toast and beans</td>\n      <td>food</td>\n      <td>3</td>\n    </tr>\n    <tr>\n      <th>4</th>\n      <td>I love green eggs, ham, sausages, and bacon!</td>\n      <td>food</td>\n      <td>3</td>\n    </tr>\n    <tr>\n      <th>5</th>\n      <td>The brown fox is quick and the blue dog is lazy!</td>\n      <td>animals</td>\n      <td>1</td>\n    </tr>\n    <tr>\n      <th>6</th>\n      <td>The sky is very blue and the sky is very beautiful today</td>\n      <td>weather</td>\n      <td>2</td>\n    </tr>\n    <tr>\n      <th>7</th>\n      <td>The dog is lazy but the brown fox is quick!</td>\n      <td>animals</td>\n      <td>1</td>\n    </tr>\n  </tbody>\n</table>\n</div>"
     },
     "metadata": {},
     "execution_count": 29
    }
   ],
   "source": [
    "from scipy.cluster.hierarchy import fcluster\n",
    "max_dist = 1.0\n",
    "\n",
    "cluster_labels = fcluster(Z, max_dist, criterion='distance')\n",
    "cluster_labels = pd.DataFrame(cluster_labels, columns=['ClusterLabel'])\n",
    "pd.concat([corpus_df, cluster_labels], axis=1)"
   ]
  },
  {
   "cell_type": "markdown",
   "metadata": {},
   "source": [
    "## Topic Models\n",
    "* use some summarization techniques to extract topic or concept based features from text doc\n",
    "* extract key themes or concepts from a corpus of docs represented as topics\n",
    "* each topic represented as a collection of words or terms from doc corpus\n",
    "* together terms signify a specific topic, theme, or concept and each topic can be easily distinguished from other topics by virtue of semantic meaning conveyed by these terms\n",
    "* do end up with overlapping topics based on data\n",
    "* topic models useful in summarizing large corpus of text docs to extract and depict key concepts\n",
    "* also useful in extracting features from text data that capture latent patterns in the data\n",
    "* various techniques for topic modeling, but most involve a form of matrix decomposition\n",
    "    - EXs\n",
    "        1. Latent Semantic Indexing (LSI): uses Singular Valued Decomposition\n",
    "        2. Latent Dirichlet Allocation (LDA): uses generative probabilistic model where each document consists of a combination of several topics and each term or word can be assigned to a specific topic;\n",
    "* after running algorithm for several iterations, should have topic mixtures for each document\n",
    "* then generate constituents of each topic from terms that point to that topic\n",
    "* remember when LDA is applied to a document-term matrix (TF-IDF or BOW feature matrix), it's broken down into two main components:\n",
    "    1. document topic matrix: feature matrix we're looking for\n",
    "    2. topic-term matrix: helps us look at potential topics in the corpus"
   ]
  },
  {
   "cell_type": "code",
   "execution_count": 30,
   "metadata": {},
   "outputs": [
    {
     "output_type": "execute_result",
     "data": {
      "text/plain": "         T1        T2        T3\n0  0.832191  0.083480  0.084329\n1  0.863554  0.069100  0.067346\n2  0.047794  0.047776  0.904430\n3  0.037243  0.925559  0.037198\n4  0.049121  0.903076  0.047802\n5  0.054902  0.047778  0.897321\n6  0.888287  0.055697  0.056016\n7  0.055704  0.055689  0.888607",
      "text/html": "<div>\n<style scoped>\n    .dataframe tbody tr th:only-of-type {\n        vertical-align: middle;\n    }\n\n    .dataframe tbody tr th {\n        vertical-align: top;\n    }\n\n    .dataframe thead th {\n        text-align: right;\n    }\n</style>\n<table border=\"1\" class=\"dataframe\">\n  <thead>\n    <tr style=\"text-align: right;\">\n      <th></th>\n      <th>T1</th>\n      <th>T2</th>\n      <th>T3</th>\n    </tr>\n  </thead>\n  <tbody>\n    <tr>\n      <th>0</th>\n      <td>0.832191</td>\n      <td>0.083480</td>\n      <td>0.084329</td>\n    </tr>\n    <tr>\n      <th>1</th>\n      <td>0.863554</td>\n      <td>0.069100</td>\n      <td>0.067346</td>\n    </tr>\n    <tr>\n      <th>2</th>\n      <td>0.047794</td>\n      <td>0.047776</td>\n      <td>0.904430</td>\n    </tr>\n    <tr>\n      <th>3</th>\n      <td>0.037243</td>\n      <td>0.925559</td>\n      <td>0.037198</td>\n    </tr>\n    <tr>\n      <th>4</th>\n      <td>0.049121</td>\n      <td>0.903076</td>\n      <td>0.047802</td>\n    </tr>\n    <tr>\n      <th>5</th>\n      <td>0.054902</td>\n      <td>0.047778</td>\n      <td>0.897321</td>\n    </tr>\n    <tr>\n      <th>6</th>\n      <td>0.888287</td>\n      <td>0.055697</td>\n      <td>0.056016</td>\n    </tr>\n    <tr>\n      <th>7</th>\n      <td>0.055704</td>\n      <td>0.055689</td>\n      <td>0.888607</td>\n    </tr>\n  </tbody>\n</table>\n</div>"
     },
     "metadata": {},
     "execution_count": 30
    }
   ],
   "source": [
    "from sklearn.decomposition import LatentDirichletAllocation\n",
    "\n",
    "lda = LatentDirichletAllocation(n_components=3, max_iter=10000, random_state=0)\n",
    "dt_matrix = lda.fit_transform(cv_matrix)\n",
    "features = pd.DataFrame(dt_matrix, columns=['T1', 'T2', 'T3'])\n",
    "features"
   ]
  },
  {
   "cell_type": "code",
   "execution_count": 31,
   "metadata": {},
   "outputs": [
    {
     "output_type": "stream",
     "name": "stdout",
     "text": "[('sky', 4.332439442470133), ('blue', 3.373774254787669), ('beautiful', 3.3323650509884386), ('today', 1.3325579855138987), ('love', 1.330415818217548)]\n\n[('bacon', 2.33269586574902), ('eggs', 2.33269586574902), ('ham', 2.33269586574902), ('sausages', 2.33269586574902), ('love', 1.3354610533796558), ('beans', 1.3327735190105536), ('breakfast', 1.3327735190105536), ('kings', 1.3327735190105536), ('toast', 1.3327735190105536), ('green', 1.3325431515674175)]\n\n[('brown', 3.3323473548404405), ('dog', 3.3323473548404405), ('fox', 3.3323473548404405), ('lazy', 3.3323473548404405), ('quick', 3.3323473548404405), ('jumps', 1.3324193772908193), ('blue', 1.2919423137963386)]\n\n"
    }
   ],
   "source": [
    "tt_matrix = lda.components_\n",
    "for topic_weights in tt_matrix:\n",
    "    topic = [(token, weight) for token, weight in zip(vocab, topic_weights)]\n",
    "    topic = sorted(topic, key=lambda x: -x[1])\n",
    "    topic = [item for item in topic if item[1] > 0.6]\n",
    "    print(topic)\n",
    "    print()"
   ]
  },
  {
   "cell_type": "code",
   "execution_count": null,
   "metadata": {},
   "outputs": [],
   "source": []
  }
 ]
}