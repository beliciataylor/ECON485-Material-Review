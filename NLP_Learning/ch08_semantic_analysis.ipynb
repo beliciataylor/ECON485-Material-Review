{
 "cells": [
  {
   "cell_type": "markdown",
   "metadata": {},
   "source": [
    "# Semantic Analysis\n",
    "* Exploring WordNet\n",
    "    1. Understanding Synsets\n",
    "    2. Analyzing Lexical Semantic Relationships\n",
    "* Word Sense Disambiguity\n",
    "* Named Entity Recognition\n",
    "* Building an NER Tagger from Scratch\n",
    "* Building an End-to-End NER Tagger with Our Trained NER Model\n",
    "* Analyzing Semantic Representations\n",
    "    1. Propositional Logic\n",
    "    2. First Order Logic"
   ]
  },
  {
   "cell_type": "code",
   "execution_count": null,
   "metadata": {},
   "outputs": [],
   "source": []
  }
 ],
 "metadata": {
  "kernelspec": {
   "display_name": "Python 3.6 - AzureML",
   "language": "python",
   "name": "python3-azureml"
  },
  "language_info": {
   "codemirror_mode": {
    "name": "ipython",
    "version": 3
   },
   "file_extension": ".py",
   "mimetype": "text/x-python",
   "name": "python",
   "nbconvert_exporter": "python",
   "pygments_lexer": "ipython3",
   "version": "3.6.9"
  }
 },
 "nbformat": 4,
 "nbformat_minor": 4
}
