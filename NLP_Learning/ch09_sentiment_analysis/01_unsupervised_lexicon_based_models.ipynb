{
 "cells": [
  {
   "cell_type": "markdown",
   "metadata": {},
   "source": [
    "# Unsupervised Lexicon-Based Models"
   ]
  },
  {
   "cell_type": "code",
   "execution_count": 1,
   "metadata": {},
   "outputs": [],
   "source": [
    "import pandas as pd\n",
    "import numpy as np\n",
    "import handmade.text_normalizer as tn\n",
    "import handmade.model_evaluation_utils as meu\n",
    "\n",
    "np.set_printoptions(precision=2, linewidth=80)\n",
    "\n",
    "# import dataset\n",
    "dataset = pd.read_csv('data/movie_reviews.csv')\n",
    "reviews = np.array(dataset['review'])\n",
    "sentiments = np.array(dataset['sentiment'])\n",
    "\n",
    "# extract data for model evaluation\n",
    "test_reviews = reviews[35000:]\n",
    "test_sentiments = sentiments[35000:]\n",
    "sample_review_ids = [7626, 3533, 13010]"
   ]
  },
  {
   "cell_type": "markdown",
   "metadata": {},
   "source": [
    "## TextBlob Lexicon"
   ]
  },
  {
   "cell_type": "code",
   "execution_count": 2,
   "metadata": {},
   "outputs": [
    {
     "output_type": "stream",
     "name": "stdout",
     "text": "REVIEW: no comment - stupid movie, acting average or worse... screenplay - no sense at all... SKIP IT!\nActual Sentiment: negative\nPredicted Sentiment polarity: -0.3625\n------------------------------------------------------------\nREVIEW: I don't care if some people voted this movie to be bad. If you want the Truth this is a Very Good Movie! It has every thing a movie should have. You really should Get this one.\nActual Sentiment: positive\nPredicted Sentiment polarity: 0.16666666666666674\n------------------------------------------------------------\nREVIEW: Worst horror film ever but funniest film ever rolled in one you have got to see this film it is so cheap it is unbeliaveble but you have to see it really!!!! P.s watch the carrot\nActual Sentiment: positive\nPredicted Sentiment polarity: -0.037239583333333326\n------------------------------------------------------------\n"
    }
   ],
   "source": [
    "import textblob\n",
    "\n",
    "for review, sentiment in zip(test_reviews[sample_review_ids], test_sentiments[sample_review_ids]):\n",
    "    print('REVIEW:', review)\n",
    "    print('Actual Sentiment:', sentiment)\n",
    "    print('Predicted Sentiment polarity:', textblob.TextBlob(review).sentiment.polarity)\n",
    "    print('-'*60)"
   ]
  },
  {
   "cell_type": "code",
   "execution_count": 3,
   "metadata": {},
   "outputs": [
    {
     "output_type": "stream",
     "name": "stdout",
     "text": "Model Performance metrics:\n------------------------------\nAccuracy: 0.7669\nPrecision: 0.767\nRecall: 0.7669\nF1 Score: 0.7668\n\nModel Classification report:\n------------------------------\n              precision    recall  f1-score   support\n\n    positive       0.76      0.78      0.77      7510\n    negative       0.77      0.76      0.76      7490\n\n    accuracy                           0.77     15000\n   macro avg       0.77      0.77      0.77     15000\nweighted avg       0.77      0.77      0.77     15000\n\n\nPrediction Confusion Matrix:\n------------------------------\n                 Predicted:         \n                   positive negative\nActual: positive       5835     1675\n        negative       1822     5668\n"
    }
   ],
   "source": [
    "sentiment_polarity = [textblob.TextBlob(review).sentiment.polarity for review in test_reviews]\n",
    "predicted_sentiments = ['positive' if score >= 0.1 else 'negative' \n",
    "                            for score in sentiment_polarity]\n",
    "meu.display_model_performance_metrics(true_labels=test_sentiments, predicted_labels=predicted_sentiments, classes=['positive', 'negative'])"
   ]
  },
  {
   "cell_type": "markdown",
   "metadata": {},
   "source": [
    "## AFINN Lexicon"
   ]
  },
  {
   "cell_type": "code",
   "execution_count": 4,
   "metadata": {},
   "outputs": [
    {
     "output_type": "stream",
     "name": "stdout",
     "text": "REVIEW: no comment - stupid movie, acting average or worse... screenplay - no sense at all... SKIP IT!\nActual Sentiment: negative\nPredicted Sentiment polarity: -7.0\n------------------------------------------------------------\nREVIEW: I don't care if some people voted this movie to be bad. If you want the Truth this is a Very Good Movie! It has every thing a movie should have. You really should Get this one.\nActual Sentiment: positive\nPredicted Sentiment polarity: 3.0\n------------------------------------------------------------\nREVIEW: Worst horror film ever but funniest film ever rolled in one you have got to see this film it is so cheap it is unbeliaveble but you have to see it really!!!! P.s watch the carrot\nActual Sentiment: positive\nPredicted Sentiment polarity: -3.0\n------------------------------------------------------------\n"
    }
   ],
   "source": [
    "from afinn import Afinn\n",
    "\n",
    "afn = Afinn(emoticons=True)\n",
    "\n",
    "# compute polarity of chosen four sample reviews\n",
    "for review, sentiment in zip(test_reviews[sample_review_ids], test_sentiments[sample_review_ids]):\n",
    "    print('REVIEW:', review)\n",
    "    print('Actual Sentiment:', sentiment)\n",
    "    print('Predicted Sentiment polarity:', afn.score(review))\n",
    "    print('-'*60)"
   ]
  },
  {
   "cell_type": "code",
   "execution_count": 5,
   "metadata": {},
   "outputs": [
    {
     "output_type": "stream",
     "name": "stdout",
     "text": "Model Performance metrics:\n------------------------------\nAccuracy: 0.7118\nPrecision: 0.7289\nRecall: 0.7118\nF1 Score: 0.7062\n\nModel Classification report:\n------------------------------\n              precision    recall  f1-score   support\n\n    positive       0.67      0.85      0.75      7510\n    negative       0.79      0.57      0.67      7490\n\n    accuracy                           0.71     15000\n   macro avg       0.73      0.71      0.71     15000\nweighted avg       0.73      0.71      0.71     15000\n\n\nPrediction Confusion Matrix:\n------------------------------\n                 Predicted:         \n                   positive negative\nActual: positive       6376     1134\n        negative       3189     4301\n"
    }
   ],
   "source": [
    "# predict sentiment on complete test dataset\n",
    "sentiment_polarity = [afn.score(review) for review in test_reviews]\n",
    "predicted_sentiments = ['positive' if score >= 1.0 else 'negative' for score in sentiment_polarity]\n",
    "\n",
    "# evaluate model performance using utility function\n",
    "meu.display_model_performance_metrics(true_labels=test_sentiments, predicted_labels=predicted_sentiments, classes=['positive', 'negative'])"
   ]
  },
  {
   "cell_type": "markdown",
   "metadata": {},
   "source": [
    "## SentiWordNet Lexicon"
   ]
  },
  {
   "cell_type": "code",
   "execution_count": 6,
   "metadata": {},
   "outputs": [
    {
     "output_type": "stream",
     "name": "stdout",
     "text": "Positive Polarity Score: 0.875\nNegative Polarity Score: 0.125\nObjective Score: 0.0\n"
    }
   ],
   "source": [
    "from nltk.corpus import sentiwordnet as swn\n",
    "\n",
    "awesome = list(swn.senti_synsets('awesome', 'a'))[0]\n",
    "print('Positive Polarity Score:', awesome.pos_score())\n",
    "print('Negative Polarity Score:', awesome.neg_score())\n",
    "print('Objective Score:', awesome.obj_score())"
   ]
  },
  {
   "cell_type": "code",
   "execution_count": 7,
   "metadata": {},
   "outputs": [],
   "source": [
    "def analyze_sentiment_sentiwordnet_lexicon(review, verbose=False):\n",
    "    # tokenize and POS tag text tokens\n",
    "    tagged_text = [(token.text, token.tag_) for token in tn.nlp(review)]\n",
    "    pos_score = neg_score = token_count = obj_score = 0\n",
    "    # get wordnet synsets based on POS tags\n",
    "    # get sentiment scores if synsets are found\n",
    "    for word, tag in tagged_text:\n",
    "        ss_set = None\n",
    "        if 'NN' in tag and list(swn.senti_synsets(word, 'n')):\n",
    "            ss_set = list(swn.senti_synsets(word, 'n'))[0]\n",
    "        elif 'VB' in tag and list(swn.senti_synsets(word, 'v')):\n",
    "            ss_set = list(swn.senti_synsets(word, 'v'))[0]\n",
    "        elif 'JJ' in tag and list(swn.senti_synsets(word, 'a')):\n",
    "            ss_set = list(swn.senti_synsets(word, 'a'))[0]\n",
    "        elif 'RB' in tag and list(swn.senti_synsets(word, 'r')):\n",
    "            ss_set = list(swn.senti_synsets(word, 'r'))[0]\n",
    "        # if senti-synset if found\n",
    "        if ss_set:\n",
    "            # add scores for all found synsets\n",
    "            pos_score += ss_set.pos_score()\n",
    "            neg_score += ss_set.neg_score()\n",
    "            obj_score += ss_set.obj_score()\n",
    "            token_count += 1\n",
    "    # aggregate final score\n",
    "    final_score = pos_score - neg_score\n",
    "    norm_final_score = round(float(final_score) / token_count, 2)\n",
    "    final_sentiment = 'positive' if norm_final_score >= 0 else 'negative'\n",
    "    if verbose:\n",
    "        norm_obj_score = round(float(obj_score) / token_count, 2)\n",
    "        norm_pos_score = round(float(pos_score) / token_count, 2)\n",
    "        norm_neg_score = round(float(neg_score) / token_count, 2)\n",
    "        # to display results in a nice table\n",
    "        sentiment_frame = pd.DataFrame([[final_sentiment, norm_obj_score, norm_pos_score, \n",
    "                                         norm_neg_score, norm_final_score]], \n",
    "            columns=pd.MultiIndex(levels=[['SENTIMENT STATS:'], ['Predicted Sentiment', 'Objectivity', \n",
    "                                                                 'Positive', 'Negative', 'Overall']], \n",
    "                                  codes=[[0,0,0,0,0], [0,1,2,3,4]]))\n",
    "        print(sentiment_frame)\n",
    "    return final_sentiment"
   ]
  },
  {
   "cell_type": "code",
   "execution_count": 8,
   "metadata": {},
   "outputs": [
    {
     "output_type": "stream",
     "name": "stdout",
     "text": "REVIEW: no comment - stupid movie, acting average or worse... screenplay - no sense at all... SKIP IT!\nActual Sentiment: negative\n     SENTIMENT STATS:                                      \n  Predicted Sentiment Objectivity Positive Negative Overall\n0            negative        0.74      0.1     0.17   -0.07\n------------------------------------------------------------\nREVIEW: I don't care if some people voted this movie to be bad. If you want the Truth this is a Very Good Movie! It has every thing a movie should have. You really should Get this one.\nActual Sentiment: positive\n     SENTIMENT STATS:                                      \n  Predicted Sentiment Objectivity Positive Negative Overall\n0            positive        0.74      0.2     0.06    0.14\n------------------------------------------------------------\nREVIEW: Worst horror film ever but funniest film ever rolled in one you have got to see this film it is so cheap it is unbeliaveble but you have to see it really!!!! P.s watch the carrot\nActual Sentiment: positive\n     SENTIMENT STATS:                                      \n  Predicted Sentiment Objectivity Positive Negative Overall\n0            positive        0.81     0.12     0.07    0.05\n------------------------------------------------------------\n"
    }
   ],
   "source": [
    "for review, sentiment in zip(test_reviews[sample_review_ids], test_sentiments[sample_review_ids]):\n",
    "    print('REVIEW:', review)\n",
    "    print('Actual Sentiment:', sentiment)\n",
    "    pred = analyze_sentiment_sentiwordnet_lexicon(review, verbose=True)\n",
    "    print('-'*60)"
   ]
  },
  {
   "cell_type": "code",
   "execution_count": 9,
   "metadata": {},
   "outputs": [
    {
     "output_type": "stream",
     "name": "stdout",
     "text": "Model Performance metrics:\n------------------------------\nAccuracy: 0.6296\nPrecision: 0.6722\nRecall: 0.6296\nF1 Score: 0.6049\n\nModel Classification report:\n------------------------------\n              precision    recall  f1-score   support\n\n    positive       0.59      0.88      0.70      7510\n    negative       0.76      0.38      0.51      7490\n\n    accuracy                           0.63     15000\n   macro avg       0.67      0.63      0.60     15000\nweighted avg       0.67      0.63      0.60     15000\n\n\nPrediction Confusion Matrix:\n------------------------------\n                 Predicted:         \n                   positive negative\nActual: positive       6601      909\n        negative       4647     2843\n"
    }
   ],
   "source": [
    "norm_test_reviews = tn.normalize_corpus(test_reviews)\n",
    "predicted_sentiments = [analyze_sentiment_sentiwordnet_lexicon(review, verbose=False) for review in norm_test_reviews]\n",
    "meu.display_model_performance_metrics(true_labels=test_sentiments, predicted_labels=predicted_sentiments, classes=['positive', 'negative'])"
   ]
  },
  {
   "cell_type": "markdown",
   "metadata": {},
   "source": [
    "## VADER Lexicon"
   ]
  },
  {
   "cell_type": "code",
   "execution_count": 16,
   "metadata": {},
   "outputs": [],
   "source": [
    "from nltk.sentiment.vader import SentimentIntensityAnalyzer\n",
    "\n",
    "def analyze_sentiment_vader_lexicon(review, \n",
    "                                    threshold=0.1,\n",
    "                                    verbose=False):\n",
    "    # pre-process text\n",
    "    review = tn.strip_html_tags(review)\n",
    "    review = tn.remove_accented_chars(review)\n",
    "    review = tn.expand_contractions(review)\n",
    "    \n",
    "    # analyze the sentiment for review\n",
    "    analyzer = SentimentIntensityAnalyzer()\n",
    "    scores = analyzer.polarity_scores(review)\n",
    "    # get aggregate scores and final sentiment\n",
    "    agg_score = scores['compound']\n",
    "    final_sentiment = 'positive' if agg_score >= threshold else 'negative'\n",
    "    \n",
    "    if verbose:\n",
    "        # display detailed sentiment statistics\n",
    "        positive = str(round(scores['pos'], 2)*100)+'%'\n",
    "        final = round(agg_score, 2)\n",
    "        negative = str(round(scores['neg'], 2)*100)+'%'\n",
    "        neutral = str(round(scores['neu'], 2)*100)+'%'\n",
    "        sentiment_frame = pd.DataFrame([[final_sentiment, final, positive, negative, neutral]],                     columns=pd.MultiIndex(levels=[['SENTIMENT STATS:'], \n",
    "                    ['Predicted Sentiment', 'Polarity Score', 'Positive', 'Negative', 'Neutral']], \n",
    "               codes=[[0,0,0,0,0],[0,1,2,3,4]]))\n",
    "        print(sentiment_frame)\n",
    "    \n",
    "    return final_sentiment"
   ]
  },
  {
   "cell_type": "code",
   "execution_count": 17,
   "metadata": {},
   "outputs": [
    {
     "output_type": "stream",
     "name": "stdout",
     "text": "REVIEW: no comment - stupid movie, acting average or worse... screenplay - no sense at all... SKIP IT!\nActual Sentiment: negative\n     SENTIMENT STATS:                                         \n  Predicted Sentiment Polarity Score Positive Negative Neutral\n0            negative           -0.8     0.0%    40.0%   60.0%\n------------------------------------------------------------\nREVIEW: I don't care if some people voted this movie to be bad. If you want the Truth this is a Very Good Movie! It has every thing a movie should have. You really should Get this one.\nActual Sentiment: positive\n     SENTIMENT STATS:                                                     \n  Predicted Sentiment Polarity Score Positive             Negative Neutral\n0            negative          -0.16    16.0%  14.000000000000002%   69.0%\n------------------------------------------------------------\nREVIEW: Worst horror film ever but funniest film ever rolled in one you have got to see this film it is so cheap it is unbeliaveble but you have to see it really!!!! P.s watch the carrot\nActual Sentiment: positive\n     SENTIMENT STATS:                                         \n  Predicted Sentiment Polarity Score Positive Negative Neutral\n0            positive           0.49    11.0%    11.0%   77.0%\n------------------------------------------------------------\n"
    }
   ],
   "source": [
    "for review, sentiment in zip(test_reviews[sample_review_ids], test_sentiments[sample_review_ids]):\n",
    "    print('REVIEW:', review)\n",
    "    print('Actual Sentiment:', sentiment)\n",
    "    pred = analyze_sentiment_vader_lexicon(review, threshold=0.4, verbose=True)\n",
    "    print('-'*60)"
   ]
  },
  {
   "cell_type": "code",
   "execution_count": 18,
   "metadata": {},
   "outputs": [
    {
     "output_type": "stream",
     "name": "stdout",
     "text": "Model Performance metrics:\n------------------------------\nAccuracy: 0.7109\nPrecision: 0.7235\nRecall: 0.7109\nF1 Score: 0.7067\n\nModel Classification report:\n------------------------------\n              precision    recall  f1-score   support\n\n    positive       0.67      0.83      0.74      7510\n    negative       0.78      0.59      0.67      7490\n\n    accuracy                           0.71     15000\n   macro avg       0.72      0.71      0.71     15000\nweighted avg       0.72      0.71      0.71     15000\n\n\nPrediction Confusion Matrix:\n------------------------------\n                 Predicted:         \n                   positive negative\nActual: positive       6235     1275\n        negative       3061     4429\n"
    }
   ],
   "source": [
    "predicted_sentiments = [analyze_sentiment_vader_lexicon(review, threshold=0.4, verbose=False) \n",
    "                            for review in test_reviews]\n",
    "meu.display_model_performance_metrics(true_labels=test_sentiments, predicted_labels=predicted_sentiments, \n",
    "                                      classes=['positive', 'negative'])"
   ]
  },
  {
   "cell_type": "code",
   "execution_count": null,
   "metadata": {},
   "outputs": [],
   "source": []
  }
 ],
 "metadata": {
  "language_info": {
   "codemirror_mode": {
    "name": "ipython",
    "version": 3
   },
   "file_extension": ".py",
   "mimetype": "text/x-python",
   "name": "python",
   "nbconvert_exporter": "python",
   "pygments_lexer": "ipython3",
   "version": "3.7.6-final"
  },
  "orig_nbformat": 2,
  "kernelspec": {
   "name": "python3",
   "display_name": "Python 3"
  }
 },
 "nbformat": 4,
 "nbformat_minor": 2
}