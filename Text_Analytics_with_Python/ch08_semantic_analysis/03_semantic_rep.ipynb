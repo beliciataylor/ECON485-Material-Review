{
 "nbformat": 4,
 "nbformat_minor": 2,
 "metadata": {
  "language_info": {
   "name": "python",
   "codemirror_mode": {
    "name": "ipython",
    "version": 3
   }
  },
  "orig_nbformat": 2,
  "file_extension": ".py",
  "mimetype": "text/x-python",
  "name": "python",
  "npconvert_exporter": "python",
  "pygments_lexer": "ipython3",
  "version": 3
 },
 "cells": [
  {
   "cell_type": "markdown",
   "metadata": {},
   "source": [
    "# Semantic Analysis\n",
    "\n",
    "* Analyzing Semantic Representations\n",
    "    1. Propositional Logic\n",
    "    2. First Order Logic"
   ]
  },
  {
   "cell_type": "markdown",
   "metadata": {},
   "source": [
    "# Analyzing Semantic Representations"
   ]
  },
  {
   "cell_type": "markdown",
   "metadata": {},
   "source": [
    "## Propositional Logic"
   ]
  },
  {
   "cell_type": "code",
   "execution_count": null,
   "metadata": {},
   "outputs": [],
   "source": [
    "import nltk\n",
    "import pandas as pd\n",
    "import os\n",
    "\n",
    "# assign symbols and propositions\n",
    "symbol_P = 'P'\n",
    "symbol_Q = 'Q'\n",
    "\n",
    "proposition_P = 'He is hungry'\n",
    "propositon_Q = 'He will eat a sandwich'"
   ]
  },
  {
   "cell_type": "code",
   "execution_count": null,
   "metadata": {},
   "outputs": [],
   "source": [
    "# assign various truth values to the propositions\n",
    "p_statuses = [False, False, True, True]\n",
    "q_statuses = [False, True, False, True]\n",
    "\n",
    "# assign the various expressions combining the logical operators\n",
    "conjunction = '(P & Q)'\n",
    "disjunction = '(P | Q)'\n",
    "implication = '(P -> Q)'\n",
    "equivalence = '(P <-> Q)'\n",
    "expressions = [conjunction, disjunction, implication, equivalence]\n",
    "expressions"
   ]
  },
  {
   "cell_type": "code",
   "execution_count": null,
   "metadata": {},
   "outputs": [],
   "source": [
    "# evaluate each expression using propositional logic\n",
    "results = []\n",
    "for status_p, status_q in zip(p_statuses, q_statuses):\n",
    "    dom = set([])\n",
    "    val = nltk.Valuation([(symbol_P, status_p), \n",
    "                          (symbol_Q, status_q)])\n",
    "    assignments = nltk.Assignment(dom)\n",
    "    model = nltk.Model(dom, val)\n",
    "    row = [status_p, status_q]\n",
    "    for expression in expressions:\n",
    "    # evaluate each expression based on proposition truth values\n",
    "        result = model.evaluate(expression, assignments) \n",
    "        row.append(result)\n",
    "    results.append(row)\n",
    "\n",
    "# build the result table\n",
    "columns = [symbol_P, symbol_Q, conjunction, \n",
    "           disjunction, implication, equivalence]           \n",
    "result_frame = pd.DataFrame(results, columns=columns)\n",
    "\n",
    "# display results\n",
    "print('P:', proposition_P)\n",
    "print('Q:', propositon_Q)\n",
    "print()\n",
    "print('Expression Outcomes:-')\n",
    "print(result_frame)"
   ]
  },
  {
   "cell_type": "markdown",
   "metadata": {},
   "source": [
    "## First Order Logic"
   ]
  },
  {
   "cell_type": "code",
   "execution_count": null,
   "metadata": {},
   "outputs": [],
   "source": [
    "import nltk\n",
    "import os\n",
    "\n",
    "# for reading FOL expressions\n",
    "read_expr = nltk.sem.Expression.fromstring\n",
    "\n",
    "# initialize theorem provers\n",
    "os.environ['PROVER9'] = r'E:/Users/beliciarodriguez/prover9/LADR-2009-11A/bin'\n",
    "prover = nltk.Prover9()"
   ]
  },
  {
   "cell_type": "code",
   "execution_count": null,
   "metadata": {},
   "outputs": [],
   "source": [
    "# set the rule expressions\n",
    "rule = read_expr('all x. all y. (jumps_over(x,y) -> -jumps_over(y, x))')\n",
    "\n",
    "# set the event occured\n",
    "event = read_expr('jumps_over(fox, dog)')\n",
    "\n",
    "# set the outcome we want to evaluate -- the goal\n",
    "test_outcome = read_expr('jumps_over(dog, fox)')\n",
    "\n",
    "# get the result (took out verbose=True)\n",
    "prover.prove(goal=test_outcome, assumptions=[event,rule])"
   ]
  },
  {
   "cell_type": "code",
   "execution_count": null,
   "metadata": {},
   "outputs": [],
   "source": [
    "# set the rule expression\n",
    "rule = read_expr('all x. (studies(x, exam) -> pass(x, exam))')\n",
    "\n",
    "# set the events and outcomes we want to determine\n",
    "event1 = read_expr('-studies(John, exam)')\n",
    "test_outcome1 = read_expr('pass(John, exam)')\n",
    "\n",
    "# get results\n",
    "prover.prove(goal=test_outcome1, assumptions=[event1, rule])"
   ]
  },
  {
   "cell_type": "code",
   "execution_count": null,
   "metadata": {},
   "outputs": [],
   "source": [
    "# set the events and outcomes we want to determine\n",
    "event2 = read_expr('studies(Pierre, exam)')\n",
    "test_outcome2 = read_expr('pass(Pierre, exam)')\n",
    "\n",
    "# get results\n",
    "prover.prove(goal=test_outcome2, assumptions=[event2, rule])"
   ]
  },
  {
   "cell_type": "code",
   "execution_count": null,
   "metadata": {},
   "outputs": [],
   "source": [
    "# define symbols (entities\\functions) and their values\n",
    "rules = \"\"\"\n",
    "    rover => r\n",
    "    felix => f\n",
    "    garfield => g\n",
    "    alex => a\n",
    "    dog => {r, a}\n",
    "    cat => {g}\n",
    "    fox => {f}\n",
    "    runs => {a, f}\n",
    "    sleeps => {r, g}\n",
    "    jumps_over => {(f, g), (a, g), (f, r), (a, r)}\n",
    "    \"\"\"\n",
    "\n",
    "val = nltk.Valuation.fromstring(rules)\n",
    "\n",
    "# view the valuation object of symbols and their assigned values (dictionary)\n",
    "val"
   ]
  },
  {
   "cell_type": "code",
   "execution_count": null,
   "metadata": {},
   "outputs": [],
   "source": [
    "# define domain and build FOL based model\n",
    "dom = {'r', 'f', 'g', 'a'}\n",
    "m = nltk.Model(dom, val)\n",
    "\n",
    "# evaluate various expressions\n",
    "m.evaluate('jumps_over(felix, rover) & dog(rover) & runs(rover)', None)"
   ]
  },
  {
   "cell_type": "code",
   "execution_count": null,
   "metadata": {},
   "outputs": [],
   "source": [
    "m.evaluate('jumps_over(felix, rover) & dog(rover) & -runs(rover)', None)"
   ]
  },
  {
   "cell_type": "code",
   "execution_count": null,
   "metadata": {},
   "outputs": [],
   "source": [
    "m.evaluate('jumps_over(alex, garfield) & dog(alex) & cat(garfield) & sleeps(garfield)', None)"
   ]
  },
  {
   "cell_type": "code",
   "execution_count": null,
   "metadata": {},
   "outputs": [],
   "source": [
    "# assign rover to x and felix to y in the domain\n",
    "g = nltk.Assignment(dom, [('x', 'r'), ('y', 'f')])\n",
    "\n",
    "# evaluate more expressions based on above assigned symbols\n",
    "m.evaluate('runs(y) & jumps_over(y, x) & sleeps(x)', g)"
   ]
  },
  {
   "cell_type": "code",
   "execution_count": null,
   "metadata": {},
   "outputs": [],
   "source": [
    "m.evaluate('exists y. (fox(y) & runs(y))', g)"
   ]
  },
  {
   "cell_type": "code",
   "execution_count": null,
   "metadata": {},
   "outputs": [],
   "source": [
    "# who are the animals who run?\n",
    "formula = read_expr('runs(x)')\n",
    "m.satisfiers(formula, 'x', g)"
   ]
  },
  {
   "cell_type": "code",
   "execution_count": null,
   "metadata": {},
   "outputs": [],
   "source": [
    "# animals who run and are also a fox?\n",
    "formula = read_expr('runs(x) & fox(x)')\n",
    "m.satisfiers(formula, 'x', g)"
   ]
  }
 ]
}