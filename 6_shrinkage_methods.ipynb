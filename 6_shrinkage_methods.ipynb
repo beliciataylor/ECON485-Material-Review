{
 "nbformat": 4,
 "nbformat_minor": 2,
 "metadata": {
  "language_info": {
   "name": "python",
   "codemirror_mode": {
    "name": "ipython",
    "version": 3
   },
   "version": "3.7.4-final"
  },
  "orig_nbformat": 2,
  "file_extension": ".py",
  "mimetype": "text/x-python",
  "name": "python",
  "npconvert_exporter": "python",
  "pygments_lexer": "ipython3",
  "version": 3,
  "kernelspec": {
   "name": "python3",
   "display_name": "Python 3"
  }
 },
 "cells": [
  {
   "cell_type": "markdown",
   "metadata": {},
   "source": [
    "# Shrinkage Methods\n",
    "* subset selection methods described before uses OLS to fit a linear model that contains a subset of predictors\n",
    "\n",
    "* an alternative is to fit a model containing all predictors using a technique that constrains, or 'regularizes,' the coefficient estimates, or equivalently, shrinks the coefficient estimates towards zero\n",
    "\n",
    "* previously, we wanted to find the most parsimonious model from following dataset:"
   ]
  },
  {
   "cell_type": "code",
   "execution_count": 1,
   "metadata": {},
   "outputs": [
    {
     "data": {
      "text/html": "<div>\n<style scoped>\n    .dataframe tbody tr th:only-of-type {\n        vertical-align: middle;\n    }\n\n    .dataframe tbody tr th {\n        vertical-align: top;\n    }\n\n    .dataframe thead th {\n        text-align: right;\n    }\n</style>\n<table border=\"1\" class=\"dataframe\">\n  <thead>\n    <tr style=\"text-align: right;\">\n      <th></th>\n      <th>price</th>\n      <th>crime</th>\n      <th>nox</th>\n      <th>rooms</th>\n      <th>dist</th>\n      <th>radial</th>\n      <th>proptax</th>\n      <th>stratio</th>\n      <th>lowstat</th>\n      <th>lprice</th>\n      <th>lnox</th>\n      <th>lproptax</th>\n    </tr>\n  </thead>\n  <tbody>\n    <tr>\n      <td>0</td>\n      <td>24000.0</td>\n      <td>0.006</td>\n      <td>5.38</td>\n      <td>6.57</td>\n      <td>4.09</td>\n      <td>1.0</td>\n      <td>29.600000</td>\n      <td>15.300000</td>\n      <td>4.98</td>\n      <td>10.085810</td>\n      <td>1.682688</td>\n      <td>5.690360</td>\n    </tr>\n    <tr>\n      <td>1</td>\n      <td>21599.0</td>\n      <td>0.027</td>\n      <td>4.69</td>\n      <td>6.42</td>\n      <td>4.97</td>\n      <td>2.0</td>\n      <td>24.200001</td>\n      <td>17.799999</td>\n      <td>9.14</td>\n      <td>9.980402</td>\n      <td>1.545433</td>\n      <td>5.488938</td>\n    </tr>\n    <tr>\n      <td>2</td>\n      <td>34700.0</td>\n      <td>0.027</td>\n      <td>4.69</td>\n      <td>7.18</td>\n      <td>4.97</td>\n      <td>2.0</td>\n      <td>24.200001</td>\n      <td>17.799999</td>\n      <td>4.03</td>\n      <td>10.454500</td>\n      <td>1.545433</td>\n      <td>5.488938</td>\n    </tr>\n    <tr>\n      <td>3</td>\n      <td>33400.0</td>\n      <td>0.032</td>\n      <td>4.58</td>\n      <td>7.00</td>\n      <td>6.06</td>\n      <td>3.0</td>\n      <td>22.200001</td>\n      <td>18.700001</td>\n      <td>2.94</td>\n      <td>10.416310</td>\n      <td>1.521699</td>\n      <td>5.402678</td>\n    </tr>\n    <tr>\n      <td>4</td>\n      <td>36199.0</td>\n      <td>0.069</td>\n      <td>4.58</td>\n      <td>7.15</td>\n      <td>6.06</td>\n      <td>3.0</td>\n      <td>22.200001</td>\n      <td>18.700001</td>\n      <td>5.33</td>\n      <td>10.496790</td>\n      <td>1.521699</td>\n      <td>5.402678</td>\n    </tr>\n  </tbody>\n</table>\n</div>",
      "text/plain": "     price  crime   nox  rooms  dist  radial    proptax    stratio  lowstat  \\\n0  24000.0  0.006  5.38   6.57  4.09     1.0  29.600000  15.300000     4.98   \n1  21599.0  0.027  4.69   6.42  4.97     2.0  24.200001  17.799999     9.14   \n2  34700.0  0.027  4.69   7.18  4.97     2.0  24.200001  17.799999     4.03   \n3  33400.0  0.032  4.58   7.00  6.06     3.0  22.200001  18.700001     2.94   \n4  36199.0  0.069  4.58   7.15  6.06     3.0  22.200001  18.700001     5.33   \n\n      lprice      lnox  lproptax  \n0  10.085810  1.682688  5.690360  \n1   9.980402  1.545433  5.488938  \n2  10.454500  1.545433  5.488938  \n3  10.416310  1.521699  5.402678  \n4  10.496790  1.521699  5.402678  "
     },
     "execution_count": 1,
     "metadata": {},
     "output_type": "execute_result"
    }
   ],
   "source": [
    "import pandas as pd\n",
    "import numpy as np\n",
    "import patsy\n",
    "import statsmodels.api as sm\n",
    "\n",
    "# download dataset and view first five observations\n",
    "df = pd.read_stata('http://fmwww.bc.edu/ec-p/data/wooldridge/hprice2.dta')\n",
    "df.head()"
   ]
  },
  {
   "cell_type": "markdown",
   "metadata": {},
   "source": [
    "* in the best, forward, and backward subset search, we found the best model to be the following:\n",
    "\n",
    "$ lprice = \\beta_0 + \\beta_1 lnox + \\beta_2 lproptax + \\beta_3 crime + \\beta_4 rooms + \\beta_5 dist + \\beta_6 radial + \\beta_7 stratio + \\beta_8 lowstat + e$\n",
    "\n",
    "* this model, however, excludes the possibility of interaction terms among predictors\n",
    "\n",
    "* consider a most completel potential model with all possible cross-products among regressors after they're recentered at mean\n",
    "\n",
    "$ lprice = \\beta_0 + \\beta_1 lnox + \\beta_2 lproptax + \\beta_3 crime + \\beta_4 rooms + \\beta_5 dist + \\beta_6 radial + \\beta_7 stratio + \\beta_8 lowstat + \\beta_9 (lnox - u_{lnox})(crime - u_{crime}) + \\beta_10 (lnox-u_{lnox})(crime - u_{crime}) + \\dots + \\beta_35 (radial-u_{radial})(lowstat - u_{lowstat}) + \\beta_36 (stratio-u_{stratio})(lowstat - u_{lowstat}) + e$\n",
    "\n",
    "* this model has 4x more regressors than the original number of predictors\n",
    "\n",
    "* $\\beta_2$ := constant elasticity of home prices with respect to property tax at meal value\n"
   ]
  },
  {
   "cell_type": "code",
   "execution_count": 2,
   "metadata": {},
   "outputs": [
    {
     "name": "stdout",
     "output_type": "stream",
     "text": "['price', 'crime', 'nox', 'rooms', 'dist', 'radial', 'proptax', 'stratio', 'lowstat', 'lprice', 'lnox', 'lproptax', 'lnox_dmean', 'lproptax_dmean', 'crime_dmean', 'rooms_dmean', 'dist_dmean', 'radial_dmean', 'stratio_dmean', 'lowstat_dmean']\n"
    }
   ],
   "source": [
    "# add all cross-products among demeaned set of predictors to original data frame\n",
    "variables = ['lnox','lproptax','crime','rooms','dist','radial','stratio','lowstat']\n",
    "for x in variables:\n",
    "    df[x+'_dmean'] = df[x] - df[x].mean(skipna = True)\n",
    "print(list(df))"
   ]
  },
  {
   "cell_type": "code",
   "execution_count": null,
   "metadata": {},
   "outputs": [],
   "source": []
  }
 ]
}